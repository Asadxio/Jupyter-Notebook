{
 "cells": [
  {
   "cell_type": "code",
   "execution_count": 2,
   "id": "077ac41d",
   "metadata": {},
   "outputs": [
    {
     "name": "stdout",
     "output_type": "stream",
     "text": [
      "Enter a number:3\n",
      "3 is divisible by 3 \n"
     ]
    }
   ],
   "source": [
    "num=int(input(\"Enter a number:\"))\n",
    "last_digit=num%10\n",
    "if(last_digit%3==0):\n",
    "    print(\"{} is divisible by 3 \".format(last_digit))\n",
    "else:\n",
    "    print(\"{} is not divisible by 3\".format(last_digit))"
   ]
  },
  {
   "cell_type": "code",
   "execution_count": 4,
   "id": "56aeaba4",
   "metadata": {},
   "outputs": [
    {
     "name": "stdout",
     "output_type": "stream",
     "text": [
      "Input a dog's age in human years: 3\n",
      "The dog's age in dog's years is 25.\n"
     ]
    }
   ],
   "source": [
    "age = int(input(\"Input a dog's age in human years: \"))\n",
    "\n",
    "if age <= 2:\n",
    "  dog_years = age * 10.5\n",
    "else:\n",
    "  dog_years = 2 * 10.5 + (age - 2) * 4\n",
    "\n",
    "print(f\"The dog's age in dog's years is {int(dog_years)}.\")\n"
   ]
  },
  {
   "cell_type": "code",
   "execution_count": 5,
   "id": "1e8de8ee",
   "metadata": {},
   "outputs": [
    {
     "name": "stdout",
     "output_type": "stream",
     "text": [
      "Input a dog's age in human years: 3\n",
      "The dog's age in dog's years is 25\n"
     ]
    }
   ],
   "source": [
    "h_age = int(input(\"Input a dog's age in human years: \"))\n",
    "\n",
    "if h_age < 0:\n",
    "    print(\"Age must be positive number.\")\n",
    "    exit()\n",
    "elif h_age <= 2:\n",
    "    d_age = h_age * 10.5\n",
    "else:\n",
    "    d_age = 21 + (h_age - 2)*4\n",
    "\n",
    "print(\"The dog's age in dog's years is\", d_age)"
   ]
  },
  {
   "cell_type": "code",
   "execution_count": 8,
   "id": "33589d33",
   "metadata": {},
   "outputs": [
    {
     "name": "stdout",
     "output_type": "stream",
     "text": [
      "Enter a string: ASF\n",
      "The string does not represent an integer.\n"
     ]
    }
   ],
   "source": [
    "string = input(\"Enter a string: \")\n",
    "\n",
    "try:\n",
    "  int(string)\n",
    "  print(\"The string represents an integer.\")\n",
    "except ValueError:\n",
    "  print(\"The string does not represent an integer.\")\n"
   ]
  },
  {
   "cell_type": "code",
   "execution_count": 10,
   "id": "dd6f302e",
   "metadata": {},
   "outputs": [
    {
     "name": "stdout",
     "output_type": "stream",
     "text": [
      "Enter the first integer: 323\n",
      "Enter the second integer: 234\n",
      "The sum of 323 and 234 is 557.\n"
     ]
    }
   ],
   "source": [
    "def sum_with_threshold(a, b):\n",
    "  result = a + b\n",
    "  if 15 <= result <= 20:\n",
    "    return 20\n",
    "  else:\n",
    "    return result\n",
    "\n",
    "a = int(input(\"Enter the first integer: \"))\n",
    "b = int(input(\"Enter the second integer: \"))\n",
    "\n",
    "result = sum_with_threshold(a, b)\n",
    "print(f\"The sum of {a} and {b} is {result}.\")\n"
   ]
  },
  {
   "cell_type": "code",
   "execution_count": 14,
   "id": "dbf9611a",
   "metadata": {},
   "outputs": [
    {
     "name": "stdout",
     "output_type": "stream",
     "text": [
      "Enter a series of numbers: 12\n",
      "Number of even numbers: 1\n",
      "Number of odd numbers: 0\n"
     ]
    }
   ],
   "source": [
    "numbers = [int(x) for x in input(\"Enter a series of numbers: \").split()]\n",
    "\n",
    "even_count = 0\n",
    "odd_count = 0\n",
    "\n",
    "for number in numbers:\n",
    "  if number % 2 == 0:\n",
    "    even_count += 1\n",
    "  else:\n",
    "    odd_count += 1\n",
    "\n",
    "print(f\"Number of even numbers: {even_count}\")\n",
    "print(f\"Number of odd numbers: {odd_count}\")\n"
   ]
  },
  {
   "cell_type": "code",
   "execution_count": 15,
   "id": "d1ae3a61",
   "metadata": {},
   "outputs": [
    {
     "name": "stdout",
     "output_type": "stream",
     "text": [
      "Number of even numbers : 4\n",
      "Number of odd numbers : 5\n"
     ]
    }
   ],
   "source": [
    "numbers = (1, 2, 3, 4, 5, 6, 7, 8, 9) # Declaring the tuple\n",
    "count_odd = 0\n",
    "count_even = 0\n",
    "for x in numbers:\n",
    "        if not x % 2:\n",
    "            count_even+=1\n",
    "        else:\n",
    "            count_odd+=1\n",
    "print(\"Number of even numbers :\",count_even)\n",
    "print(\"Number of odd numbers :\",count_odd)"
   ]
  },
  {
   "cell_type": "code",
   "execution_count": 18,
   "id": "fc463e51",
   "metadata": {},
   "outputs": [
    {
     "name": "stdout",
     "output_type": "stream",
     "text": [
      "Enter a number: -1\n",
      "The number is negative.\n"
     ]
    }
   ],
   "source": [
    "number = int(input(\"Enter a number: \"))\n",
    "\n",
    "if number > 0:\n",
    "  print(\"The number is positive.\")\n",
    "elif number < 0:\n",
    "  print(\"The number is negative.\")\n",
    "else:\n",
    "  print(\"The number is zero.\")\n"
   ]
  },
  {
   "cell_type": "code",
   "execution_count": 20,
   "id": "09b2ea97",
   "metadata": {},
   "outputs": [
    {
     "name": "stdout",
     "output_type": "stream",
     "text": [
      "Enter the first number: 34\n",
      "Enter the second number: 3445\n",
      "The maximum of 34 and 3445 is 3445.\n"
     ]
    }
   ],
   "source": [
    "a = int(input(\"Enter the first number: \"))\n",
    "b = int(input(\"Enter the second number: \"))\n",
    "\n",
    "if a > b:\n",
    "  print(f\"The maximum of {a} and {b} is {a}.\")\n",
    "else:\n",
    "  print(f\"The maximum of {a} and {b} is {b}.\")\n"
   ]
  },
  {
   "cell_type": "markdown",
   "id": "de38464c",
   "metadata": {},
   "source": [
    "number = int(input(\"Enter a number: \"))\n",
    "\n",
    "if number % 7 == 0:\n",
    "  print(\"The number is a multiple of 7.\")\n",
    "else:\n",
    "  print(\"The number is not a multiple of 7.\")\n"
   ]
  },
  {
   "cell_type": "code",
   "execution_count": 22,
   "id": "0a607a69",
   "metadata": {},
   "outputs": [
    {
     "name": "stdout",
     "output_type": "stream",
     "text": [
      "Enter a number: 14\n",
      "The number is a multiple of 7.\n"
     ]
    }
   ],
   "source": [
    "number = int(input(\"Enter a number: \"))\n",
    "\n",
    "if number % 7 == 0:\n",
    "  print(\"The number is a multiple of 7.\")\n",
    "else:\n",
    "  print(\"The number is not a multiple of 7.\")\n"
   ]
  },
  {
   "cell_type": "code",
   "execution_count": 4,
   "id": "f5648b9d",
   "metadata": {},
   "outputs": [
    {
     "name": "stdout",
     "output_type": "stream",
     "text": [
      "Enter a list of values, separated by spaces: [1, 4, 6, 7, 9, 3, 5\n",
      "4,\n",
      "7,\n",
      "3,\n"
     ]
    }
   ],
   "source": [
    "user_list = input(\"Enter a list of values, separated by spaces: \")\n",
    "\n",
    "user_list = user_list.split()\n",
    "\n",
    "for i in range(1, len(user_list), 2):\n",
    "  print(user_list[i])"
   ]
  },
  {
   "cell_type": "code",
   "execution_count": 3,
   "id": "ae9659e0",
   "metadata": {},
   "outputs": [
    {
     "name": "stdout",
     "output_type": "stream",
     "text": [
      "The original list : [1, 4, 6, 7, 9, 3, 5]\n",
      "The alternate element list is : [4, 7, 3]\n"
     ]
    }
   ],
   "source": [
    "\n",
    "test_list = [1, 4, 6, 7, 9, 3, 5]\n",
    "\n",
    "print(\"The original list : \" + str(test_list))\n",
    "res = []\n",
    "for i in range(1, len(test_list), 2):\n",
    "    res.append(test_list[i])\n",
    "print(\"The alternate element list is : \" + str(res))"
   ]
  },
  {
   "cell_type": "code",
   "execution_count": 5,
   "id": "7db24ab8",
   "metadata": {},
   "outputs": [
    {
     "name": "stdout",
     "output_type": "stream",
     "text": [
      "Enter a list of strings, separated by spaces: sgsg, wetwertwr, wtwtt\n",
      "The maximum length of the strings is: 10\n"
     ]
    }
   ],
   "source": [
    "string_list = input(\"Enter a list of strings, separated by spaces: \")\n",
    "\n",
    "string_list = string_list.split()\n",
    "\n",
    "max_length = 0\n",
    "\n",
    "for string in string_list:\n",
    "  if len(string) > max_length:\n",
    "    max_length = len(string)\n",
    "\n",
    "print(\"The maximum length of the strings is:\", max_length)\n"
   ]
  },
  {
   "cell_type": "code",
   "execution_count": 6,
   "id": "8152409e",
   "metadata": {},
   "outputs": [
    {
     "name": "stdout",
     "output_type": "stream",
     "text": [
      "Enter a list of strings, separated by spaces: werwetwet, sdfgrtgrtgr, gdrfgergerg, sdfgdrfgrg, rgerddhdthtdhth, drhethetyhetyhe\n",
      "The maximum length of the strings is 16.\n"
     ]
    }
   ],
   "source": [
    "# Get list of strings from user\n",
    "user_list = input(\"Enter a list of strings, separated by spaces: \")\n",
    "\n",
    "# Split the list into individual strings\n",
    "user_list = user_list.split()\n",
    "\n",
    "# Initialize a variable to keep track of the maximum length\n",
    "max_length = 0\n",
    "\n",
    "# Find the maximum length of the strings in the list\n",
    "for s in user_list:\n",
    "  if len(s) > max_length:\n",
    "    max_length = len(s)\n",
    "\n",
    "# Print the maximum length\n",
    "print(f\"The maximum length of the strings is {max_length}.\")\n"
   ]
  },
  {
   "cell_type": "code",
   "execution_count": 7,
   "id": "f697d00e",
   "metadata": {},
   "outputs": [
    {
     "name": "stdout",
     "output_type": "stream",
     "text": [
      "Enter a list of values, separated by spaces: 123123, 214124, 12123532, 346536, 576567, 141414\n",
      "['141414', '123123,', '214124,', '12123532,', '346536,', '576567,']\n"
     ]
    }
   ],
   "source": [
    "user_list = input(\"Enter a list of values, separated by spaces: \")\n",
    "\n",
    "user_list = user_list.split()\n",
    "\n",
    "user_list.insert(0, user_list.pop())\n",
    "\n",
    "print(user_list)\n"
   ]
  },
  {
   "cell_type": "code",
   "execution_count": 8,
   "id": "185098a8",
   "metadata": {},
   "outputs": [
    {
     "name": "stdout",
     "output_type": "stream",
     "text": [
      "Sum of 1 row: 6\n",
      "Sum of 2 row: 15\n",
      "Sum of 3 row: 24\n",
      "Sum of 1 column: 12\n",
      "Sum of 2 column: 15\n",
      "Sum of 3 column: 18\n"
     ]
    }
   ],
   "source": [
    "a = [    \n",
    "        [1, 2, 3],  \n",
    "        [4, 5, 6],  \n",
    "        [7, 8, 9]  \n",
    "    ];  \n",
    "   \n",
    "rows = len(a);  \n",
    "cols = len(a[0]);  \n",
    "   \n",
    "for i in range(0, rows):  \n",
    "    sumRow = 0;  \n",
    "    for j in range(0, cols):  \n",
    "        sumRow = sumRow + a[i][j];  \n",
    "    print(\"Sum of \" + str(i+1) +\" row: \" + str(sumRow));  \n",
    "   \n",
    "for i in range(0, rows):  \n",
    "    sumCol = 0;  \n",
    "    for j in range(0, cols):  \n",
    "        sumCol = sumCol + a[j][i];  \n",
    "    print(\"Sum of \" + str(i+1) +\" column: \" + str(sumCol));"
   ]
  },
  {
   "cell_type": "code",
   "execution_count": 9,
   "id": "60921ec9",
   "metadata": {},
   "outputs": [
    {
     "name": "stdout",
     "output_type": "stream",
     "text": [
      "Sum of row 1 = 15\n",
      "Sum of row 2 = 40\n",
      "Sum of row 3 = 65\n"
     ]
    }
   ],
   "source": [
    "matrix = [[1, 2, 3, 4, 5], [6, 7, 8, 9, 10], [11, 12, 13, 14, 15]]\n",
    "\n",
    "num_rows = len(matrix)\n",
    "num_cols = len(matrix[0])\n",
    "\n",
    "for i in range(num_rows):\n",
    "  row_sum = 0\n",
    "\n",
    "  for j in range(num_cols):\n",
    "    row_sum += matrix[i][j]\n",
    "  print(f\"Sum of row {i+1} = {row_sum}\")"
   ]
  },
  {
   "cell_type": "code",
   "execution_count": 10,
   "id": "440558c1",
   "metadata": {},
   "outputs": [
    {
     "name": "stdout",
     "output_type": "stream",
     "text": [
      "[17, 15, 4]\n",
      "[10, 12, 9]\n",
      "[11, 13, 18]\n"
     ]
    }
   ],
   "source": [
    "X = [[12,7,3],\n",
    "    [4 ,5,6],\n",
    "    [7 ,8,9]]\n",
    "\n",
    "Y = [[5,8,1],\n",
    "    [6,7,3],\n",
    "    [4,5,9]]\n",
    "\n",
    "result = [[X[i][j] + Y[i][j]  for j in range(len(X[0]))] for i in range(len(X))]\n",
    "\n",
    "for r in result:\n",
    "   print(r)"
   ]
  },
  {
   "cell_type": "code",
   "execution_count": 11,
   "id": "3388005b",
   "metadata": {},
   "outputs": [
    {
     "name": "stdout",
     "output_type": "stream",
     "text": [
      "[114, 160, 60, 27]\n",
      "[74, 97, 73, 14]\n",
      "[119, 157, 112, 23]\n"
     ]
    }
   ],
   "source": [
    "X = [[12,7,3],\n",
    "    [4 ,5,6],\n",
    "    [7 ,8,9]]\n",
    "Y = [[5,8,1,2],\n",
    "    [6,7,3,0],\n",
    "    [4,5,9,1]]\n",
    "result = [[sum(a*b for a,b in zip(X_row,Y_col)) for Y_col in zip(*Y)] for X_row in X]\n",
    "\n",
    "for r in result:\n",
    "   print(r)"
   ]
  },
  {
   "cell_type": "code",
   "execution_count": 13,
   "id": "a9762d75",
   "metadata": {},
   "outputs": [
    {
     "name": "stdout",
     "output_type": "stream",
     "text": [
      "[[58, 64], [139, 154]]\n"
     ]
    }
   ],
   "source": [
    "matrix1 = [[1, 2, 3], [4, 5, 6]]\n",
    "\n",
    "matrix2 = [[7, 8], [9, 10], [11, 12]]\n",
    "\n",
    "num_rows1 = len(matrix1)\n",
    "num_cols1 = len(matrix1[0])\n",
    "\n",
    "num_rows2 = len(matrix2)\n",
    "num_cols2 = len(matrix2[0])\n",
    "\n",
    "if num_cols1 != num_rows2:\n",
    "  print(\"Error: The matrices cannot be multiplied.\")\n",
    "else:\n",
    "  product_matrix = [[0] * num_cols2 for _ in range(num_rows1)]\n",
    "\n",
    "  for i in range(num_rows1):\n",
    "    for j in range(num_cols2):\n",
    "      sum_of_products = 0\n",
    "      for k in range(num_rows2):\n",
    "        sum_of_products += matrix1[i][k] * matrix2[k][j]\n",
    "      product_matrix[i][j] = sum_of_products\n",
    "\n",
    "  print(product_matrix)\n"
   ]
  },
  {
   "cell_type": "code",
   "execution_count": 15,
   "id": "ad55dd1b",
   "metadata": {},
   "outputs": [
    {
     "name": "stdout",
     "output_type": "stream",
     "text": [
      "Enter a list of non-negative integers, separated by spaces: 213, 214, 124, 4,534\n"
     ]
    },
    {
     "ename": "ValueError",
     "evalue": "invalid literal for int() with base 10: '213,'",
     "output_type": "error",
     "traceback": [
      "\u001b[1;31m---------------------------------------------------------------------------\u001b[0m",
      "\u001b[1;31mValueError\u001b[0m                                Traceback (most recent call last)",
      "\u001b[1;32m~\\AppData\\Local\\Temp\\ipykernel_712\\833666853.py\u001b[0m in \u001b[0;36m<module>\u001b[1;34m\u001b[0m\n\u001b[0;32m      1\u001b[0m \u001b[0muser_list\u001b[0m \u001b[1;33m=\u001b[0m \u001b[0minput\u001b[0m\u001b[1;33m(\u001b[0m\u001b[1;34m\"Enter a list of non-negative integers, separated by spaces: \"\u001b[0m\u001b[1;33m)\u001b[0m\u001b[1;33m\u001b[0m\u001b[1;33m\u001b[0m\u001b[0m\n\u001b[1;32m----> 2\u001b[1;33m \u001b[0muser_list\u001b[0m \u001b[1;33m=\u001b[0m \u001b[1;33m[\u001b[0m\u001b[0mint\u001b[0m\u001b[1;33m(\u001b[0m\u001b[0mx\u001b[0m\u001b[1;33m)\u001b[0m \u001b[1;32mfor\u001b[0m \u001b[0mx\u001b[0m \u001b[1;32min\u001b[0m \u001b[0muser_list\u001b[0m\u001b[1;33m.\u001b[0m\u001b[0msplit\u001b[0m\u001b[1;33m(\u001b[0m\u001b[1;33m)\u001b[0m\u001b[1;33m]\u001b[0m\u001b[1;33m\u001b[0m\u001b[1;33m\u001b[0m\u001b[0m\n\u001b[0m\u001b[0;32m      3\u001b[0m \u001b[1;33m\u001b[0m\u001b[0m\n\u001b[0;32m      4\u001b[0m \u001b[0mtarget_sum\u001b[0m \u001b[1;33m=\u001b[0m \u001b[0mint\u001b[0m\u001b[1;33m(\u001b[0m\u001b[0minput\u001b[0m\u001b[1;33m(\u001b[0m\u001b[1;34m\"Enter the target sum: \"\u001b[0m\u001b[1;33m)\u001b[0m\u001b[1;33m)\u001b[0m\u001b[1;33m\u001b[0m\u001b[1;33m\u001b[0m\u001b[0m\n\u001b[0;32m      5\u001b[0m \u001b[1;33m\u001b[0m\u001b[0m\n",
      "\u001b[1;32m~\\AppData\\Local\\Temp\\ipykernel_712\\833666853.py\u001b[0m in \u001b[0;36m<listcomp>\u001b[1;34m(.0)\u001b[0m\n\u001b[0;32m      1\u001b[0m \u001b[0muser_list\u001b[0m \u001b[1;33m=\u001b[0m \u001b[0minput\u001b[0m\u001b[1;33m(\u001b[0m\u001b[1;34m\"Enter a list of non-negative integers, separated by spaces: \"\u001b[0m\u001b[1;33m)\u001b[0m\u001b[1;33m\u001b[0m\u001b[1;33m\u001b[0m\u001b[0m\n\u001b[1;32m----> 2\u001b[1;33m \u001b[0muser_list\u001b[0m \u001b[1;33m=\u001b[0m \u001b[1;33m[\u001b[0m\u001b[0mint\u001b[0m\u001b[1;33m(\u001b[0m\u001b[0mx\u001b[0m\u001b[1;33m)\u001b[0m \u001b[1;32mfor\u001b[0m \u001b[0mx\u001b[0m \u001b[1;32min\u001b[0m \u001b[0muser_list\u001b[0m\u001b[1;33m.\u001b[0m\u001b[0msplit\u001b[0m\u001b[1;33m(\u001b[0m\u001b[1;33m)\u001b[0m\u001b[1;33m]\u001b[0m\u001b[1;33m\u001b[0m\u001b[1;33m\u001b[0m\u001b[0m\n\u001b[0m\u001b[0;32m      3\u001b[0m \u001b[1;33m\u001b[0m\u001b[0m\n\u001b[0;32m      4\u001b[0m \u001b[0mtarget_sum\u001b[0m \u001b[1;33m=\u001b[0m \u001b[0mint\u001b[0m\u001b[1;33m(\u001b[0m\u001b[0minput\u001b[0m\u001b[1;33m(\u001b[0m\u001b[1;34m\"Enter the target sum: \"\u001b[0m\u001b[1;33m)\u001b[0m\u001b[1;33m)\u001b[0m\u001b[1;33m\u001b[0m\u001b[1;33m\u001b[0m\u001b[0m\n\u001b[0;32m      5\u001b[0m \u001b[1;33m\u001b[0m\u001b[0m\n",
      "\u001b[1;31mValueError\u001b[0m: invalid literal for int() with base 10: '213,'"
     ]
    }
   ],
   "source": [
    "user_list = input(\"Enter a list of non-negative integers, separated by spaces: \")\n",
    "user_list = [int(x) for x in user_list.split()]\n",
    "\n",
    "target_sum = int(input(\"Enter the target sum: \"))\n",
    "\n",
    "start_index = 0\n",
    "end_index = 0\n",
    "\n",
    "while end_index < len(user_list):\n",
    "  sub_sum = 0\n",
    "  for i in range(start_index, end_index+1):\n",
    "    sub_sum += user_list[i]\n",
    "  if sub_sum == target_sum:\n",
    "    print(f\"The sub-list is {user_list[start_index:end_index+1]}.\")\n",
    "    break\n",
    "  elif sub_sum > target_sum:\n",
    "    start_index += 1\n",
    "  else:\n",
    "    end_index += 1\n",
    "\n",
    "if end_index == len(user_list):\n",
    "  print(\"No sub-list with the target sum was found.\")\n"
   ]
  },
  {
   "cell_type": "code",
   "execution_count": 16,
   "id": "27aaf8ce",
   "metadata": {},
   "outputs": [
    {
     "name": "stdout",
     "output_type": "stream",
     "text": [
      "Missing numbers from 4 to 4\n",
      "Missing numbers from 8 to 8\n"
     ]
    }
   ],
   "source": [
    "def find_missing_numbers(numbers):\n",
    "    current = numbers[0]\n",
    "    for number in numbers:\n",
    "        if number != current:\n",
    "            print(f\"Missing numbers from {current} to {number-1}\")\n",
    "        current = number + 1\n",
    "\n",
    "numbers = [1, 2, 3, 5, 6, 7, 9, 10]\n",
    "find_missing_numbers(numbers)\n"
   ]
  },
  {
   "cell_type": "code",
   "execution_count": 17,
   "id": "7141b2d5",
   "metadata": {},
   "outputs": [
    {
     "name": "stdout",
     "output_type": "stream",
     "text": [
      "7\n"
     ]
    }
   ],
   "source": [
    "def find_longest_consecutive_sequence(numbers):\n",
    "    numbers.sort()\n",
    "    max_length = 1\n",
    "    current_length = 1\n",
    "    for i in range(1, len(numbers)):\n",
    "        if numbers[i] == numbers[i-1] + 1:\n",
    "            current_length += 1\n",
    "        else:\n",
    "            max_length = max(max_length, current_length)\n",
    "            current_length = 1\n",
    "    return max(max_length, current_length)\n",
    "\n",
    "numbers = [2, 4, 3, 5, 1, 7, 6]\n",
    "print(find_longest_consecutive_sequence(numbers))\n"
   ]
  },
  {
   "cell_type": "code",
   "execution_count": 18,
   "id": "6eca389f",
   "metadata": {},
   "outputs": [
    {
     "name": "stdout",
     "output_type": "stream",
     "text": [
      "[1, 2, 3, 4, 5, 6, 7, 8, 9]\n"
     ]
    }
   ],
   "source": [
    "lists = [[1, 2, 3], [4, 5, 6], [7, 8, 9]]\n",
    "concatenated_list = [elem for sublist in lists for elem in sublist]\n",
    "print(concatenated_list)\n"
   ]
  },
  {
   "cell_type": "code",
   "execution_count": 20,
   "id": "ca39764a",
   "metadata": {},
   "outputs": [
    {
     "name": "stdout",
     "output_type": "stream",
     "text": [
      "{1: 3, 2: 2, 3: 2}\n"
     ]
    }
   ],
   "source": [
    "def count_occurrences(elements):\n",
    "    counts = {}\n",
    "    for element in elements:\n",
    "        if element in counts:\n",
    "            counts[element] += 1\n",
    "        else:\n",
    "            counts[element] = 1\n",
    "    return counts\n",
    "\n",
    "elements = [1, 2, 3, 2, 3, 1, 1]\n",
    "print(count_occurrences(elements))"
   ]
  },
  {
   "cell_type": "code",
   "execution_count": 21,
   "id": "98277e2b",
   "metadata": {},
   "outputs": [
    {
     "name": "stdout",
     "output_type": "stream",
     "text": [
      "[1, 2, 3, 4, 5]\n",
      "[5, 4, 3, 2, 1]\n"
     ]
    }
   ],
   "source": [
    "my_numbers = [1,2,3,4,5]\n",
    "my_numbers_reversed = my_numbers[::-1]\n",
    "print(my_numbers)\n",
    "print(my_numbers_reversed)\n"
   ]
  },
  {
   "cell_type": "code",
   "execution_count": 24,
   "id": "6b9b2bc2",
   "metadata": {},
   "outputs": [
    {
     "name": "stdout",
     "output_type": "stream",
     "text": [
      "[1, 2, 3, 4, 5]\n",
      "[5, 4, 3, 2, 1]\n"
     ]
    }
   ],
   "source": [
    "def reverse_list(elements):\n",
    "    return elements[::-1]\n",
    "\n",
    "elements = [1, 2, 3, 4, 5]\n",
    "print(elements)\n",
    "print(reverse_list(elements))\n"
   ]
  },
  {
   "cell_type": "code",
   "execution_count": 25,
   "id": "699e3ef3",
   "metadata": {},
   "outputs": [
    {
     "name": "stdout",
     "output_type": "stream",
     "text": [
      "4\n"
     ]
    }
   ],
   "source": [
    "def count_pairs_with_sum(elements, K):\n",
    "    count = 0\n",
    "    for element in elements:\n",
    "        if K - element in elements:\n",
    "            count += 1\n",
    "    return count\n",
    "\n",
    "elements = [1, 2, 3, 4, 5]\n",
    "K = 5\n",
    "print(count_pairs_with_sum(elements, K))"
   ]
  },
  {
   "cell_type": "code",
   "execution_count": 26,
   "id": "bd6cde03",
   "metadata": {},
   "outputs": [
    {
     "name": "stdout",
     "output_type": "stream",
     "text": [
      "Lists differ at index 3\n"
     ]
    }
   ],
   "source": [
    "def compare_lists(list1, list2):\n",
    "    for i in range(len(list1)):\n",
    "        if list1[i] != list2[i]:\n",
    "            print(f\"Lists differ at index {i}\")\n",
    "            return\n",
    "    print(\"Lists are the same\")\n",
    "\n",
    "list1 = [1, 2, 3, 4, 5]\n",
    "list2 = [1, 2, 3, 5, 5]\n",
    "compare_lists(list1, list2)\n"
   ]
  },
  {
   "cell_type": "code",
   "execution_count": 28,
   "id": "71e7dc0d",
   "metadata": {},
   "outputs": [
    {
     "name": "stdout",
     "output_type": "stream",
     "text": [
      "4\n"
     ]
    }
   ],
   "source": [
    "def find_first_repeating_element(elements):\n",
    "    seen_elements = {}\n",
    "    for i, element in enumerate(elements):\n",
    "        if element in seen_elements:\n",
    "            return element\n",
    "        seen_elements[element] = i\n",
    "    return None\n",
    "\n",
    "elements = [1, 2, 3, 4, 5, 4, 3, 2, 1]\n",
    "print(find_first_repeating_element(elements))"
   ]
  },
  {
   "cell_type": "code",
   "execution_count": null,
   "id": "5078a5a7",
   "metadata": {},
   "outputs": [],
   "source": []
  }
 ],
 "metadata": {
  "kernelspec": {
   "display_name": "Python 3 (ipykernel)",
   "language": "python",
   "name": "python3"
  },
  "language_info": {
   "codemirror_mode": {
    "name": "ipython",
    "version": 3
   },
   "file_extension": ".py",
   "mimetype": "text/x-python",
   "name": "python",
   "nbconvert_exporter": "python",
   "pygments_lexer": "ipython3",
   "version": "3.9.13"
  }
 },
 "nbformat": 4,
 "nbformat_minor": 5
}
