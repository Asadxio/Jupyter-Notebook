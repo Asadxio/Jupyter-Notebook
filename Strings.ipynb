{
 "cells": [
  {
   "cell_type": "code",
   "execution_count": 1,
   "id": "d1af226e",
   "metadata": {},
   "outputs": [],
   "source": [
    "def strinng(s):\n",
    "    d={\"UPPER_CASE\":0, \"LOWER_CASE\":0}\n",
    "    for c in s:\n",
    "        if c.isupper():\n",
    "           d[\"UPPER_CASE\"]+=1\n",
    "        elif c.islower():\n",
    "           d[\"LOWER_CASE\"]+=1\n",
    "        else:\n",
    "           pass\n",
    "    print (\"Original String : \", s)\n",
    "    print (\"No. of Upper case characters : \", d[\"UPPER_CASE\"])\n",
    "    print (\"No. of Lower case Characters : \", d[\"LOWER_CASE\"])\n",
    "\n",
    "Strinng=('Ekeeda Is The Best Destination for DS')"
   ]
  },
  {
   "cell_type": "code",
   "execution_count": 4,
   "id": "10402084",
   "metadata": {},
   "outputs": [
    {
     "name": "stdout",
     "output_type": "stream",
     "text": [
      "Original String :  Ekeeda Is The Best Destination for DS\n",
      "No. of Upper case characters :  7\n",
      "No. of Lower case Characters :  24\n"
     ]
    }
   ],
   "source": [
    "def string_test(s):\n",
    "    d={\"UPPER_CASE\":0, \"LOWER_CASE\":0}\n",
    "    for c in s:\n",
    "        if c.isupper():\n",
    "           d[\"UPPER_CASE\"]+=1\n",
    "        elif c.islower():\n",
    "           d[\"LOWER_CASE\"]+=1\n",
    "        else:\n",
    "           pass\n",
    "    print (\"Original String : \", s)\n",
    "    print (\"No. of Upper case characters : \", d[\"UPPER_CASE\"])\n",
    "    print (\"No. of Lower case Characters : \", d[\"LOWER_CASE\"])\n",
    "\n",
    "string_test('Ekeeda Is The Best Destination for DS')"
   ]
  },
  {
   "cell_type": "code",
   "execution_count": 11,
   "id": "3d6cfce2",
   "metadata": {},
   "outputs": [
    {
     "name": "stdout",
     "output_type": "stream",
     "text": [
      "please enter first number: 234\n",
      "please enter second number: 32\n",
      "Subtraction is:  266\n"
     ]
    }
   ],
   "source": [
    "#python program to subtract two numbers using function\n",
    "\n",
    "def subtraction(x,y):  #function definifion for subtraction\n",
    "    sub= x+y return sub\n",
    "    return sub\n",
    "num1=int(input(\"please enter first number: \"))#input from user to num1\n",
    "num2=int(input(\"please enter second number: \"))#input from user to num2\n",
    "\n",
    "print(\"Subtraction is: \",subtraction(num1,num2))#call the function"
   ]
  },
  {
   "cell_type": "code",
   "execution_count": 22,
   "id": "69c129f7",
   "metadata": {},
   "outputs": [
    {
     "name": "stdout",
     "output_type": "stream",
     "text": [
      "please enter first number: 34\n",
      "please enter second number: 3\n",
      "Subtraction is:  31\n"
     ]
    }
   ],
   "source": [
    "#python program to subtract two numbers using function\n",
    "\n",
    "def CALCULATTION(x,y):  #function definifion for subtraction\n",
    "    sub=(xy,x-y)\n",
    "    return sub\n",
    "num1=int(input(\"please enter first number: \"))#input from user to num1\n",
    "num2=int(input(\"please enter second number: \"))#input from user to num2\n",
    "\n",
    "print(\"Subtraction is: \",subtraction(num1,num2))#call the function"
   ]
  },
  {
   "cell_type": "code",
   "execution_count": 4,
   "id": "53120757",
   "metadata": {},
   "outputs": [
    {
     "name": "stdout",
     "output_type": "stream",
     "text": [
      "Positive number\n",
      "11111 is Odd\n"
     ]
    }
   ],
   "source": [
    "# Python Code to check if a number is\n",
    "# Positive, Negative, Odd, Even, Zero\n",
    "# Using if...elif...else\n",
    "num = 11111\n",
    "x = str(num)\n",
    "if x.startswith(\"-\"):\n",
    "\tprint(\"Negative number\")\n",
    "elif x == \"0\":\n",
    "\tprint(\"Zero\")\n",
    "else:\n",
    "\tprint(\"Positive number\")\n",
    "\n",
    "# Checking for odd and even\n",
    "if (num % 2) == 0:\n",
    "\tprint(\"{0} is Even\".format(num))\n",
    "else:\n",
    "\tprint(\"{0} is Odd\".format(num))\n"
   ]
  },
  {
   "cell_type": "code",
   "execution_count": 7,
   "id": "a7c3c4f3",
   "metadata": {},
   "outputs": [
    {
     "ename": "SyntaxError",
     "evalue": "Missing parentheses in call to 'print'. Did you mean print(x, 'is not a perfect cube!')? (3609433729.py, line 6)",
     "output_type": "error",
     "traceback": [
      "\u001b[1;36m  File \u001b[1;32m\"C:\\Users\\alias\\AppData\\Local\\Temp\\ipykernel_8092\\3609433729.py\"\u001b[1;36m, line \u001b[1;32m6\u001b[0m\n\u001b[1;33m    print x, 'is not a perfect cube!'\u001b[0m\n\u001b[1;37m          ^\u001b[0m\n\u001b[1;31mSyntaxError\u001b[0m\u001b[1;31m:\u001b[0m Missing parentheses in call to 'print'. Did you mean print(x, 'is not a perfect cube!')?\n"
     ]
    }
   ],
   "source": [
    "x = int(raw_input(\"Enter an integer: \"))\n",
    "for ans in range(0, abs(x) + 1):\n",
    "    if ans ** 3 == abs(x):\n",
    "        break\n",
    "if ans ** 3 != abs(x):\n",
    "    print x, 'is not a perfect cube!'\n",
    "else:\n",
    "    if x < 0:\n",
    "        ans = -ans\n",
    "    print 'Cube root of ' + str(x) + ' is ' + str(ans)"
   ]
  },
  {
   "cell_type": "code",
   "execution_count": 10,
   "id": "94918e82",
   "metadata": {},
   "outputs": [
    {
     "name": "stdout",
     "output_type": "stream",
     "text": [
      "Enter a Integer45\n",
      "Cube root of  45  is  3.5568933044900626\n"
     ]
    }
   ],
   "source": [
    "num =int(input(\"Enter a Integer\"))\n",
    "cube_root = num ** (1/3)\n",
    "print(\"Cube root of \", str(num), \" is \", str(cube_root))"
   ]
  },
  {
   "cell_type": "code",
   "execution_count": 11,
   "id": "475a665f",
   "metadata": {},
   "outputs": [
    {
     "ename": "NameError",
     "evalue": "name 'math' is not defined",
     "output_type": "error",
     "traceback": [
      "\u001b[1;31m---------------------------------------------------------------------------\u001b[0m",
      "\u001b[1;31mNameError\u001b[0m                                 Traceback (most recent call last)",
      "\u001b[1;32m~\\AppData\\Local\\Temp\\ipykernel_8092\\3291467482.py\u001b[0m in \u001b[0;36m<module>\u001b[1;34m\u001b[0m\n\u001b[0;32m      1\u001b[0m \u001b[0ma\u001b[0m \u001b[1;33m=\u001b[0m \u001b[1;36m27\u001b[0m\u001b[1;33m\u001b[0m\u001b[1;33m\u001b[0m\u001b[0m\n\u001b[0;32m      2\u001b[0m \u001b[0mb\u001b[0m \u001b[1;33m=\u001b[0m \u001b[1;36m39\u001b[0m\u001b[1;33m\u001b[0m\u001b[1;33m\u001b[0m\u001b[0m\n\u001b[1;32m----> 3\u001b[1;33m \u001b[0mmath\u001b[0m\u001b[1;33m.\u001b[0m\u001b[0msqrt\u001b[0m\u001b[1;33m(\u001b[0m\u001b[0ma\u001b[0m \u001b[1;33m**\u001b[0m \u001b[1;36m2\u001b[0m \u001b[1;33m+\u001b[0m \u001b[0mb\u001b[0m \u001b[1;33m**\u001b[0m \u001b[1;36m2\u001b[0m\u001b[1;33m)\u001b[0m\u001b[1;33m\u001b[0m\u001b[1;33m\u001b[0m\u001b[0m\n\u001b[0m\u001b[0;32m      4\u001b[0m \u001b[1;36m47.43416490252569\u001b[0m\u001b[1;33m\u001b[0m\u001b[1;33m\u001b[0m\u001b[0m\n",
      "\u001b[1;31mNameError\u001b[0m: name 'math' is not defined"
     ]
    }
   ],
   "source": [
    " a = 27\n",
    ">>> b = 39\n",
    ">>> math.sqrt(a ** 2 + b ** 2)\n",
    "47.43416490252569"
   ]
  },
  {
   "cell_type": "code",
   "execution_count": null,
   "id": "fbeb5c14",
   "metadata": {},
   "outputs": [],
   "source": []
  }
 ],
 "metadata": {
  "kernelspec": {
   "display_name": "Python 3 (ipykernel)",
   "language": "python",
   "name": "python3"
  },
  "language_info": {
   "codemirror_mode": {
    "name": "ipython",
    "version": 3
   },
   "file_extension": ".py",
   "mimetype": "text/x-python",
   "name": "python",
   "nbconvert_exporter": "python",
   "pygments_lexer": "ipython3",
   "version": "3.9.13"
  }
 },
 "nbformat": 4,
 "nbformat_minor": 5
}
