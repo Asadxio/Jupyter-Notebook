{
 "cells": [
  {
   "cell_type": "code",
   "execution_count": 1,
   "id": "d9ef1a91",
   "metadata": {},
   "outputs": [
    {
     "ename": "AttributeError",
     "evalue": "module 'fibonacci' has no attribute 'fibonacci'",
     "output_type": "error",
     "traceback": [
      "\u001b[1;31m---------------------------------------------------------------------------\u001b[0m",
      "\u001b[1;31mAttributeError\u001b[0m                            Traceback (most recent call last)",
      "\u001b[1;32m~\\AppData\\Local\\Temp\\ipykernel_2244\\1415777625.py\u001b[0m in \u001b[0;36m<module>\u001b[1;34m\u001b[0m\n\u001b[0;32m     15\u001b[0m \u001b[1;32mimport\u001b[0m \u001b[0mfibonacci\u001b[0m\u001b[1;33m\u001b[0m\u001b[1;33m\u001b[0m\u001b[0m\n\u001b[0;32m     16\u001b[0m \u001b[1;33m\u001b[0m\u001b[0m\n\u001b[1;32m---> 17\u001b[1;33m \u001b[0mprint\u001b[0m\u001b[1;33m(\u001b[0m\u001b[0mfibonacci\u001b[0m\u001b[1;33m.\u001b[0m\u001b[0mfibonacci\u001b[0m\u001b[1;33m(\u001b[0m\u001b[1;36m10\u001b[0m\u001b[1;33m)\u001b[0m\u001b[1;33m)\u001b[0m  \u001b[1;31m# prints 55\u001b[0m\u001b[1;33m\u001b[0m\u001b[1;33m\u001b[0m\u001b[0m\n\u001b[0m\u001b[0;32m     18\u001b[0m \u001b[0mprint\u001b[0m\u001b[1;33m(\u001b[0m\u001b[0mfibonacci\u001b[0m\u001b[1;33m.\u001b[0m\u001b[0mfibonacci\u001b[0m\u001b[1;33m(\u001b[0m\u001b[1;36m20\u001b[0m\u001b[1;33m)\u001b[0m\u001b[1;33m)\u001b[0m  \u001b[1;31m# prints 6765\u001b[0m\u001b[1;33m\u001b[0m\u001b[1;33m\u001b[0m\u001b[0m\n\u001b[0;32m     19\u001b[0m \u001b[0mprint\u001b[0m\u001b[1;33m(\u001b[0m\u001b[0mfibonacci\u001b[0m\u001b[1;33m.\u001b[0m\u001b[0mfibonacci\u001b[0m\u001b[1;33m(\u001b[0m\u001b[1;36m30\u001b[0m\u001b[1;33m)\u001b[0m\u001b[1;33m)\u001b[0m  \u001b[1;31m# prints 1346269\u001b[0m\u001b[1;33m\u001b[0m\u001b[1;33m\u001b[0m\u001b[0m\n",
      "\u001b[1;31mAttributeError\u001b[0m: module 'fibonacci' has no attribute 'fibonacci'"
     ]
    }
   ],
   "source": [
    "# fibonacci.py\n",
    "\n",
    "def fibonacci(n):\n",
    "  if n == 0:\n",
    "    return 0\n",
    "  elif n == 1:\n",
    "    return 1\n",
    "  else:\n",
    "    return fibonacci(n-1) + fibonacci(n-2)\n",
    "\n",
    "'''\n",
    "To use the fibonacci function from another Python script, you can import the fibonacci module and use the function like any other Python function. For example:\n",
    "\n",
    "'''\n",
    "import fibonacci\n",
    "\n",
    "print(fibonacci.fibonacci(10))  # prints 55\n",
    "print(fibonacci.fibonacci(20))  # prints 6765\n",
    "print(fibonacci.fibonacci(30))  # prints 1346269\n"
   ]
  },
  {
   "cell_type": "code",
   "execution_count": null,
   "id": "71a04ede",
   "metadata": {},
   "outputs": [],
   "source": [
    "def is_palindrome(n):\n",
    "  # Convert the number to a string\n",
    "  s = str(n)\n",
    "\n",
    "  # Check if the string is equal to its reverse\n",
    "  return s == s[::-1]\n",
    "\n",
    "# Test the function\n",
    "print(is_palindrome(121))  # prints True\n",
    "print(is_palindrome(12345))  # prints False\n",
    "print(is_palindrome(13331))  # prints True\n"
   ]
  },
  {
   "cell_type": "code",
   "execution_count": null,
   "id": "065351b7",
   "metadata": {},
   "outputs": [],
   "source": [
    "num=int(input(\"Enter a number:\"))\n",
    "temp=num\n",
    "rev=0\n",
    "while(num>0):\n",
    "    dig=num%10\n",
    "    rev=rev*10+dig\n",
    "    num=num//10\n",
    "if(temp==rev):\n",
    "    print(\"The number is palindrome!\")\n",
    "else:\n",
    "    print(\"Not a palindrome!\")\n"
   ]
  },
  {
   "cell_type": "code",
   "execution_count": null,
   "id": "6bcef87f",
   "metadata": {},
   "outputs": [],
   "source": [
    "for i in range(100, 500):\n",
    "  # Check if the number is divisible by 11 but not by 2\n",
    "  if i % 11 == 0 and i % 2 != 0:\n",
    "    print(i)\n"
   ]
  },
  {
   "cell_type": "code",
   "execution_count": null,
   "id": "63dcfea1",
   "metadata": {},
   "outputs": [],
   "source": [
    "nl=[]\n",
    "for x in range(100, 500):\n",
    "    if (x%7==0) and (x%5==0):\n",
    "        nl.append(str(x))\n",
    "print (','.join(nl))\n"
   ]
  },
  {
   "cell_type": "code",
   "execution_count": null,
   "id": "dcacea1a",
   "metadata": {},
   "outputs": [],
   "source": [
    "# Read a number from the user\n",
    "number = int(input(\"Enter a number: \"))\n",
    "\n",
    "# Find the sum of the digits of the number\n",
    "result = sum_of_digits(number)\n",
    "\n",
    "# Print the result\n",
    "print(\"The sum of the digits is\", result)\n"
   ]
  },
  {
   "cell_type": "code",
   "execution_count": null,
   "id": "94ecf06e",
   "metadata": {},
   "outputs": [],
   "source": [
    "def sumDigits(no):\n",
    "\treturn 0 if no == 0 else int(no % 10) + sumDigits(int(no / 10))\n",
    "\n",
    "n = 12345\n",
    "print(sumDigits(n))\n",
    "\n",
    "\n"
   ]
  },
  {
   "cell_type": "code",
   "execution_count": null,
   "id": "35220878",
   "metadata": {},
   "outputs": [],
   "source": [
    "def sum_of_digits(n):\n",
    "  # Initialize the sum to 0\n",
    "  sum = 0\n",
    "\n",
    "  # Iterate over the digits of the number\n",
    "  while n > 0:\n",
    "    # Get the last digit of the number\n",
    "    digit = n % 10\n",
    "\n",
    "    # Add the digit to the sum\n",
    "    sum += digit\n",
    "\n",
    "    # Remove the last digit from the number\n",
    "    n //= 10\n",
    "\n",
    "  # Return the sum\n",
    "  return sum\n",
    "\n",
    "# Test the function\n",
    "print(sum_of_digits)int(input(\"Entera Number\"))\n",
    "print(sum_of_digits(987654321))  # prints 45\n",
    "print(sum_of_digits(1234))  # prints 10\n"
   ]
  },
  {
   "cell_type": "code",
   "execution_count": null,
   "id": "0119cd84",
   "metadata": {},
   "outputs": [],
   "source": [
    "num = 1\n",
    "\n",
    "num = int(input(\"Enter a number: \"))\n",
    "\n",
    "factorial = 1\n",
    "\n",
    "if num < 0:\n",
    "   print(\"Sorry, factorial does not exist for negative numbers\")\n",
    "elif num == 0:\n",
    "   print(\"The factorial of 0 is 1\")\n",
    "else:\n",
    "   for i in range(1,num + 1):\n",
    "       factorial = factorial*i\n",
    "   print(\"The factorial of\",num,\"is\",factorial)"
   ]
  },
  {
   "cell_type": "code",
   "execution_count": null,
   "id": "2b11adc3",
   "metadata": {},
   "outputs": [],
   "source": [
    "# Read a number from the user\n",
    "number = int(input(\"Enter a number: \"))\n",
    "\n",
    "# Find the product of the digits of the number\n",
    "result = product_of_digits(number)\n",
    "\n",
    "# Print the result\n",
    "print(\"The product of the digits is\", result)\n"
   ]
  },
  {
   "cell_type": "code",
   "execution_count": null,
   "id": "3e285561",
   "metadata": {},
   "outputs": [],
   "source": [
    "def product_of_digits(n):\n",
    "  # Initialize the product to 1\n",
    "  product = int(input(\"Enter a Number\"))\n",
    "\n",
    "  # Iterate over the digits of the number\n",
    "  while n > 0:\n",
    "    # Get the last digit of the number\n",
    "    digit = n % 10\n",
    "\n",
    "    # Multiply the product by the digit\n",
    "    product *= digit\n",
    "\n",
    "    # Remove the last digit from the number\n",
    "    n //= 10\n",
    "\n",
    "  # Return the product\n",
    "  return product\n",
    "\n",
    "# Test the function\n",
    "print(product_of_digits,product)  # prints 120\n",
    "print(product_of_digits)  # prints 0\n",
    "print(product_of_digits)  # prints 24\n"
   ]
  },
  {
   "cell_type": "code",
   "execution_count": null,
   "id": "9bd2c9bb",
   "metadata": {},
   "outputs": [],
   "source": [
    "def product_of_digits(n):\n",
    "  # Initialize the product to 1\n",
    "  product = 1\n",
    "\n",
    "  # Iterate over the digits of the number\n",
    "  while n > 0:\n",
    "    # Get the last digit of the number\n",
    "    digit = n % 10\n",
    "\n",
    "    # Multiply the product by the digit\n",
    "    product *= digit\n",
    "\n",
    "    # Remove the last digit from the number\n",
    "    n //= 10\n",
    "\n",
    "  # Return the product\n",
    "  return product\n",
    "\n",
    "number = int(input(\"Enter a number: \"))\n",
    "\n",
    "result = product_of_digits(number)\n",
    "\n",
    "print(\"The product of the digits is\", result)\n"
   ]
  },
  {
   "cell_type": "markdown",
   "id": "57d4fb1b",
   "metadata": {},
   "source": [
    "list1=[34,6,43,2,32,44,55,33,32]\n",
    "res1 = 0\n",
    "for num in list1:\n",
    "    res1 += num\n",
    "avg1 = res1 / len(list1)\n",
    "print(\"sum is: \", res1, \"Average is: \", avg1)\n"
   ]
  },
  {
   "cell_type": "code",
   "execution_count": null,
   "id": "9a4a2bab",
   "metadata": {},
   "outputs": [],
   "source": [
    "list1=[34,6,43,2,32,44,55,33,32]\n",
    "res1 = 0\n",
    "for num in list1:\n",
    "    res1 += num\n",
    "avg1 = res1 / len(list1)\n",
    "print(\"sum is: \", res1, \"Average is: \", avg1)\n"
   ]
  },
  {
   "cell_type": "code",
   "execution_count": null,
   "id": "2f5b1e6a",
   "metadata": {},
   "outputs": [],
   "source": [
    "def calculate_average(numbers):\n",
    "  # Initialize the sum to 0\n",
    "  sum = 0\n",
    "\n",
    "  # Iterate over the numbers in the list\n",
    "  for number in numbers:\n",
    "    # Add the number to the sum\n",
    "    sum += number\n",
    "\n",
    "  # Calculate the average by dividing the sum by the number of elements\n",
    "  average = sum / len(numbers)\n",
    "\n",
    "  # Return the average\n",
    "  return average\n",
    "\n",
    "# Test the function\n",
    "list1 = [34, 6, 43, 2, 32, 44, 55, 33, 32]\n",
    "result = calculate_average(list1)\n",
    "print(result)  # prints 36.22222222222222\n",
    "result = calculate_average(list1)\n",
    "print(result)\n"
   ]
  },
  {
   "cell_type": "code",
   "execution_count": null,
   "id": "ecd9cacf",
   "metadata": {},
   "outputs": [],
   "source": [
    "# Original dictionary\n",
    "module = {'Data Science': 1, 'Machine Learning': 2, 'SQL': 3, 'Big Data': 4}\n",
    "\n",
    "swapped = {}\n",
    "\n",
    "for key, value in module.items():\n",
    "  swapped[value] = key\n",
    "\n",
    "print(swapped)"
   ]
  },
  {
   "cell_type": "code",
   "execution_count": null,
   "id": "81e7cca1",
   "metadata": {},
   "outputs": [],
   "source": [
    "days = ['Monday', 'tuesday', 'friday', 'Sunday', 'Saturday']\n",
    "\n",
    "words = []\n",
    "\n",
    "for word in days:\n",
    "  if word[0].isupper():\n",
    "    words.append(word)\n",
    "\n",
    "print(words)  \n"
   ]
  },
  {
   "cell_type": "code",
   "execution_count": null,
   "id": "48731c43",
   "metadata": {},
   "outputs": [],
   "source": [
    "# Text to be processed\n",
    "text = \"\"\"But soft what light through yonder window breaks It is the east and Juliet is the sun Arise fair \n",
    "sun and kill the envious moon Who is already sick and pale with grief\"\"\"\n",
    "\n",
    "# Split the text into a list of words\n",
    "words = text.split()\n",
    "\n",
    "# Initialize a counter to keep track of the element count\n",
    "element_count = 0\n",
    "\n",
    "# Iterate over the words in the list\n",
    "for word in words:\n",
    "  # Iterate over the characters in the word\n",
    "  for ch in word:\n",
    "    # Check if the character is a letter and not a vowel\n",
    "    if ch.isalpha() and ch not in 'aeiouAEIOU':\n",
    "      # Increment the counter\n",
    "      element_count += 1\n",
    "\n",
    "# Print the element count\n",
    "print(f'Element count: {element_count}')\n"
   ]
  },
  {
   "cell_type": "code",
   "execution_count": null,
   "id": "f85fe078",
   "metadata": {},
   "outputs": [],
   "source": [
    "def countCharacterType(str):\n",
    "\n",
    "\n",
    "\tvowels = 0\n",
    "\tconsonant = 0\n",
    "\tspecialChar = 0\n",
    "\tdigit = 0\n",
    "\tfor i in range(0, len(str)):\n",
    "\t\t\n",
    "\t\tch = str[i]\n",
    "\n",
    "\t\tif ( (ch >= 'a' and ch <= 'z') or\n",
    "\t\t\t(ch >= 'A' and ch <= 'Z') ):\n",
    "\n",
    "\t\t\tch = ch.lower()\n",
    "\n",
    "\t\t\tif (ch == 'a' or ch == 'e' or ch == 'i'\n",
    "\t\t\t\t\t\tor ch == 'o' or ch == 'u'):\n",
    "\t\t\t\tvowels += 1\n",
    "\t\t\telse:\n",
    "\t\t\t\tconsonant += 1\n",
    "\t\t\n",
    "\t\telif (ch >= '0' and ch <= '9'):\n",
    "\t\t\tdigit += 1\n",
    "\t\telse:\n",
    "\t\t\tspecialChar += 1\n",
    "\t\n",
    "\tprint(\"Vowels:\", vowels)\n",
    "\tprint(\"Consonant:\", consonant)\n",
    "\tprint(\"Digit:\", digit)\n",
    "\tprint(\"Special Character:\", specialChar)\n",
    "str = \"But soft what light through yonder window breaks It is the east and Juliet is the sun Arise fair sun and kill the envious moon Who is already sick and pale with grief\"\n",
    "countCharacterType(str)"
   ]
  },
  {
   "cell_type": "code",
   "execution_count": null,
   "id": "5ef4c360",
   "metadata": {},
   "outputs": [],
   "source": [
    "def remove_duplicates(num_list):\n",
    "    unique_list = []\n",
    "    for num in num_list:\n",
    "        if num not in unique_list:\n",
    "            unique_list.append(num)\n",
    "    return unique_list\n",
    "\n",
    "num2 = [1,2,3,41,3,5,4,56,4,56,4,4,36,6,66,6,645,3,3,5,6,8]\n",
    "print(remove_duplicates(num2))\n"
   ]
  },
  {
   "cell_type": "code",
   "execution_count": null,
   "id": "a904b497",
   "metadata": {},
   "outputs": [],
   "source": [
    "def sum_proper_divisors(n):\n",
    "    # Find the proper divisors of n and return their sum\n",
    "    divisors = []\n",
    "    for i in range(1, n):\n",
    "        if n % i == 0:\n",
    "            divisors.append(i)\n",
    "    return sum(divisors)\n",
    "\n",
    "def are_amicable(n1, n2):\n",
    "    # Check whether n1 and n2 are an amicable pair\n",
    "    return sum_proper_divisors(n1) == n2 and sum_proper_divisors(n2) == n1\n",
    "\n",
    "# Get input from the user\n",
    "n1 = int(input(\"Enter the first number: \"))\n",
    "n2 = int(input(\"Enter the second number: \"))\n",
    "\n",
    "# Check whether n1 and n2 are an amicable pair\n",
    "if are_amicable(n1, n2):\n",
    "    print(\"The numbers are amicable.\")\n",
    "else:\n",
    "    print(\"The numbers are not amicable.\")\n"
   ]
  },
  {
   "cell_type": "code",
   "execution_count": null,
   "id": "b3daeee1",
   "metadata": {},
   "outputs": [],
   "source": [
    "def is_prime(n):\n",
    "    if n < 2:\n",
    "        return False\n",
    "    for i in range(2, n):\n",
    "        if n % i == 0:\n",
    "            return False\n",
    "    return True\n",
    "\n",
    "# take input from the user\n",
    "num = int(input(\"Enter a number: \"))\n",
    "\n",
    "if is_prime(num):\n",
    "    print(f\"{num} is a prime number.\")\n",
    "else:\n",
    "    print(f\"{num} is not a prime number.\")\n"
   ]
  },
  {
   "cell_type": "code",
   "execution_count": null,
   "id": "b3eb7ea7",
   "metadata": {},
   "outputs": [],
   "source": [
    "def reverse_string(s):\n",
    "    result = \"\"\n",
    "    for ch in s:\n",
    "        result = ch + result\n",
    "    return result\n",
    "\n",
    "string = input(\"Enter a string: \")\n",
    "\n",
    "reversed_string = reverse_string(string)\n",
    "print(f\"The reversed string is: {reversed_string}\")\n"
   ]
  },
  {
   "cell_type": "code",
   "execution_count": null,
   "id": "ffb85b8d",
   "metadata": {},
   "outputs": [],
   "source": [
    "def generate_fibonacci_series(n):\n",
    "    series = [0, 1]\n",
    "    while len(series) < n:\n",
    "        series.append(series[-1] + series[-2])\n",
    "    return series\n",
    "\n",
    "# generate the Fibonacci series for the next 10 values\n",
    "series = generate_fibonacci_series(10)\n",
    "\n",
    "# print the series\n",
    "print(series)\n"
   ]
  },
  {
   "cell_type": "code",
   "execution_count": 3,
   "id": "8a3ca9b9",
   "metadata": {},
   "outputs": [
    {
     "ename": "NameError",
     "evalue": "name 'n' is not defined",
     "output_type": "error",
     "traceback": [
      "\u001b[1;31m---------------------------------------------------------------------------\u001b[0m",
      "\u001b[1;31mNameError\u001b[0m                                 Traceback (most recent call last)",
      "\u001b[1;32m~\\AppData\\Local\\Temp\\ipykernel_2244\\93598777.py\u001b[0m in \u001b[0;36m<module>\u001b[1;34m\u001b[0m\n\u001b[0;32m      7\u001b[0m         \u001b[1;32mreturn\u001b[0m \u001b[0mfibonacci_numbers\u001b[0m\u001b[1;33m(\u001b[0m\u001b[0mnum\u001b[0m\u001b[1;33m-\u001b[0m\u001b[1;36m2\u001b[0m\u001b[1;33m)\u001b[0m\u001b[1;33m+\u001b[0m\u001b[0mfibonacci_numbers\u001b[0m\u001b[1;33m(\u001b[0m\u001b[0mnum\u001b[0m\u001b[1;33m-\u001b[0m\u001b[1;36m1\u001b[0m\u001b[1;33m)\u001b[0m\u001b[1;33m\u001b[0m\u001b[1;33m\u001b[0m\u001b[0m\n\u001b[0;32m      8\u001b[0m     \u001b[0mn\u001b[0m \u001b[1;33m=\u001b[0m \u001b[1;36m7\u001b[0m\u001b[1;33m\u001b[0m\u001b[1;33m\u001b[0m\u001b[0m\n\u001b[1;32m----> 9\u001b[1;33m \u001b[1;32mfor\u001b[0m \u001b[0mi\u001b[0m \u001b[1;32min\u001b[0m \u001b[0mrange\u001b[0m\u001b[1;33m(\u001b[0m\u001b[1;36m0\u001b[0m\u001b[1;33m,\u001b[0m \u001b[0mn\u001b[0m\u001b[1;33m)\u001b[0m\u001b[1;33m:\u001b[0m\u001b[1;33m\u001b[0m\u001b[1;33m\u001b[0m\u001b[0m\n\u001b[0m\u001b[0;32m     10\u001b[0m     \u001b[0mprint\u001b[0m\u001b[1;33m(\u001b[0m\u001b[0mfibonacci_numbers\u001b[0m\u001b[1;33m(\u001b[0m\u001b[0mi\u001b[0m\u001b[1;33m)\u001b[0m\u001b[1;33m,\u001b[0m \u001b[0mend\u001b[0m\u001b[1;33m=\u001b[0m\u001b[1;34m\" \"\u001b[0m\u001b[1;33m)\u001b[0m\u001b[1;33m\u001b[0m\u001b[1;33m\u001b[0m\u001b[0m\n",
      "\u001b[1;31mNameError\u001b[0m: name 'n' is not defined"
     ]
    }
   ],
   "source": [
    "def fibonacci_numbers(num):\n",
    "    if num == 0:\n",
    "        return 0\n",
    "    elif num == 1:\n",
    "        return 1\n",
    "    else:\n",
    "        return fibonacci_numbers(num-2)+fibonacci_numbers(num-1)\n",
    "    n = 7\n",
    "for i in range(0, n):\n",
    "    print(fibonacci_numbers(i), end=\" \")"
   ]
  },
  {
   "cell_type": "code",
   "execution_count": 5,
   "id": "39bd633d",
   "metadata": {},
   "outputs": [
    {
     "name": "stdout",
     "output_type": "stream",
     "text": [
      "{'August', 'June', 'November', 'July', 'January', 'October', 'April', 'February', 'March', 'December', 'September', 'May'}\n"
     ]
    }
   ],
   "source": [
    "initialSet = set(('January', 'February', 'March'))\n",
    "initialSet.update(['April', 'May', 'June', 'July', 'August', 'September', 'October', 'November', 'December'])\n",
    "print(initialSet)"
   ]
  },
  {
   "cell_type": "code",
   "execution_count": 12,
   "id": "e1a9914c",
   "metadata": {},
   "outputs": [
    {
     "ename": "AttributeError",
     "evalue": "'frozenset' object has no attribute 'pop'",
     "output_type": "error",
     "traceback": [
      "\u001b[1;31m---------------------------------------------------------------------------\u001b[0m",
      "\u001b[1;31mAttributeError\u001b[0m                            Traceback (most recent call last)",
      "\u001b[1;32m~\\AppData\\Local\\Temp\\ipykernel_2244\\1207553763.py\u001b[0m in \u001b[0;36m<module>\u001b[1;34m\u001b[0m\n\u001b[0;32m      1\u001b[0m \u001b[0mweeks\u001b[0m \u001b[1;33m=\u001b[0m \u001b[0mfrozenset\u001b[0m\u001b[1;33m(\u001b[0m\u001b[1;33m[\u001b[0m\u001b[1;34m\"Monday\"\u001b[0m\u001b[1;33m,\u001b[0m \u001b[1;34m\"Tuesday\"\u001b[0m\u001b[1;33m,\u001b[0m \u001b[1;34m\"Wednesday\"\u001b[0m\u001b[1;33m,\u001b[0m \u001b[1;34m\"Thursday\"\u001b[0m\u001b[1;33m,\u001b[0m \u001b[1;34m\"Friday\"\u001b[0m\u001b[1;33m,\u001b[0m \u001b[1;34m\"Saturday\"\u001b[0m\u001b[1;33m,\u001b[0m \u001b[1;34m\"Sunday\"\u001b[0m\u001b[1;33m]\u001b[0m\u001b[1;33m)\u001b[0m\u001b[1;33m\u001b[0m\u001b[1;33m\u001b[0m\u001b[0m\n\u001b[1;32m----> 2\u001b[1;33m \u001b[0mweeks\u001b[0m\u001b[1;33m.\u001b[0m\u001b[0mpop\u001b[0m\u001b[1;33m(\u001b[0m\u001b[1;33m)\u001b[0m\u001b[1;33m\u001b[0m\u001b[1;33m\u001b[0m\u001b[0m\n\u001b[0m\u001b[0;32m      3\u001b[0m \u001b[0mprint\u001b[0m\u001b[1;33m(\u001b[0m\u001b[0mweeks\u001b[0m\u001b[1;33m)\u001b[0m\u001b[1;33m\u001b[0m\u001b[1;33m\u001b[0m\u001b[0m\n",
      "\u001b[1;31mAttributeError\u001b[0m: 'frozenset' object has no attribute 'pop'"
     ]
    }
   ],
   "source": [
    "weeks = frozenset([\"Monday\", \"Tuesday\", \"Wednesday\", \"Thursday\", \"Friday\", \"Saturday\", \"Sunday\"])\n",
    "weeks.pop()\n",
    "print(weeks)"
   ]
  },
  {
   "cell_type": "code",
   "execution_count": 11,
   "id": "c38011f1",
   "metadata": {},
   "outputs": [
    {
     "name": "stdout",
     "output_type": "stream",
     "text": [
      "frozenset({'Monday', 'Friday', 'Sunday', 'Tuesday', 'Wednesday', 'Saturday', 'Thursday'})\n"
     ]
    }
   ],
   "source": [
    "myString =\"Sunday\",\"Monday\",\"Tuesday\",\"Wednesday\",\"Thursday\",\"Friday\",\"Saturday\",\"Saturday\"\n",
    "frozenString = frozenset(myString)\n",
    "print(frozenString)"
   ]
  },
  {
   "cell_type": "code",
   "execution_count": 18,
   "id": "1148ce16",
   "metadata": {},
   "outputs": [
    {
     "ename": "SyntaxError",
     "evalue": "invalid syntax (2428760547.py, line 1)",
     "output_type": "error",
     "traceback": [
      "\u001b[1;36m  File \u001b[1;32m\"C:\\Users\\alias\\AppData\\Local\\Temp\\ipykernel_2244\\2428760547.py\"\u001b[1;36m, line \u001b[1;32m1\u001b[0m\n\u001b[1;33m    Create a frozenset\u001b[0m\n\u001b[1;37m           ^\u001b[0m\n\u001b[1;31mSyntaxError\u001b[0m\u001b[1;31m:\u001b[0m invalid syntax\n"
     ]
    }
   ],
   "source": [
    "Create a frozenset\n",
    "frozenSet = frozenset({\"Monday\", \"Tuesday\", \"Wednesday\", \"Thursday\", \"Friday\", \"Saturday\", \"Sunday\"})\n",
    "frozenSet = frozenset(frozenSet[:-1])\n",
    "print(frozenSet)"
   ]
  },
  {
   "cell_type": "code",
   "execution_count": 24,
   "id": "a48abd4a",
   "metadata": {},
   "outputs": [
    {
     "ename": "TypeError",
     "evalue": "'frozenset' object is not subscriptable",
     "output_type": "error",
     "traceback": [
      "\u001b[1;31m---------------------------------------------------------------------------\u001b[0m",
      "\u001b[1;31mTypeError\u001b[0m                                 Traceback (most recent call last)",
      "\u001b[1;32m~\\AppData\\Local\\Temp\\ipykernel_2244\\3268221517.py\u001b[0m in \u001b[0;36m<module>\u001b[1;34m\u001b[0m\n\u001b[0;32m      1\u001b[0m \u001b[0mweek_names\u001b[0m \u001b[1;33m=\u001b[0m \u001b[0mfrozenset\u001b[0m\u001b[1;33m(\u001b[0m\u001b[1;33m[\u001b[0m\u001b[1;34m\"Monday\"\u001b[0m\u001b[1;33m,\u001b[0m \u001b[1;34m\"Tuesday\"\u001b[0m\u001b[1;33m,\u001b[0m \u001b[1;34m\"Wednesday\"\u001b[0m\u001b[1;33m,\u001b[0m \u001b[1;34m\"Thursday\"\u001b[0m\u001b[1;33m,\u001b[0m \u001b[1;34m\"Friday\"\u001b[0m\u001b[1;33m,\u001b[0m \u001b[1;34m\"Saturday\"\u001b[0m\u001b[1;33m,\u001b[0m \u001b[1;34m\"Sunday\"\u001b[0m\u001b[1;33m]\u001b[0m\u001b[1;33m)\u001b[0m\u001b[1;33m\u001b[0m\u001b[1;33m\u001b[0m\u001b[0m\n\u001b[1;32m----> 2\u001b[1;33m \u001b[0mweek_names\u001b[0m \u001b[1;33m=\u001b[0m \u001b[0mweek_names\u001b[0m\u001b[1;33m[\u001b[0m\u001b[1;33m:\u001b[0m\u001b[1;33m-\u001b[0m\u001b[1;36m1\u001b[0m\u001b[1;33m]\u001b[0m\u001b[1;33m\u001b[0m\u001b[1;33m\u001b[0m\u001b[0m\n\u001b[0m\u001b[0;32m      3\u001b[0m \u001b[0mprint\u001b[0m\u001b[1;33m(\u001b[0m\u001b[0mweek_names\u001b[0m\u001b[1;33m)\u001b[0m\u001b[1;33m\u001b[0m\u001b[1;33m\u001b[0m\u001b[0m\n",
      "\u001b[1;31mTypeError\u001b[0m: 'frozenset' object is not subscriptable"
     ]
    }
   ],
   "source": [
    "week_names = frozenset([\"Monday\", \"Tuesday\", \"Wednesday\", \"Thursday\", \"Friday\", \"Saturday\", \"Sunday\"])\n",
    "week_names = week_names[:-1]\n",
    "print(week_names)"
   ]
  },
  {
   "cell_type": "code",
   "execution_count": 30,
   "id": "34453087",
   "metadata": {},
   "outputs": [
    {
     "name": "stdout",
     "output_type": "stream",
     "text": [
      "frozenset({'Monday', 'Friday', 'Sunday', 'Tuesday', 'Wednesday', 'Saturday', 'Thursday'})\n"
     ]
    }
   ],
   "source": [
    "myString =\"Sunday\",\"Monday\",\"Tuesday\",\"Wednesday\",\"Thursday\",\"Friday\",\"Saturday\",\"Saturday\"\n",
    "frozenString = frozenset(myString)\n",
    "print(frozenString)"
   ]
  },
  {
   "cell_type": "code",
   "execution_count": 31,
   "id": "f7be2e64",
   "metadata": {},
   "outputs": [
    {
     "name": "stdout",
     "output_type": "stream",
     "text": [
      "Monday\n",
      "Friday\n",
      "Sunday\n",
      "Wednesday\n",
      "Tuesday\n",
      "Saturday\n",
      "Thursday\n"
     ]
    }
   ],
   "source": [
    "weekdays = frozenset({\"Monday\", \"Tuesday\", \"Wednesday\", \"Thursday\", \"Friday\", \"Saturday\", \"Sunday\"})\n",
    "\n",
    "for day in weekdays:\n",
    "    if day == \"Monday\":\n",
    "        print(day)\n",
    "    elif day == \"Tuesday\":\n",
    "        print(day)\n",
    "    elif day == \"Wednesday\":\n",
    "        print(day)\n",
    "    elif day == \"Thursday\":\n",
    "        print(day)\n",
    "    elif day == \"Friday\":\n",
    "        print(day)\n",
    "    elif day == \"Saturday\":\n",
    "        print(day)\n",
    "    elif day == \"Sunday\":\n",
    "        print(day)\n"
   ]
  },
  {
   "cell_type": "code",
   "execution_count": 32,
   "id": "0d14b209",
   "metadata": {},
   "outputs": [
    {
     "name": "stdout",
     "output_type": "stream",
     "text": [
      "Friday\n",
      "Monday\n",
      "Saturday\n",
      "Sunday\n",
      "Thursday\n",
      "Tuesday\n",
      "Wednesday\n"
     ]
    }
   ],
   "source": [
    "weekdays = frozenset({\"Monday\", \"Tuesday\", \"Wednesday\", \"Thursday\", \"Friday\", \"Saturday\", \"Sunday\"})\n",
    "sorted_weekdays = sorted(weekdays)\n",
    "\n",
    "for day in sorted_weekdays:\n",
    "    print(day)"
   ]
  },
  {
   "cell_type": "code",
   "execution_count": 37,
   "id": "9da4847b",
   "metadata": {},
   "outputs": [
    {
     "name": "stdout",
     "output_type": "stream",
     "text": [
      "h is in the tuple\n"
     ]
    }
   ],
   "source": [
    "Valuee = ('EkeedaIsTheBest')\n",
    "if \"h\" in Valuee:\n",
    "    print(\"h is in the tuple\")\n",
    "else:\n",
    "    print(\"h is not in the tuple\")"
   ]
  },
  {
   "cell_type": "code",
   "execution_count": 38,
   "id": "57f9eec8",
   "metadata": {},
   "outputs": [
    {
     "name": "stdout",
     "output_type": "stream",
     "text": [
      "h is in the tuple\n"
     ]
    }
   ],
   "source": [
    "if \"h\" in Valuee:\n",
    "    print(\"h is in the tuple\")\n",
    "else:\n",
    "    print(\"h is not in the tuple\")"
   ]
  },
  {
   "cell_type": "code",
   "execution_count": 39,
   "id": "1fd98c2a",
   "metadata": {},
   "outputs": [
    {
     "name": "stdout",
     "output_type": "stream",
     "text": [
      "The original tuple : Ekeeda\n",
      "The duplicated tuple elements are : ('Ekeeda', 'Ekeeda', 'Ekeeda', 'Ekeeda', 'Ekeeda')\n"
     ]
    }
   ],
   "source": [
    "valuee = (\"Ekeeda\")\n",
    "print(\"The original tuple : \" + str(valuee))\n",
    "N = 5\n",
    "res = ((valuee, ) * N)\n",
    "print(\"The duplicated tuple elements are : \" + str(res))"
   ]
  },
  {
   "cell_type": "code",
   "execution_count": 45,
   "id": "c0907ae6",
   "metadata": {},
   "outputs": [
    {
     "data": {
      "text/plain": [
       "('m', 'i', 'n’, ‘i’,’s’,’f’,’u’,’n')"
      ]
     },
     "execution_count": 45,
     "metadata": {},
     "output_type": "execute_result"
    }
   ],
   "source": [
    "Var = ('p','r','o','g','r','a','m','i','n’, ‘i’,’s’,’f’,’u’,’n')\n",
    "Var[6:12]\n",
    "#Var[5:10]\n",
    "#Var[5:9]"
   ]
  },
  {
   "cell_type": "code",
   "execution_count": 44,
   "id": "117727f9",
   "metadata": {},
   "outputs": [
    {
     "data": {
      "text/plain": [
       "('a', 'm', 'i', 'n’, ‘i’,’s’,’f’,’u’,’n')"
      ]
     },
     "execution_count": 44,
     "metadata": {},
     "output_type": "execute_result"
    }
   ],
   "source": [
    "Var[6:12]\n",
    "Var[5:10]\n",
    "Var[5: 9]"
   ]
  },
  {
   "cell_type": "code",
   "execution_count": 46,
   "id": "d5740fea",
   "metadata": {},
   "outputs": [
    {
     "name": "stdout",
     "output_type": "stream",
     "text": [
      "set()\n"
     ]
    }
   ],
   "source": [
    "    set1 = {10, 20, 30, 40, 50}\n",
    "\n",
    "set1 = {10,20,30,40,50}\n",
    "set1.clear()\n",
    "print(set1)"
   ]
  },
  {
   "cell_type": "code",
   "execution_count": 47,
   "id": "fc0040e5",
   "metadata": {},
   "outputs": [
    {
     "name": "stdout",
     "output_type": "stream",
     "text": [
      "All values are the same.\n"
     ]
    }
   ],
   "source": [
    "Tup = (11,11,11,11,11)\n",
    "\n",
    "if Tup.count(Tup[0]) == len(Tup):\n",
    "    print(\"All values are the same.\")\n",
    "else:\n",
    "    print(\"Values are not all the same.\")\n"
   ]
  },
  {
   "cell_type": "code",
   "execution_count": 48,
   "id": "34f5debf",
   "metadata": {},
   "outputs": [
    {
     "name": "stdout",
     "output_type": "stream",
     "text": [
      "The original tuple : (11, 11, 11, 11, 11)\n",
      "Do all elements have same type ? : True\n"
     ]
    }
   ],
   "source": [
    "    Tup = (11,11,11,11,11)\n",
    "\n",
    "Tup = (11,11,11,11,11)\n",
    "print(\"The original tuple : \" + str(Tup))\n",
    "res = True\n",
    "for ele in Tup:\n",
    "\tif not isinstance(ele, type(Tup[0])):\n",
    "\t\tres = False\n",
    "\t\tbreak\n",
    "print(\"Do all elements have same type ? : \" + str(res))"
   ]
  },
  {
   "cell_type": "code",
   "execution_count": 51,
   "id": "b46533e3",
   "metadata": {},
   "outputs": [
    {
     "name": "stdout",
     "output_type": "stream",
     "text": [
      "[('y', 10), ('x', 20), ('z', 33), ('y', 45)]\n"
     ]
    }
   ],
   "source": [
    "tup = (('x', 20), ('y', 10), ('y', 45), ('z', 33))\n",
    "\n",
    "def get_second_item(item):\n",
    "    return item[1]\n",
    "\n",
    "sorted_tup = sorted(tup, key=get_second_item)\n",
    "print(sorted_tup)"
   ]
  },
  {
   "cell_type": "code",
   "execution_count": 52,
   "id": "3522a2c0",
   "metadata": {},
   "outputs": [
    {
     "name": "stdout",
     "output_type": "stream",
     "text": [
      "The sets have at least one common element.\n"
     ]
    }
   ],
   "source": [
    "x = {1, 2, 3, 4}\n",
    "y = {4, 5, 6, 7}\n",
    "z = {8, 9, 10}\n",
    "\n",
    "if x.isdisjoint(y) and x.isdisjoint(z) and y.isdisjoint(z):\n",
    "    print(\"The sets have no common elements.\")\n",
    "else:\n",
    "    print(\"The sets have at least one common element.\")\n"
   ]
  },
  {
   "cell_type": "code",
   "execution_count": 55,
   "id": "6d307d4e",
   "metadata": {},
   "outputs": [
    {
     "ename": "IndentationError",
     "evalue": "expected an indented block (1999114248.py, line 4)",
     "output_type": "error",
     "traceback": [
      "\u001b[1;36m  File \u001b[1;32m\"C:\\Users\\alias\\AppData\\Local\\Temp\\ipykernel_2244\\1999114248.py\"\u001b[1;36m, line \u001b[1;32m4\u001b[0m\n\u001b[1;33m    for num in tup:\u001b[0m\n\u001b[1;37m    ^\u001b[0m\n\u001b[1;31mIndentationError\u001b[0m\u001b[1;31m:\u001b[0m expected an indented block\n"
     ]
    }
   ],
   "source": [
    "def sum_nested_tuples(nums):\n",
    "    total = 0   \n",
    "    for tup in nums:\n",
    "    for num in tup:\n",
    "        total += num\n",
    "        return total\n",
    "\n",
    "print(sum_nested_tuples(nums))"
   ]
  },
  {
   "cell_type": "code",
   "execution_count": 56,
   "id": "b17f9984",
   "metadata": {},
   "outputs": [
    {
     "name": "stdout",
     "output_type": "stream",
     "text": [
      "41.2\n"
     ]
    }
   ],
   "source": [
    "nums = [(1,2,22), (2,44,-44), (2,4), (2,2,2,2.2)]\n",
    "\n",
    "total = 0\n",
    "for tup in nums:\n",
    "  total += sum(tup)\n",
    "\n",
    "print(total)\n"
   ]
  },
  {
   "cell_type": "code",
   "execution_count": 57,
   "id": "749305d1",
   "metadata": {},
   "outputs": [
    {
     "name": "stdout",
     "output_type": "stream",
     "text": [
      "{60, 70}\n"
     ]
    }
   ],
   "source": [
    "A = {30, 40, 50, 60, 70}\n",
    "B = {10, 20, 30, 40, 50}\n",
    "\n",
    "difference = A.difference(B)\n",
    "print(difference)"
   ]
  },
  {
   "cell_type": "code",
   "execution_count": 59,
   "id": "4eb56273",
   "metadata": {},
   "outputs": [
    {
     "name": "stdout",
     "output_type": "stream",
     "text": [
      "{'x', 'a', 'c', 'b', 'y', 'z'}\n"
     ]
    }
   ],
   "source": [
    "sett = {\"a\", \"b\", \"c\"}\n",
    "li = [\"x\", \"y\", \"z\"]\n",
    "\n",
    "sett.update(li)\n",
    "\n",
    "print(sett)  # prints {\"a\", \"b\", \"c\", \"x\", \"y\", \"z\"}\n"
   ]
  },
  {
   "cell_type": "code",
   "execution_count": null,
   "id": "9e5877c6",
   "metadata": {},
   "outputs": [],
   "source": []
  }
 ],
 "metadata": {
  "kernelspec": {
   "display_name": "Python 3 (ipykernel)",
   "language": "python",
   "name": "python3"
  },
  "language_info": {
   "codemirror_mode": {
    "name": "ipython",
    "version": 3
   },
   "file_extension": ".py",
   "mimetype": "text/x-python",
   "name": "python",
   "nbconvert_exporter": "python",
   "pygments_lexer": "ipython3",
   "version": "3.9.13"
  }
 },
 "nbformat": 4,
 "nbformat_minor": 5
}
