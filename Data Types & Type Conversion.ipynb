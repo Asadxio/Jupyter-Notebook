{
 "cells": [
  {
   "cell_type": "code",
   "execution_count": 1,
   "id": "219e12dc",
   "metadata": {},
   "outputs": [],
   "source": [
    "student = \"sam\""
   ]
  },
  {
   "cell_type": "code",
   "execution_count": 2,
   "id": "d4261cdc",
   "metadata": {
    "scrolled": true
   },
   "outputs": [
    {
     "data": {
      "text/plain": [
       "'sam'"
      ]
     },
     "execution_count": 2,
     "metadata": {},
     "output_type": "execute_result"
    }
   ],
   "source": [
    "student"
   ]
  },
  {
   "cell_type": "code",
   "execution_count": 5,
   "id": "e8a26754",
   "metadata": {},
   "outputs": [],
   "source": [
    "student = \"mog\""
   ]
  },
  {
   "cell_type": "code",
   "execution_count": 6,
   "id": "87361bd5",
   "metadata": {},
   "outputs": [
    {
     "data": {
      "text/plain": [
       "'mog'"
      ]
     },
     "execution_count": 6,
     "metadata": {},
     "output_type": "execute_result"
    }
   ],
   "source": [
    "student"
   ]
  },
  {
   "cell_type": "code",
   "execution_count": 8,
   "id": "23bb2eb9",
   "metadata": {},
   "outputs": [
    {
     "data": {
      "text/plain": [
       "10"
      ]
     },
     "execution_count": 8,
     "metadata": {},
     "output_type": "execute_result"
    }
   ],
   "source": [
    "a1 =10\n",
    "a1"
   ]
  },
  {
   "cell_type": "code",
   "execution_count": 9,
   "id": "02e3cd70",
   "metadata": {},
   "outputs": [
    {
     "data": {
      "text/plain": [
       "int"
      ]
     },
     "execution_count": 9,
     "metadata": {},
     "output_type": "execute_result"
    }
   ],
   "source": [
    "type(a1)"
   ]
  },
  {
   "cell_type": "code",
   "execution_count": 10,
   "id": "9577f349",
   "metadata": {},
   "outputs": [],
   "source": [
    "a1=3.14"
   ]
  },
  {
   "cell_type": "code",
   "execution_count": 11,
   "id": "8fbde422",
   "metadata": {},
   "outputs": [
    {
     "data": {
      "text/plain": [
       "float"
      ]
     },
     "execution_count": 11,
     "metadata": {},
     "output_type": "execute_result"
    }
   ],
   "source": [
    "type(a1)"
   ]
  },
  {
   "cell_type": "code",
   "execution_count": 12,
   "id": "8fa61350",
   "metadata": {},
   "outputs": [],
   "source": [
    "a1 = True"
   ]
  },
  {
   "cell_type": "code",
   "execution_count": 13,
   "id": "e21804a5",
   "metadata": {},
   "outputs": [
    {
     "data": {
      "text/plain": [
       "bool"
      ]
     },
     "execution_count": 13,
     "metadata": {},
     "output_type": "execute_result"
    }
   ],
   "source": [
    "type(a1)"
   ]
  },
  {
   "cell_type": "code",
   "execution_count": 14,
   "id": "7cdc9a02",
   "metadata": {},
   "outputs": [],
   "source": [
    "a1=\"hello world\""
   ]
  },
  {
   "cell_type": "code",
   "execution_count": 15,
   "id": "3a8036e4",
   "metadata": {},
   "outputs": [
    {
     "data": {
      "text/plain": [
       "'hello world'"
      ]
     },
     "execution_count": 15,
     "metadata": {},
     "output_type": "execute_result"
    }
   ],
   "source": [
    "a1"
   ]
  },
  {
   "cell_type": "code",
   "execution_count": 16,
   "id": "aa174b0f",
   "metadata": {},
   "outputs": [
    {
     "data": {
      "text/plain": [
       "str"
      ]
     },
     "execution_count": 16,
     "metadata": {},
     "output_type": "execute_result"
    }
   ],
   "source": [
    "type(a1)"
   ]
  },
  {
   "cell_type": "code",
   "execution_count": 17,
   "id": "a534db1b",
   "metadata": {},
   "outputs": [],
   "source": [
    "a1=3+4j"
   ]
  },
  {
   "cell_type": "code",
   "execution_count": 18,
   "id": "ce78ca38",
   "metadata": {},
   "outputs": [
    {
     "data": {
      "text/plain": [
       "complex"
      ]
     },
     "execution_count": 18,
     "metadata": {},
     "output_type": "execute_result"
    }
   ],
   "source": [
    "type(a1)"
   ]
  },
  {
   "cell_type": "markdown",
   "id": "fbaf641f",
   "metadata": {},
   "source": [
    "#relational operators"
   ]
  },
  {
   "cell_type": "code",
   "execution_count": 19,
   "id": "8d2067ad",
   "metadata": {},
   "outputs": [],
   "source": [
    "#Comments"
   ]
  },
  {
   "cell_type": "code",
   "execution_count": 20,
   "id": "fdff0a96",
   "metadata": {},
   "outputs": [],
   "source": [
    "#anything we want to just understand that we use Comment like putting#"
   ]
  },
  {
   "cell_type": "code",
   "execution_count": 21,
   "id": "c66d41a7",
   "metadata": {},
   "outputs": [],
   "source": [
    "#arthematic operators"
   ]
  },
  {
   "cell_type": "code",
   "execution_count": 22,
   "id": "c1601dd9",
   "metadata": {},
   "outputs": [],
   "source": [
    "a=10\n",
    "b=20"
   ]
  },
  {
   "cell_type": "code",
   "execution_count": 23,
   "id": "4e7bc0bc",
   "metadata": {},
   "outputs": [
    {
     "data": {
      "text/plain": [
       "(10, 20)"
      ]
     },
     "execution_count": 23,
     "metadata": {},
     "output_type": "execute_result"
    }
   ],
   "source": [
    "a,b"
   ]
  },
  {
   "cell_type": "code",
   "execution_count": 24,
   "id": "2327c3e3",
   "metadata": {},
   "outputs": [
    {
     "data": {
      "text/plain": [
       "30"
      ]
     },
     "execution_count": 24,
     "metadata": {},
     "output_type": "execute_result"
    }
   ],
   "source": [
    "a+b"
   ]
  },
  {
   "cell_type": "code",
   "execution_count": 25,
   "id": "f33836ec",
   "metadata": {},
   "outputs": [
    {
     "data": {
      "text/plain": [
       "200"
      ]
     },
     "execution_count": 25,
     "metadata": {},
     "output_type": "execute_result"
    }
   ],
   "source": [
    "a*b"
   ]
  },
  {
   "cell_type": "code",
   "execution_count": 26,
   "id": "2be80e28",
   "metadata": {},
   "outputs": [
    {
     "data": {
      "text/plain": [
       "100000000000000000000"
      ]
     },
     "execution_count": 26,
     "metadata": {},
     "output_type": "execute_result"
    }
   ],
   "source": [
    "a**b"
   ]
  },
  {
   "cell_type": "code",
   "execution_count": 27,
   "id": "a43a1c7f",
   "metadata": {},
   "outputs": [
    {
     "data": {
      "text/plain": [
       "0.5"
      ]
     },
     "execution_count": 27,
     "metadata": {},
     "output_type": "execute_result"
    }
   ],
   "source": [
    "a/b"
   ]
  },
  {
   "cell_type": "code",
   "execution_count": 28,
   "id": "5bb86d2c",
   "metadata": {},
   "outputs": [
    {
     "data": {
      "text/plain": [
       "0"
      ]
     },
     "execution_count": 28,
     "metadata": {},
     "output_type": "execute_result"
    }
   ],
   "source": [
    "a//b"
   ]
  },
  {
   "cell_type": "code",
   "execution_count": 29,
   "id": "2e74f6d0",
   "metadata": {},
   "outputs": [],
   "source": [
    "#relational operators"
   ]
  },
  {
   "cell_type": "code",
   "execution_count": 30,
   "id": "7fd5f68b",
   "metadata": {},
   "outputs": [],
   "source": [
    "# <,>,==,!="
   ]
  },
  {
   "cell_type": "code",
   "execution_count": 31,
   "id": "adfe16d5",
   "metadata": {},
   "outputs": [],
   "source": [
    "a=50\n",
    "b=100"
   ]
  },
  {
   "cell_type": "code",
   "execution_count": 32,
   "id": "4d83d81b",
   "metadata": {},
   "outputs": [
    {
     "data": {
      "text/plain": [
       "False"
      ]
     },
     "execution_count": 32,
     "metadata": {},
     "output_type": "execute_result"
    }
   ],
   "source": [
    "a>b"
   ]
  },
  {
   "cell_type": "code",
   "execution_count": 33,
   "id": "efc4b51e",
   "metadata": {},
   "outputs": [
    {
     "data": {
      "text/plain": [
       "True"
      ]
     },
     "execution_count": 33,
     "metadata": {},
     "output_type": "execute_result"
    }
   ],
   "source": [
    "a<b"
   ]
  },
  {
   "cell_type": "code",
   "execution_count": 34,
   "id": "2dced837",
   "metadata": {},
   "outputs": [
    {
     "data": {
      "text/plain": [
       "False"
      ]
     },
     "execution_count": 34,
     "metadata": {},
     "output_type": "execute_result"
    }
   ],
   "source": [
    "a==b"
   ]
  },
  {
   "cell_type": "code",
   "execution_count": 35,
   "id": "0c7eab9c",
   "metadata": {},
   "outputs": [
    {
     "data": {
      "text/plain": [
       "True"
      ]
     },
     "execution_count": 35,
     "metadata": {},
     "output_type": "execute_result"
    }
   ],
   "source": [
    "a!=b"
   ]
  },
  {
   "cell_type": "code",
   "execution_count": 36,
   "id": "d108901d",
   "metadata": {},
   "outputs": [],
   "source": [
    "#logical operators"
   ]
  },
  {
   "cell_type": "code",
   "execution_count": 37,
   "id": "4ee5ea7f",
   "metadata": {},
   "outputs": [],
   "source": [
    "#&,|"
   ]
  },
  {
   "cell_type": "code",
   "execution_count": 39,
   "id": "473f928b",
   "metadata": {},
   "outputs": [],
   "source": [
    "a= True\n",
    "b= False"
   ]
  },
  {
   "cell_type": "code",
   "execution_count": 40,
   "id": "b580ce32",
   "metadata": {},
   "outputs": [
    {
     "data": {
      "text/plain": [
       "True"
      ]
     },
     "execution_count": 40,
     "metadata": {},
     "output_type": "execute_result"
    }
   ],
   "source": [
    "a&a"
   ]
  },
  {
   "cell_type": "code",
   "execution_count": 41,
   "id": "476ab5a3",
   "metadata": {},
   "outputs": [
    {
     "data": {
      "text/plain": [
       "False"
      ]
     },
     "execution_count": 41,
     "metadata": {},
     "output_type": "execute_result"
    }
   ],
   "source": [
    "b&b"
   ]
  },
  {
   "cell_type": "code",
   "execution_count": 42,
   "id": "93936032",
   "metadata": {},
   "outputs": [
    {
     "data": {
      "text/plain": [
       "False"
      ]
     },
     "execution_count": 42,
     "metadata": {},
     "output_type": "execute_result"
    }
   ],
   "source": [
    "a&b"
   ]
  },
  {
   "cell_type": "code",
   "execution_count": 43,
   "id": "8744418a",
   "metadata": {},
   "outputs": [
    {
     "data": {
      "text/plain": [
       "False"
      ]
     },
     "execution_count": 43,
     "metadata": {},
     "output_type": "execute_result"
    }
   ],
   "source": [
    "b&a"
   ]
  },
  {
   "cell_type": "code",
   "execution_count": 44,
   "id": "8c4400ef",
   "metadata": {},
   "outputs": [
    {
     "data": {
      "text/plain": [
       "True"
      ]
     },
     "execution_count": 44,
     "metadata": {},
     "output_type": "execute_result"
    }
   ],
   "source": [
    "a | b"
   ]
  },
  {
   "cell_type": "code",
   "execution_count": 45,
   "id": "514dac30",
   "metadata": {},
   "outputs": [
    {
     "data": {
      "text/plain": [
       "True"
      ]
     },
     "execution_count": 45,
     "metadata": {},
     "output_type": "execute_result"
    }
   ],
   "source": [
    "b | a"
   ]
  },
  {
   "cell_type": "code",
   "execution_count": 46,
   "id": "de76b3fb",
   "metadata": {},
   "outputs": [
    {
     "data": {
      "text/plain": [
       "True"
      ]
     },
     "execution_count": 46,
     "metadata": {},
     "output_type": "execute_result"
    }
   ],
   "source": [
    "a |a"
   ]
  },
  {
   "cell_type": "code",
   "execution_count": 47,
   "id": "7d9799bf",
   "metadata": {},
   "outputs": [
    {
     "data": {
      "text/plain": [
       "False"
      ]
     },
     "execution_count": 47,
     "metadata": {},
     "output_type": "execute_result"
    }
   ],
   "source": [
    "b|b"
   ]
  },
  {
   "cell_type": "code",
   "execution_count": 49,
   "id": "4e9f7cf8",
   "metadata": {},
   "outputs": [],
   "source": [
    " #Keywords ,Speacial wordds default words\n",
    "    #not using these keywords"
   ]
  },
  {
   "cell_type": "code",
   "execution_count": 53,
   "id": "ce908428",
   "metadata": {},
   "outputs": [],
   "source": [
    "#identifeirs\n",
    "#no spacial characters\n",
    "#case sensitive"
   ]
  },
  {
   "cell_type": "code",
   "execution_count": 55,
   "id": "30aae363",
   "metadata": {},
   "outputs": [],
   "source": [
    "student  = \"asad\""
   ]
  },
  {
   "cell_type": "code",
   "execution_count": 56,
   "id": "3dbbeb63",
   "metadata": {},
   "outputs": [],
   "source": [
    "Student=\"ali\""
   ]
  },
  {
   "cell_type": "code",
   "execution_count": 57,
   "id": "a65157fd",
   "metadata": {},
   "outputs": [
    {
     "data": {
      "text/plain": [
       "'asad'"
      ]
     },
     "execution_count": 57,
     "metadata": {},
     "output_type": "execute_result"
    }
   ],
   "source": [
    "student"
   ]
  },
  {
   "cell_type": "code",
   "execution_count": 58,
   "id": "27a8f8ab",
   "metadata": {},
   "outputs": [
    {
     "data": {
      "text/plain": [
       "'ali'"
      ]
     },
     "execution_count": 58,
     "metadata": {},
     "output_type": "execute_result"
    }
   ],
   "source": [
    "Student"
   ]
  },
  {
   "cell_type": "code",
   "execution_count": null,
   "id": "0652f971",
   "metadata": {},
   "outputs": [],
   "source": [
    "a='hello world'"
   ]
  },
  {
   "cell_type": "code",
   "execution_count": 60,
   "id": "334c3e58",
   "metadata": {},
   "outputs": [],
   "source": [
    "a=\"hello world\""
   ]
  },
  {
   "cell_type": "code",
   "execution_count": 63,
   "id": "63f39793",
   "metadata": {},
   "outputs": [
    {
     "data": {
      "text/plain": [
       "'This is my string\\nwe cannont change this code until Asad,s permissionlot\\nof\\nlines\\nare\\nin\\nthis\\n'"
      ]
     },
     "execution_count": 63,
     "metadata": {},
     "output_type": "execute_result"
    }
   ],
   "source": [
    "asad=\"\"\"This is my string\n",
    "we cannont change this code until Asad,s permission\\\n",
    "lot\n",
    "of\n",
    "lines\n",
    "are\n",
    "in\n",
    "this\n",
    "\"\"\""
   ]
  },
  {
   "cell_type": "code",
   "execution_count": 65,
   "id": "16c256d8",
   "metadata": {},
   "outputs": [],
   "source": [
    "my_string = \"this is sparta\""
   ]
  },
  {
   "cell_type": "code",
   "execution_count": 66,
   "id": "9945ad29",
   "metadata": {},
   "outputs": [
    {
     "data": {
      "text/plain": [
       "'this is sparta'"
      ]
     },
     "execution_count": 66,
     "metadata": {},
     "output_type": "execute_result"
    }
   ],
   "source": [
    "my_string"
   ]
  },
  {
   "cell_type": "code",
   "execution_count": 67,
   "id": "0d7abc3f",
   "metadata": {},
   "outputs": [
    {
     "data": {
      "text/plain": [
       "'t'"
      ]
     },
     "execution_count": 67,
     "metadata": {},
     "output_type": "execute_result"
    }
   ],
   "source": [
    "my_string[0]"
   ]
  },
  {
   "cell_type": "code",
   "execution_count": 68,
   "id": "87666765",
   "metadata": {},
   "outputs": [
    {
     "data": {
      "text/plain": [
       "'a'"
      ]
     },
     "execution_count": 68,
     "metadata": {},
     "output_type": "execute_result"
    }
   ],
   "source": [
    "my_string[-1]"
   ]
  },
  {
   "cell_type": "code",
   "execution_count": 69,
   "id": "3d4e236a",
   "metadata": {},
   "outputs": [
    {
     "data": {
      "text/plain": [
       "'is spa'"
      ]
     },
     "execution_count": 69,
     "metadata": {},
     "output_type": "execute_result"
    }
   ],
   "source": [
    "my_string[5:11]"
   ]
  },
  {
   "cell_type": "code",
   "execution_count": 213,
   "id": "5602a11a",
   "metadata": {},
   "outputs": [],
   "source": [
    "G=[\"12-09-2022\"]"
   ]
  },
  {
   "cell_type": "code",
   "execution_count": 214,
   "id": "edc419e8",
   "metadata": {},
   "outputs": [
    {
     "data": {
      "text/plain": [
       "'09'"
      ]
     },
     "execution_count": 214,
     "metadata": {},
     "output_type": "execute_result"
    }
   ],
   "source": [
    "G[0][3:5]"
   ]
  },
  {
   "cell_type": "code",
   "execution_count": 86,
   "id": "a0643d77",
   "metadata": {},
   "outputs": [],
   "source": [
    "my_string=\"asad ali mulla is a good data scientist\""
   ]
  },
  {
   "cell_type": "code",
   "execution_count": 87,
   "id": "a547657c",
   "metadata": {},
   "outputs": [
    {
     "data": {
      "text/plain": [
       "39"
      ]
     },
     "execution_count": 87,
     "metadata": {},
     "output_type": "execute_result"
    }
   ],
   "source": [
    "len(my_string)"
   ]
  },
  {
   "cell_type": "code",
   "execution_count": 89,
   "id": "aa1f395e",
   "metadata": {},
   "outputs": [
    {
     "data": {
      "text/plain": [
       "'asad ali mulla is a good data scientist'"
      ]
     },
     "execution_count": 89,
     "metadata": {},
     "output_type": "execute_result"
    }
   ],
   "source": [
    "my_string.lower()"
   ]
  },
  {
   "cell_type": "code",
   "execution_count": 90,
   "id": "56b21fff",
   "metadata": {},
   "outputs": [
    {
     "data": {
      "text/plain": [
       "'ASAD ALI MULLA IS A GOOD DATA SCIENTIST'"
      ]
     },
     "execution_count": 90,
     "metadata": {},
     "output_type": "execute_result"
    }
   ],
   "source": [
    "my_string.upper()"
   ]
  },
  {
   "cell_type": "code",
   "execution_count": 93,
   "id": "a7c17048",
   "metadata": {},
   "outputs": [
    {
     "data": {
      "text/plain": [
       "'asad ali mulla or a good data scientort'"
      ]
     },
     "execution_count": 93,
     "metadata": {},
     "output_type": "execute_result"
    }
   ],
   "source": [
    "my_string.replace('is','or')"
   ]
  },
  {
   "cell_type": "code",
   "execution_count": 94,
   "id": "4d4e6e55",
   "metadata": {},
   "outputs": [],
   "source": [
    "str_new='this is sparta 300 300 300 300 300 s'"
   ]
  },
  {
   "cell_type": "code",
   "execution_count": 96,
   "id": "fe6eb979",
   "metadata": {},
   "outputs": [
    {
     "data": {
      "text/plain": [
       "'this is sparta 300 300 300 300 300 s'"
      ]
     },
     "execution_count": 96,
     "metadata": {},
     "output_type": "execute_result"
    }
   ],
   "source": [
    "str_new"
   ]
  },
  {
   "cell_type": "code",
   "execution_count": 100,
   "id": "33565708",
   "metadata": {},
   "outputs": [
    {
     "data": {
      "text/plain": [
       "'THIS IS SPARTA 300 300 300 300 300 S'"
      ]
     },
     "execution_count": 100,
     "metadata": {},
     "output_type": "execute_result"
    }
   ],
   "source": [
    "str_new.upper()"
   ]
  },
  {
   "cell_type": "code",
   "execution_count": 101,
   "id": "5e9ba21d",
   "metadata": {},
   "outputs": [
    {
     "data": {
      "text/plain": [
       "'this is sparta 300 300 300 300 300 s'"
      ]
     },
     "execution_count": 101,
     "metadata": {},
     "output_type": "execute_result"
    }
   ],
   "source": [
    "str_new.lower()"
   ]
  },
  {
   "cell_type": "code",
   "execution_count": 102,
   "id": "4144a6d4",
   "metadata": {},
   "outputs": [
    {
     "data": {
      "text/plain": [
       "1"
      ]
     },
     "execution_count": 102,
     "metadata": {},
     "output_type": "execute_result"
    }
   ],
   "source": [
    "str_new.count('sparta')"
   ]
  },
  {
   "cell_type": "code",
   "execution_count": 103,
   "id": "e388ad5f",
   "metadata": {},
   "outputs": [
    {
     "data": {
      "text/plain": [
       "5"
      ]
     },
     "execution_count": 103,
     "metadata": {},
     "output_type": "execute_result"
    }
   ],
   "source": [
    "str_new.count('300')"
   ]
  },
  {
   "cell_type": "code",
   "execution_count": 104,
   "id": "13bf83a3",
   "metadata": {},
   "outputs": [
    {
     "data": {
      "text/plain": [
       "2"
      ]
     },
     "execution_count": 104,
     "metadata": {},
     "output_type": "execute_result"
    }
   ],
   "source": [
    "str_new.count('is')"
   ]
  },
  {
   "cell_type": "code",
   "execution_count": 105,
   "id": "0c78ff51",
   "metadata": {},
   "outputs": [
    {
     "data": {
      "text/plain": [
       "1"
      ]
     },
     "execution_count": 105,
     "metadata": {},
     "output_type": "execute_result"
    }
   ],
   "source": [
    "str_new.count('this')"
   ]
  },
  {
   "cell_type": "code",
   "execution_count": 106,
   "id": "9d8145ed",
   "metadata": {},
   "outputs": [
    {
     "data": {
      "text/plain": [
       "1"
      ]
     },
     "execution_count": 106,
     "metadata": {},
     "output_type": "execute_result"
    }
   ],
   "source": [
    "str_new.count('sparta')"
   ]
  },
  {
   "cell_type": "code",
   "execution_count": 107,
   "id": "c3b0565c",
   "metadata": {},
   "outputs": [],
   "source": [
    "#finding the index value and substring"
   ]
  },
  {
   "cell_type": "code",
   "execution_count": 108,
   "id": "6abec79d",
   "metadata": {},
   "outputs": [],
   "source": [
    "s1 = 'this is sparta'"
   ]
  },
  {
   "cell_type": "code",
   "execution_count": 111,
   "id": "764aecf8",
   "metadata": {},
   "outputs": [
    {
     "data": {
      "text/plain": [
       "8"
      ]
     },
     "execution_count": 111,
     "metadata": {},
     "output_type": "execute_result"
    }
   ],
   "source": [
    "s1.find('')"
   ]
  },
  {
   "cell_type": "code",
   "execution_count": 112,
   "id": "d184c521",
   "metadata": {},
   "outputs": [],
   "source": [
    "fruit = 'i like apple,''mango''banana'"
   ]
  },
  {
   "cell_type": "code",
   "execution_count": 113,
   "id": "5ac5c35f",
   "metadata": {},
   "outputs": [
    {
     "data": {
      "text/plain": [
       "'I LIKE APPLE,MANGOBANANA'"
      ]
     },
     "execution_count": 113,
     "metadata": {},
     "output_type": "execute_result"
    }
   ],
   "source": [
    "fruit.upper()"
   ]
  },
  {
   "cell_type": "code",
   "execution_count": 114,
   "id": "59e15f52",
   "metadata": {},
   "outputs": [],
   "source": [
    "str_final='president obama is greatest president of united states'"
   ]
  },
  {
   "cell_type": "code",
   "execution_count": 115,
   "id": "a58f0fdf",
   "metadata": {},
   "outputs": [
    {
     "data": {
      "text/plain": [
       "['pr',\n",
       " 'sid',\n",
       " 'nt obama is gr',\n",
       " 'at',\n",
       " 'st pr',\n",
       " 'sid',\n",
       " 'nt of unit',\n",
       " 'd stat',\n",
       " 's']"
      ]
     },
     "execution_count": 115,
     "metadata": {},
     "output_type": "execute_result"
    }
   ],
   "source": [
    "str_final.split('e')"
   ]
  },
  {
   "cell_type": "code",
   "execution_count": 116,
   "id": "e99d2d76",
   "metadata": {},
   "outputs": [],
   "source": [
    "#tuples are immutable"
   ]
  },
  {
   "cell_type": "code",
   "execution_count": 117,
   "id": "28fab67b",
   "metadata": {},
   "outputs": [],
   "source": [
    "tup1=(1,True,3.14,(5-7j))"
   ]
  },
  {
   "cell_type": "code",
   "execution_count": 1,
   "id": "4ed253d0",
   "metadata": {},
   "outputs": [],
   "source": [
    "a=[1,3,5,7]"
   ]
  },
  {
   "cell_type": "code",
   "execution_count": 2,
   "id": "55bc3f3e",
   "metadata": {},
   "outputs": [
    {
     "data": {
      "text/plain": [
       "list"
      ]
     },
     "execution_count": 2,
     "metadata": {},
     "output_type": "execute_result"
    }
   ],
   "source": [
    "type(a)"
   ]
  },
  {
   "cell_type": "code",
   "execution_count": 4,
   "id": "9beb6cd0",
   "metadata": {},
   "outputs": [],
   "source": [
    "x=a"
   ]
  },
  {
   "cell_type": "code",
   "execution_count": 5,
   "id": "b8616f6b",
   "metadata": {},
   "outputs": [
    {
     "data": {
      "text/plain": [
       "[1, 3, 5, 7]"
      ]
     },
     "execution_count": 5,
     "metadata": {},
     "output_type": "execute_result"
    }
   ],
   "source": [
    "x"
   ]
  },
  {
   "cell_type": "code",
   "execution_count": 11,
   "id": "5297f29b",
   "metadata": {},
   "outputs": [
    {
     "data": {
      "text/plain": [
       "{1, 3, 5, 7}"
      ]
     },
     "execution_count": 11,
     "metadata": {},
     "output_type": "execute_result"
    }
   ],
   "source": [
    "set(x)\n"
   ]
  },
  {
   "cell_type": "code",
   "execution_count": 15,
   "id": "956018a5",
   "metadata": {},
   "outputs": [
    {
     "name": "stdout",
     "output_type": "stream",
     "text": [
      "<class 'list'>\n"
     ]
    }
   ],
   "source": [
    "print(type(a))"
   ]
  },
  {
   "cell_type": "code",
   "execution_count": 17,
   "id": "e87ee12f",
   "metadata": {},
   "outputs": [],
   "source": [
    "list_name = ['apple','banana','mango']\n"
   ]
  },
  {
   "cell_type": "code",
   "execution_count": 19,
   "id": "df1edc28",
   "metadata": {},
   "outputs": [
    {
     "ename": "SyntaxError",
     "evalue": "invalid syntax (1272099842.py, line 1)",
     "output_type": "error",
     "traceback": [
      "\u001b[1;36m  File \u001b[1;32m\"C:\\Users\\alias\\AppData\\Local\\Temp\\ipykernel_5644\\1272099842.py\"\u001b[1;36m, line \u001b[1;32m1\u001b[0m\n\u001b[1;33m    myList = [myList = [1, 2, 3, 4, 4]\u001b[0m\n\u001b[1;37m                     ^\u001b[0m\n\u001b[1;31mSyntaxError\u001b[0m\u001b[1;31m:\u001b[0m invalid syntax\n"
     ]
    }
   ],
   "source": [
    "myList = [myList = [1, 2, 3, 4, 4]\n",
    "mySet = set(myList)\n",
    "print(mySet)\n",
    "mySet = set(myList)\n",
    "print(mySet)\n"
   ]
  },
  {
   "cell_type": "code",
   "execution_count": 21,
   "id": "42902400",
   "metadata": {},
   "outputs": [
    {
     "name": "stdout",
     "output_type": "stream",
     "text": [
      "{1, 2, 3, 4, 5, 6, 7, 8, 9}\n"
     ]
    },
    {
     "data": {
      "text/plain": [
       "set"
      ]
     },
     "execution_count": 21,
     "metadata": {},
     "output_type": "execute_result"
    }
   ],
   "source": [
    "my_list=[1,2,3,4,5,6,7,8,9]\n",
    "my_set=set(my_list)\n",
    "print(my_set)\n",
    "type(my_set)"
   ]
  },
  {
   "cell_type": "code",
   "execution_count": 211,
   "id": "9f2216cb",
   "metadata": {},
   "outputs": [],
   "source": [
    "G=[\"2022-09-03\"]"
   ]
  },
  {
   "cell_type": "code",
   "execution_count": 212,
   "id": "70501da6",
   "metadata": {},
   "outputs": [
    {
     "data": {
      "text/plain": [
       "'2-'"
      ]
     },
     "execution_count": 212,
     "metadata": {},
     "output_type": "execute_result"
    }
   ],
   "source": [
    "G[0][3:5]"
   ]
  },
  {
   "cell_type": "code",
   "execution_count": 71,
   "id": "bc7b9339",
   "metadata": {},
   "outputs": [],
   "source": [
    "square_dictionary = {1:1, 2:4, 3:9}"
   ]
  },
  {
   "cell_type": "code",
   "execution_count": 37,
   "id": "805d046f",
   "metadata": {},
   "outputs": [],
   "source": [
    "square_dictionary.update({4:16})"
   ]
  },
  {
   "cell_type": "code",
   "execution_count": 38,
   "id": "73f4aee1",
   "metadata": {},
   "outputs": [
    {
     "data": {
      "text/plain": [
       "{1: 1, 2: 4, 3: 9, 4: 16}"
      ]
     },
     "execution_count": 38,
     "metadata": {},
     "output_type": "execute_result"
    }
   ],
   "source": [
    "square_dictionary"
   ]
  },
  {
   "cell_type": "code",
   "execution_count": 39,
   "id": "4fe955c4",
   "metadata": {},
   "outputs": [],
   "source": [
    "str=\"Hello,please meet me at 4pm @coffeehouseccd or email me python@gmail.com\""
   ]
  },
  {
   "cell_type": "code",
   "execution_count": 40,
   "id": "2a74e8d7",
   "metadata": {},
   "outputs": [
    {
     "name": "stdout",
     "output_type": "stream",
     "text": [
      "3\n"
     ]
    }
   ],
   "source": [
    "print(str.count('me'))"
   ]
  },
  {
   "cell_type": "code",
   "execution_count": 69,
   "id": "ad644fa8",
   "metadata": {},
   "outputs": [
    {
     "name": "stdout",
     "output_type": "stream",
     "text": [
      " python@gmail\n"
     ]
    }
   ],
   "source": [
    "print((str)[-17:-4])"
   ]
  },
  {
   "cell_type": "code",
   "execution_count": 86,
   "id": "fbefa212",
   "metadata": {},
   "outputs": [],
   "source": [
    "A = {1, 4, 5, 2, 6, 3, 40, 7, 87, 4, 71}\n",
    "B = {3, 42, 51, 6, 7, 8, 54, 5}"
   ]
  },
  {
   "cell_type": "code",
   "execution_count": 91,
   "id": "7c01c1d9",
   "metadata": {},
   "outputs": [],
   "source": [
    "def intersection(A,B):\n",
    "    C = [value for value in A if value in B]\n",
    "    return C"
   ]
  },
  {
   "cell_type": "code",
   "execution_count": 92,
   "id": "842f5bce",
   "metadata": {},
   "outputs": [
    {
     "name": "stdout",
     "output_type": "stream",
     "text": [
      "[3, 5, 6, 7]\n"
     ]
    }
   ],
   "source": [
    "print(intersection(A,B))"
   ]
  },
  {
   "cell_type": "code",
   "execution_count": 88,
   "id": "983bad9f",
   "metadata": {},
   "outputs": [
    {
     "data": {
      "text/plain": [
       "{1, 2, 3, 4, 5, 6, 7, 8, 40, 42, 51, 54, 71, 87}"
      ]
     },
     "execution_count": 88,
     "metadata": {},
     "output_type": "execute_result"
    }
   ],
   "source": [
    "set.union(A,B)"
   ]
  },
  {
   "cell_type": "code",
   "execution_count": 87,
   "id": "ecf6f35b",
   "metadata": {},
   "outputs": [
    {
     "name": "stdout",
     "output_type": "stream",
     "text": [
      "{1, 2, 3, 4, 5, 6, 7, 40, 71, 87}\n"
     ]
    },
    {
     "ename": "AttributeError",
     "evalue": "'NoneType' object has no attribute 'union'",
     "output_type": "error",
     "traceback": [
      "\u001b[1;31m---------------------------------------------------------------------------\u001b[0m",
      "\u001b[1;31mAttributeError\u001b[0m                            Traceback (most recent call last)",
      "\u001b[1;32m~\\AppData\\Local\\Temp\\ipykernel_5644\\807307404.py\u001b[0m in \u001b[0;36m<module>\u001b[1;34m\u001b[0m\n\u001b[1;32m----> 1\u001b[1;33m \u001b[0mprint\u001b[0m\u001b[1;33m(\u001b[0m\u001b[0mA\u001b[0m\u001b[1;33m)\u001b[0m\u001b[1;33m.\u001b[0m\u001b[0munion\u001b[0m\u001b[1;33m(\u001b[0m\u001b[0mB\u001b[0m\u001b[1;33m)\u001b[0m\u001b[1;33m\u001b[0m\u001b[1;33m\u001b[0m\u001b[0m\n\u001b[0m",
      "\u001b[1;31mAttributeError\u001b[0m: 'NoneType' object has no attribute 'union'"
     ]
    }
   ],
   "source": [
    "print(A).union(B)"
   ]
  },
  {
   "cell_type": "code",
   "execution_count": 93,
   "id": "a722ab3a",
   "metadata": {},
   "outputs": [
    {
     "name": "stdout",
     "output_type": "stream",
     "text": [
      "{1, 2, 4, 71, 40, 87}\n",
      "{8, 42, 51, 54}\n"
     ]
    }
   ],
   "source": [
    "print (A.difference(B))\n",
    "print (B.difference(A))"
   ]
  },
  {
   "cell_type": "code",
   "execution_count": 94,
   "id": "793b3ec7",
   "metadata": {},
   "outputs": [
    {
     "name": "stdout",
     "output_type": "stream",
     "text": [
      "{8, 42, 51, 54}\n"
     ]
    }
   ],
   "source": [
    "print (B.difference(A))"
   ]
  },
  {
   "cell_type": "code",
   "execution_count": 95,
   "id": "04c1f7e0",
   "metadata": {},
   "outputs": [
    {
     "name": "stdout",
     "output_type": "stream",
     "text": [
      "{1, 2, 4, 8, 40, 42, 71, 51, 54, 87}\n"
     ]
    }
   ],
   "source": [
    "c = A.symmetric_difference(B)\n",
    "\n",
    "print(c)"
   ]
  },
  {
   "cell_type": "code",
   "execution_count": 100,
   "id": "ff5332f4",
   "metadata": {},
   "outputs": [],
   "source": [
    "num_set = {1, 2, 3, 4, 5, 6}"
   ]
  },
  {
   "cell_type": "code",
   "execution_count": 97,
   "id": "1d50d66c",
   "metadata": {},
   "outputs": [
    {
     "ename": "SyntaxError",
     "evalue": "invalid syntax (428888555.py, line 1)",
     "output_type": "error",
     "traceback": [
      "\u001b[1;36m  File \u001b[1;32m\"C:\\Users\\alias\\AppData\\Local\\Temp\\ipykernel_5644\\428888555.py\"\u001b[1;36m, line \u001b[1;32m1\u001b[0m\n\u001b[1;33m    Add '7' to the given set\u001b[0m\n\u001b[1;37m        ^\u001b[0m\n\u001b[1;31mSyntaxError\u001b[0m\u001b[1;31m:\u001b[0m invalid syntax\n"
     ]
    }
   ],
   "source": [
    "Add '7' to the given set\n",
    "b. Remove '3' from a given set\n",
    "c. Clear the set\n",
    "Use the below set for manipulation\n"
   ]
  },
  {
   "cell_type": "code",
   "execution_count": 103,
   "id": "6cb1e843",
   "metadata": {},
   "outputs": [],
   "source": [
    "num_set.add(7)"
   ]
  },
  {
   "cell_type": "code",
   "execution_count": 104,
   "id": "707edf3f",
   "metadata": {},
   "outputs": [
    {
     "name": "stdout",
     "output_type": "stream",
     "text": [
      "{1, 2, 3, 4, 5, 6, 7}\n"
     ]
    }
   ],
   "source": [
    "print(num_set)"
   ]
  },
  {
   "cell_type": "code",
   "execution_count": 105,
   "id": "7e874710",
   "metadata": {},
   "outputs": [],
   "source": [
    "num_set.remove(3)"
   ]
  },
  {
   "cell_type": "code",
   "execution_count": 106,
   "id": "a7449529",
   "metadata": {},
   "outputs": [
    {
     "name": "stdout",
     "output_type": "stream",
     "text": [
      "{1, 2, 4, 5, 6, 7}\n"
     ]
    }
   ],
   "source": [
    "print(num_set)"
   ]
  },
  {
   "cell_type": "code",
   "execution_count": 107,
   "id": "06a495bc",
   "metadata": {},
   "outputs": [],
   "source": [
    "num_set.clear()"
   ]
  },
  {
   "cell_type": "code",
   "execution_count": 108,
   "id": "66eac796",
   "metadata": {},
   "outputs": [
    {
     "name": "stdout",
     "output_type": "stream",
     "text": [
      "set()\n"
     ]
    }
   ],
   "source": [
    "print(num_set)"
   ]
  },
  {
   "cell_type": "code",
   "execution_count": 122,
   "id": "504adf4a",
   "metadata": {},
   "outputs": [
    {
     "ename": "SyntaxError",
     "evalue": "invalid syntax (2906330431.py, line 3)",
     "output_type": "error",
     "traceback": [
      "\u001b[1;36m  File \u001b[1;32m\"C:\\Users\\alias\\AppData\\Local\\Temp\\ipykernel_5644\\2906330431.py\"\u001b[1;36m, line \u001b[1;32m3\u001b[0m\n\u001b[1;33m    mix_tuple=[1:2]='Flase'\u001b[0m\n\u001b[1;37m                ^\u001b[0m\n\u001b[1;31mSyntaxError\u001b[0m\u001b[1;31m:\u001b[0m invalid syntax\n"
     ]
    }
   ],
   "source": [
    "mix_tuple = (['a', 1, True], 2, 'Science', -5)\n",
    "y= list(mix_tuple)\n",
    "mix_tuple=[1:2]='Flase'\n",
    "mix_tuple = tuple(y)\n",
    "print(mix_tuple)"
   ]
  },
  {
   "cell_type": "code",
   "execution_count": 115,
   "id": "f6ef428c",
   "metadata": {},
   "outputs": [
    {
     "name": "stdout",
     "output_type": "stream",
     "text": [
      "('apple', 'kiwi', 'cherry')\n"
     ]
    }
   ],
   "source": [
    "x = (\"apple\", \"banana\", \"cherry\")\n",
    "y = list(x)\n",
    "y[1] = \"kiwi\"\n",
    "x = tuple(y)\n",
    "\n",
    "print(x)"
   ]
  },
  {
   "cell_type": "code",
   "execution_count": 130,
   "id": "48494d64",
   "metadata": {},
   "outputs": [],
   "source": [
    "num_tuple = (4, 4, 8)\n"
   ]
  },
  {
   "cell_type": "code",
   "execution_count": 133,
   "id": "1474dbdb",
   "metadata": {},
   "outputs": [
    {
     "name": "stdout",
     "output_type": "stream",
     "text": [
      "<class 'tuple'>\n"
     ]
    }
   ],
   "source": [
    "print(type(num_tuple))"
   ]
  },
  {
   "cell_type": "code",
   "execution_count": 134,
   "id": "41e4b6e6",
   "metadata": {},
   "outputs": [
    {
     "data": {
      "text/plain": [
       "3"
      ]
     },
     "execution_count": 134,
     "metadata": {},
     "output_type": "execute_result"
    }
   ],
   "source": [
    "len(num_tuple)"
   ]
  },
  {
   "cell_type": "code",
   "execution_count": 135,
   "id": "687cc329",
   "metadata": {},
   "outputs": [],
   "source": [
    "num_tuple = (4, 4, 8)\n",
    "\n",
    "mix_tuple = 'John', 5, -2\n",
    "\n"
   ]
  },
  {
   "cell_type": "code",
   "execution_count": 136,
   "id": "9b956b42",
   "metadata": {},
   "outputs": [
    {
     "data": {
      "text/plain": [
       "(4, 4, 8, 'John', 5, -2)"
      ]
     },
     "execution_count": 136,
     "metadata": {},
     "output_type": "execute_result"
    }
   ],
   "source": [
    "num_tuple+mix_tuple"
   ]
  },
  {
   "cell_type": "code",
   "execution_count": 143,
   "id": "c8495830",
   "metadata": {},
   "outputs": [
    {
     "name": "stdout",
     "output_type": "stream",
     "text": [
      "John\n",
      "5\n",
      "-2\n"
     ]
    }
   ],
   "source": [
    "mix_tuple = 'John', 5, -2\n",
    "i = 0\n",
    "while i < len(mix_tuple):\n",
    "  print(mix_tuple[i])\n",
    "  i = i + 1"
   ]
  },
  {
   "cell_type": "code",
   "execution_count": 146,
   "id": "9de0b70b",
   "metadata": {},
   "outputs": [],
   "source": [
    "mix_tuple = 'John', 5, -2\n"
   ]
  },
  {
   "cell_type": "code",
   "execution_count": 157,
   "id": "f63c4f1b",
   "metadata": {},
   "outputs": [
    {
     "ename": "SyntaxError",
     "evalue": "invalid syntax (2374703446.py, line 3)",
     "output_type": "error",
     "traceback": [
      "\u001b[1;36m  File \u001b[1;32m\"C:\\Users\\alias\\AppData\\Local\\Temp\\ipykernel_5644\\2374703446.py\"\u001b[1;36m, line \u001b[1;32m3\u001b[0m\n\u001b[1;33m    c. Sort the elements (use sort() and sorted() function)\u001b[0m\n\u001b[1;37m            ^\u001b[0m\n\u001b[1;31mSyntaxError\u001b[0m\u001b[1;31m:\u001b[0m invalid syntax\n"
     ]
    }
   ],
   "source": [
    "a. Min(list)\n",
    "b. Max(list)\n",
    "c. Sort the elements (use sort() and sorted() function)\n",
    "d. Create a copy of a list\n",
    "e. Remove element '5' from the list\n"
   ]
  },
  {
   "cell_type": "code",
   "execution_count": 155,
   "id": "52e6f177",
   "metadata": {},
   "outputs": [
    {
     "name": "stdout",
     "output_type": "stream",
     "text": [
      "('John', 5, -2, 'John', 5, -2)\n"
     ]
    }
   ],
   "source": [
    "mix_tuple = ('John', 5, -2) * 2\n",
    "print(mix_tuple)"
   ]
  },
  {
   "cell_type": "code",
   "execution_count": 156,
   "id": "ba66b60c",
   "metadata": {},
   "outputs": [],
   "source": [
    "num_list = [4, 5, 7, -2, 0, 1]"
   ]
  },
  {
   "cell_type": "code",
   "execution_count": 158,
   "id": "08253bbc",
   "metadata": {},
   "outputs": [
    {
     "data": {
      "text/plain": [
       "-2"
      ]
     },
     "execution_count": 158,
     "metadata": {},
     "output_type": "execute_result"
    }
   ],
   "source": [
    "min(num_list)"
   ]
  },
  {
   "cell_type": "code",
   "execution_count": 159,
   "id": "74cc144c",
   "metadata": {},
   "outputs": [
    {
     "data": {
      "text/plain": [
       "7"
      ]
     },
     "execution_count": 159,
     "metadata": {},
     "output_type": "execute_result"
    }
   ],
   "source": [
    "max(num_list)"
   ]
  },
  {
   "cell_type": "code",
   "execution_count": 165,
   "id": "08965102",
   "metadata": {
    "scrolled": true
   },
   "outputs": [
    {
     "name": "stdout",
     "output_type": "stream",
     "text": [
      "[-2, 0, 1, 4, 5, 7]\n",
      "\n",
      "Original list after sorting:\n",
      "[4, 5, 7, -2, 0, 1]\n"
     ]
    }
   ],
   "source": [
    "print(sorted(num_list))\n",
    "print(\"\\nOriginal list after sorting:\")\n",
    "print(num_list)"
   ]
  },
  {
   "cell_type": "code",
   "execution_count": 168,
   "id": "445618c8",
   "metadata": {},
   "outputs": [
    {
     "data": {
      "text/plain": [
       "[4, 5, 7, -2, 0, 1]"
      ]
     },
     "execution_count": 168,
     "metadata": {},
     "output_type": "execute_result"
    }
   ],
   "source": [
    "num_list.copy()"
   ]
  },
  {
   "cell_type": "code",
   "execution_count": 167,
   "id": "f4d513e7",
   "metadata": {},
   "outputs": [
    {
     "name": "stdout",
     "output_type": "stream",
     "text": [
      "[4, 5, 7, -2, 0, 1]\n"
     ]
    }
   ],
   "source": [
    "num_list = [4, 5, 7, -2, 0, 1]\n",
    "mylist = num_list.copy()\n",
    "print(mylist)\n"
   ]
  },
  {
   "cell_type": "code",
   "execution_count": 175,
   "id": "8db5f960",
   "metadata": {},
   "outputs": [
    {
     "ename": "SyntaxError",
     "evalue": "invalid syntax (2559598893.py, line 1)",
     "output_type": "error",
     "traceback": [
      "\u001b[1;36m  File \u001b[1;32m\"C:\\Users\\alias\\AppData\\Local\\Temp\\ipykernel_5644\\2559598893.py\"\u001b[1;36m, line \u001b[1;32m1\u001b[0m\n\u001b[1;33m    num_list.del[1]\u001b[0m\n\u001b[1;37m             ^\u001b[0m\n\u001b[1;31mSyntaxError\u001b[0m\u001b[1;31m:\u001b[0m invalid syntax\n"
     ]
    }
   ],
   "source": [
    "First element\n",
    "b. Second last element\n",
    "c. First three elements\n",
    "d. Slice the list from 1st index till the last index with an increment of an index by 2\n",
    "Use the below list:"
   ]
  },
  {
   "cell_type": "code",
   "execution_count": 180,
   "id": "2aa3c9a3",
   "metadata": {},
   "outputs": [
    {
     "name": "stdout",
     "output_type": "stream",
     "text": [
      "[4, 7, -2, 0, 1]\n"
     ]
    }
   ],
   "source": [
    "num_list = [4, 5, 7, -2, 0, 1]\n",
    "num_list.remove(5)\n",
    "print(num_list)"
   ]
  },
  {
   "cell_type": "code",
   "execution_count": 185,
   "id": "095a8988",
   "metadata": {},
   "outputs": [],
   "source": [
    "mix_list = ['Python', 1, 2, 3, 'Data', True]"
   ]
  },
  {
   "cell_type": "code",
   "execution_count": 199,
   "id": "df5caa98",
   "metadata": {},
   "outputs": [
    {
     "name": "stdout",
     "output_type": "stream",
     "text": [
      "['Python', 1, 2]\n"
     ]
    }
   ],
   "source": [
    "mix_list = ['Python', 1, 2, 3, 'Data', True]\n",
    "\n",
    "print(mix_list[0:3])\n",
    "#print(mix_list[-2])\n"
   ]
  },
  {
   "cell_type": "code",
   "execution_count": 215,
   "id": "3a85d4c1",
   "metadata": {},
   "outputs": [],
   "source": [
    "num_list_1 = [1, 2, 3, 4]\n",
    "\n",
    "num_list_2 = [0, 5, 2, 1]\n"
   ]
  },
  {
   "cell_type": "code",
   "execution_count": 217,
   "id": "2824fc8b",
   "metadata": {},
   "outputs": [
    {
     "ename": "SyntaxError",
     "evalue": "invalid syntax (2133487494.py, line 1)",
     "output_type": "error",
     "traceback": [
      "\u001b[1;36m  File \u001b[1;32m\"C:\\Users\\alias\\AppData\\Local\\Temp\\ipykernel_5644\\2133487494.py\"\u001b[1;36m, line \u001b[1;32m1\u001b[0m\n\u001b[1;33m    num_list_1*num_list_2[]\u001b[0m\n\u001b[1;37m                          ^\u001b[0m\n\u001b[1;31mSyntaxError\u001b[0m\u001b[1;31m:\u001b[0m invalid syntax\n"
     ]
    }
   ],
   "source": [
    "num_list_1*num_list_2[]"
   ]
  },
  {
   "cell_type": "code",
   "execution_count": 218,
   "id": "0871cfd5",
   "metadata": {},
   "outputs": [],
   "source": [
    "mix_tuple = (['a', 1, True], 2, 'Science', -5)"
   ]
  },
  {
   "cell_type": "code",
   "execution_count": 226,
   "id": "bcd2295b",
   "metadata": {},
   "outputs": [],
   "source": [
    "a= list(mix_tuple)\n",
    "a[1]=3\n",
    "a[0][2]=False"
   ]
  },
  {
   "cell_type": "code",
   "execution_count": 227,
   "id": "25225024",
   "metadata": {},
   "outputs": [],
   "source": [
    "mix_tuple =tuple(a)"
   ]
  },
  {
   "cell_type": "code",
   "execution_count": 228,
   "id": "f0d369e2",
   "metadata": {},
   "outputs": [
    {
     "data": {
      "text/plain": [
       "(['a', 1, False], 3, 'Science', -5)"
      ]
     },
     "execution_count": 228,
     "metadata": {},
     "output_type": "execute_result"
    }
   ],
   "source": [
    "mix_tuple"
   ]
  },
  {
   "cell_type": "code",
   "execution_count": 231,
   "id": "cb0c7de7",
   "metadata": {},
   "outputs": [
    {
     "name": "stdout",
     "output_type": "stream",
     "text": [
      "(['a', 1, True], 3, 'Science', -5)\n"
     ]
    }
   ],
   "source": [
    "mix_tuple = (['a', 1, True], 2, 'Science', -5)\n",
    "a= list(mix_tuple)\n",
    "a[1]=3\n",
    "#a[0][2]=False\n",
    "mix_tuple =tuple(a)\n",
    "print(mix_tuple)\n"
   ]
  },
  {
   "cell_type": "code",
   "execution_count": 5,
   "id": "0b8c8c8d",
   "metadata": {},
   "outputs": [
    {
     "data": {
      "text/plain": [
       "'2-'"
      ]
     },
     "execution_count": 5,
     "metadata": {},
     "output_type": "execute_result"
    }
   ],
   "source": [
    "G=[\"2022-09-03\"]\n",
    "G[0][3:5]"
   ]
  },
  {
   "cell_type": "code",
   "execution_count": 7,
   "id": "3d585d25",
   "metadata": {},
   "outputs": [
    {
     "data": {
      "text/plain": [
       "'09'"
      ]
     },
     "execution_count": 7,
     "metadata": {},
     "output_type": "execute_result"
    }
   ],
   "source": [
    "G = ['2022-09-03']\n",
    "G[0][5:7]"
   ]
  },
  {
   "cell_type": "code",
   "execution_count": 8,
   "id": "3ed55a1a",
   "metadata": {},
   "outputs": [],
   "source": [
    "mix_list_1 = ['Learn', 24, 'Blue', False, -8]\n",
    "\n",
    "mix_list_2 = [4, 7, 'Summer']"
   ]
  },
  {
   "cell_type": "code",
   "execution_count": null,
   "id": "4d9682e0",
   "metadata": {},
   "outputs": [],
   "source": [
    "a. Check the length of mix_list_1\n",
    "B. Concatenate the mix_list_1 and mix_list_2\n",
    "C. Repeat the mix_list_2 s"
   ]
  },
  {
   "cell_type": "code",
   "execution_count": 10,
   "id": "9e71cfb6",
   "metadata": {},
   "outputs": [
    {
     "name": "stdout",
     "output_type": "stream",
     "text": [
      "5\n",
      "['Learn', 24, 'Blue', False, -8, 4, 7, 'Summer']\n",
      "[4, 7, 'Summer', 4, 7, 'Summer', 4, 7, 'Summer']\n"
     ]
    }
   ],
   "source": [
    "print(len(mix_list_1))\n",
    "print(mix_list_1+mix_list_2)\n",
    "print(mix_list_2*3)"
   ]
  },
  {
   "cell_type": "code",
   "execution_count": 12,
   "id": "4f622de6",
   "metadata": {},
   "outputs": [
    {
     "data": {
      "text/plain": [
       "\"Create a string with a name 'country' and 'India' as its elements. Perform the following:\\n a. Find its length\\n b. extract its first two letters\""
      ]
     },
     "execution_count": 12,
     "metadata": {},
     "output_type": "execute_result"
    }
   ],
   "source": [
    "\"\"\"Create a string with a name 'country' and 'India' as its elements. Perform the following:\n",
    " a. Find its length\n",
    " b. extract its first two letters\"\"\""
   ]
  },
  {
   "cell_type": "code",
   "execution_count": 15,
   "id": "a3ac83b3",
   "metadata": {},
   "outputs": [
    {
     "name": "stdout",
     "output_type": "stream",
     "text": [
      "7\n",
      "5\n",
      "co\n",
      "In\n"
     ]
    }
   ],
   "source": [
    "a = 'country'\n",
    "b = 'India'\n",
    "print(len(a))\n",
    "print(len(b))\n",
    "print(a[0:2])\n",
    "print(b[0:2])"
   ]
  },
  {
   "cell_type": "code",
   "execution_count": null,
   "id": "30152bad",
   "metadata": {},
   "outputs": [],
   "source": [
    "extnsion add karo and then add website which blocks copy paste"
   ]
  }
 ],
 "metadata": {
  "kernelspec": {
   "display_name": "Python 3 (ipykernel)",
   "language": "python",
   "name": "python3"
  },
  "language_info": {
   "codemirror_mode": {
    "name": "ipython",
    "version": 3
   },
   "file_extension": ".py",
   "mimetype": "text/x-python",
   "name": "python",
   "nbconvert_exporter": "python",
   "pygments_lexer": "ipython3",
   "version": "3.9.13"
  }
 },
 "nbformat": 4,
 "nbformat_minor": 5
}
