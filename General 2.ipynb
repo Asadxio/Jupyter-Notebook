{
 "cells": [
  {
   "cell_type": "code",
   "execution_count": 4,
   "id": "217b765a",
   "metadata": {},
   "outputs": [
    {
     "name": "stdout",
     "output_type": "stream",
     "text": [
      "20\n"
     ]
    }
   ],
   "source": [
    "def maximum(a, b):\n",
    "\n",
    "    if a >= b:\n",
    "        return a\n",
    "    else:\n",
    "        return b\n",
    "a = 10\n",
    "b = 20\n",
    "print(maximum(a, b))"
   ]
  },
  {
   "cell_type": "code",
   "execution_count": 10,
   "id": "36ae3382",
   "metadata": {},
   "outputs": [
    {
     "name": "stdout",
     "output_type": "stream",
     "text": [
      "['positive']\n"
     ]
    }
   ],
   "source": [
    "n=31231\n",
    "x=[\"positive\" if n>0 else \"negative\" if n<0 else \"zero\" ]\n",
    "print(x)"
   ]
  },
  {
   "cell_type": "code",
   "execution_count": 12,
   "id": "2ba9af14",
   "metadata": {},
   "outputs": [
    {
     "name": "stdout",
     "output_type": "stream",
     "text": [
      "Number of even numbers : 4\n",
      "Number of odd numbers : 5\n"
     ]
    }
   ],
   "source": [
    "numbers = (1, 2, 3, 4, 5, 6, 7, 8, 9) # Declaring the tuple\n",
    "count_odd = 0\n",
    "count_even = 0\n",
    "for x in numbers:\n",
    "        if not x % 2:\n",
    "            count_even+=1\n",
    "        else:\n",
    "            count_odd+=1\n",
    "print(\"Number of even numbers :\",count_even)\n",
    "print(\"Number of odd numbers :\",count_odd)\n"
   ]
  },
  {
   "cell_type": "code",
   "execution_count": 15,
   "id": "ee98444e",
   "metadata": {},
   "outputs": [
    {
     "name": "stdout",
     "output_type": "stream",
     "text": [
      "20\n",
      "12\n"
     ]
    }
   ],
   "source": [
    "def sum(x, y):\n",
    "    sum = x + y\n",
    "    if sum in range(15, 20):\n",
    "        return 20\n",
    "    else:\n",
    "        return sum\n",
    "\n",
    "print(sum(10, 6))\n",
    "print(sum(10, 2))\n"
   ]
  },
  {
   "cell_type": "code",
   "execution_count": 20,
   "id": "7a6c2980",
   "metadata": {},
   "outputs": [
    {
     "ename": "SyntaxError",
     "evalue": "unexpected EOF while parsing (2287799620.py, line 8)",
     "output_type": "error",
     "traceback": [
      "\u001b[1;36m  File \u001b[1;32m\"C:\\Users\\alias\\AppData\\Local\\Temp\\ipykernel_9396\\2287799620.py\"\u001b[1;36m, line \u001b[1;32m8\u001b[0m\n\u001b[1;33m    print('cube root',abs(x**0.5)\u001b[0m\n\u001b[1;37m                                 ^\u001b[0m\n\u001b[1;31mSyntaxError\u001b[0m\u001b[1;31m:\u001b[0m unexpected EOF while parsing\n"
     ]
    }
   ],
   "source": [
    "x = int(input('enter a number here : '))\n",
    "if x>0:\n",
    "    if x%2==0:\n",
    "        print('square root',x**0.5)\n",
    "    else:\n",
    "        print('square root',x**0.3)\n",
    "else:\n",
    "    print('cube root',abs(x**0.5)"
   ]
  },
  {
   "cell_type": "code",
   "execution_count": 21,
   "id": "3ec8ade9",
   "metadata": {},
   "outputs": [
    {
     "name": "stdout",
     "output_type": "stream",
     "text": [
      "Original list of positive numbers:\n",
      "[8, 4]\n",
      "True\n",
      "Check square root and cube root of the said numbers:\n",
      "Original list of positive numbers:\n",
      "[64, 16]\n",
      "Check square root and cube root of the said numbers:\n",
      "True\n",
      "Original list of positive numbers:\n",
      "[64, 36]\n",
      "Check square root and cube root of the said numbers:\n",
      "False\n"
     ]
    }
   ],
   "source": [
    "def test(nums):\n",
    "    x = nums[0]\n",
    "    y = nums[1]\n",
    "    t = y**0.5\n",
    "    if(x == t*t*t):\n",
    "        return True\n",
    "    else:\n",
    "        return False         \n",
    "nums = [8, 4]\n",
    "print(\"Original list of positive numbers:\")\n",
    "print(nums)\n",
    "print(test(nums))\n",
    "print(\"Check square root and cube root of the said numbers:\")\n",
    "nums = [64, 16]\n",
    "print(\"Original list of positive numbers:\")\n",
    "print(nums)\n",
    "print(\"Check square root and cube root of the said numbers:\")\n",
    "print(test(nums))\n",
    "nums = [64, 36]\n",
    "print(\"Original list of positive numbers:\")\n",
    "print(nums)\n",
    "print(\"Check square root and cube root of the said numbers:\")\n",
    "print(test(nums)) "
   ]
  },
  {
   "cell_type": "code",
   "execution_count": 27,
   "id": "695cc332",
   "metadata": {},
   "outputs": [
    {
     "name": "stdout",
     "output_type": "stream",
     "text": [
      "9\n"
     ]
    }
   ],
   "source": [
    "def countSquares(x):\n",
    "    sqrt = x**0.5\n",
    "    result = int(sqrt)\n",
    "    return result\n",
    "\n",
    "\n",
    "x = 99\n",
    "print(countSquares(x))"
   ]
  },
  {
   "cell_type": "code",
   "execution_count": 31,
   "id": "b440a20f",
   "metadata": {},
   "outputs": [
    {
     "name": "stdout",
     "output_type": "stream",
     "text": [
      "105,140,175,210,245,280,315,350,385,420,455,490\n"
     ]
    }
   ],
   "source": [
    "nl=[]\n",
    "for x in range(100, 500):\n",
    "    if (x%7==0) and (x%5==0):\n",
    "        nl.append(str(x))\n",
    "print (','.join(nl))\n"
   ]
  },
  {
   "cell_type": "code",
   "execution_count": 32,
   "id": "fbaaf4db",
   "metadata": {},
   "outputs": [
    {
     "name": "stdout",
     "output_type": "stream",
     "text": [
      "60\n"
     ]
    }
   ],
   "source": [
    "# Python3 program to compute\n",
    "# product of digits in the number.\n",
    "\n",
    "# Function to get product of digits\n",
    "def getProduct(n):\n",
    "\n",
    "\tproduct = 1\n",
    "\n",
    "\twhile (n != 0):\n",
    "\t\tproduct = product * (n % 10)\n",
    "\t\tn = n // 10\n",
    "\n",
    "\treturn product\n",
    "\n",
    "# Driver Code\n",
    "n = 4513\n",
    "print(getProduct(n))\n",
    "\n",
    "# This code is contributed\n",
    "# by mohit kumar\n"
   ]
  },
  {
   "cell_type": "code",
   "execution_count": 34,
   "id": "9cb082b2",
   "metadata": {},
   "outputs": [
    {
     "ename": "TypeError",
     "evalue": "sum() missing 1 required positional argument: 'y'",
     "output_type": "error",
     "traceback": [
      "\u001b[1;31m---------------------------------------------------------------------------\u001b[0m",
      "\u001b[1;31mTypeError\u001b[0m                                 Traceback (most recent call last)",
      "\u001b[1;32m~\\AppData\\Local\\Temp\\ipykernel_9396\\2708769388.py\u001b[0m in \u001b[0;36m<module>\u001b[1;34m\u001b[0m\n\u001b[0;32m      5\u001b[0m \u001b[1;31m# Driver Code\u001b[0m\u001b[1;33m\u001b[0m\u001b[1;33m\u001b[0m\u001b[0m\n\u001b[0;32m      6\u001b[0m \u001b[0mlst\u001b[0m \u001b[1;33m=\u001b[0m \u001b[1;33m[\u001b[0m\u001b[1;36m15\u001b[0m\u001b[1;33m,\u001b[0m \u001b[1;36m9\u001b[0m\u001b[1;33m,\u001b[0m \u001b[1;36m55\u001b[0m\u001b[1;33m,\u001b[0m \u001b[1;36m41\u001b[0m\u001b[1;33m,\u001b[0m \u001b[1;36m35\u001b[0m\u001b[1;33m,\u001b[0m \u001b[1;36m20\u001b[0m\u001b[1;33m,\u001b[0m \u001b[1;36m62\u001b[0m\u001b[1;33m,\u001b[0m \u001b[1;36m49\u001b[0m\u001b[1;33m]\u001b[0m\u001b[1;33m\u001b[0m\u001b[1;33m\u001b[0m\u001b[0m\n\u001b[1;32m----> 7\u001b[1;33m \u001b[0maverage\u001b[0m \u001b[1;33m=\u001b[0m \u001b[0mAverage\u001b[0m\u001b[1;33m(\u001b[0m\u001b[0mlst\u001b[0m\u001b[1;33m)\u001b[0m\u001b[1;33m\u001b[0m\u001b[1;33m\u001b[0m\u001b[0m\n\u001b[0m\u001b[0;32m      8\u001b[0m \u001b[1;33m\u001b[0m\u001b[0m\n\u001b[0;32m      9\u001b[0m \u001b[1;31m# Printing average of the list\u001b[0m\u001b[1;33m\u001b[0m\u001b[1;33m\u001b[0m\u001b[0m\n",
      "\u001b[1;32m~\\AppData\\Local\\Temp\\ipykernel_9396\\2708769388.py\u001b[0m in \u001b[0;36mAverage\u001b[1;34m(lst)\u001b[0m\n\u001b[0;32m      1\u001b[0m \u001b[1;31m# Python program to get average of a list\u001b[0m\u001b[1;33m\u001b[0m\u001b[1;33m\u001b[0m\u001b[0m\n\u001b[0;32m      2\u001b[0m \u001b[1;32mdef\u001b[0m \u001b[0mAverage\u001b[0m\u001b[1;33m(\u001b[0m\u001b[0mlst\u001b[0m\u001b[1;33m)\u001b[0m\u001b[1;33m:\u001b[0m\u001b[1;33m\u001b[0m\u001b[1;33m\u001b[0m\u001b[0m\n\u001b[1;32m----> 3\u001b[1;33m         \u001b[1;32mreturn\u001b[0m \u001b[0msum\u001b[0m\u001b[1;33m(\u001b[0m\u001b[0mlst\u001b[0m\u001b[1;33m)\u001b[0m \u001b[1;33m/\u001b[0m \u001b[0mlen\u001b[0m\u001b[1;33m(\u001b[0m\u001b[0mlst\u001b[0m\u001b[1;33m)\u001b[0m\u001b[1;33m\u001b[0m\u001b[1;33m\u001b[0m\u001b[0m\n\u001b[0m\u001b[0;32m      4\u001b[0m \u001b[1;33m\u001b[0m\u001b[0m\n\u001b[0;32m      5\u001b[0m \u001b[1;31m# Driver Code\u001b[0m\u001b[1;33m\u001b[0m\u001b[1;33m\u001b[0m\u001b[0m\n",
      "\u001b[1;31mTypeError\u001b[0m: sum() missing 1 required positional argument: 'y'"
     ]
    }
   ],
   "source": [
    "# Python program to get average of a list\n",
    "def Average(lst):\n",
    "\treturn sum(lst) / len(lst)\n",
    "\n",
    "# Driver Code\n",
    "lst = [15, 9, 55, 41, 35, 20, 62, 49]\n",
    "average = Average(lst)\n",
    "\n",
    "# Printing average of the list\n",
    "print(\"Average of the list =\", round(average, 2))"
   ]
  },
  {
   "cell_type": "code",
   "execution_count": 10,
   "id": "757ddc9e",
   "metadata": {},
   "outputs": [
    {
     "name": "stdout",
     "output_type": "stream",
     "text": [
      "5  *  1  =  5\n",
      "5  *  2  =  10\n",
      "5  *  3  =  15\n",
      "5  *  4  =  20\n",
      "5  *  5  =  25\n",
      "5  *  6  =  30\n",
      "5  *  7  =  35\n",
      "5  *  8  =  40\n",
      "5  *  9  =  45\n",
      "5  *  10  =  50\n"
     ]
    }
   ],
   "source": [
    "i =1\n",
    "n=5\n",
    "while i<=10:\n",
    "    print(n ,\" * \",i,\" = \",n*i)\n",
    "    i=i+1"
   ]
  },
  {
   "cell_type": "code",
   "execution_count": 17,
   "id": "bf610107",
   "metadata": {},
   "outputs": [
    {
     "name": "stdout",
     "output_type": "stream",
     "text": [
      "input a number6\n",
      "6 is not a prime number\n"
     ]
    }
   ],
   "source": [
    "num = int(input(\"input a number\"))\n",
    "if num > 1:\n",
    "    for i in range(2, int(num/2)+1):\n",
    "        if (num % i) == 0:\n",
    "            print(num, \"is not a prime number\")\n",
    "            break\n",
    "    else:\n",
    "        print(num, \"is a prime number\")\n",
    "else:\n",
    "    print(num, \"is not a prime number\")"
   ]
  },
  {
   "cell_type": "code",
   "execution_count": 19,
   "id": "7e34420c",
   "metadata": {},
   "outputs": [
    {
     "name": "stdout",
     "output_type": "stream",
     "text": [
      "Enter number 1: 345\n",
      "Enter number 2: 45\n",
      "Not Amicable!\n"
     ]
    }
   ],
   "source": [
    "x=int(input('Enter number 1: '))\n",
    "y=int(input('Enter number 2: '))\n",
    "sum1=0\n",
    "sum2=0\n",
    "for i in range(1,x):\n",
    "    if x%i==0:\n",
    "        sum1+=i\n",
    "for j in range(1,y):\n",
    "    if y%j==0:\n",
    "        sum2+=j\n",
    "if(sum1==y and sum2==x):\n",
    "    print('Amicable!')\n",
    "else:\n",
    "    print('Not Amicable!')"
   ]
  },
  {
   "cell_type": "code",
   "execution_count": 22,
   "id": "63975a41",
   "metadata": {},
   "outputs": [
    {
     "name": "stdout",
     "output_type": "stream",
     "text": [
      "[1, 2, 3, 41, 5, 4, 56, 36, 6, 66, 645, 8]\n"
     ]
    }
   ],
   "source": [
    "\n",
    "def Remove(duplicate):\n",
    "    final_list = []\n",
    "    for num in duplicate:\n",
    "        if num not in final_list:\n",
    "            final_list.append(num)\n",
    "    return final_list\n",
    "num2=[1,2,3,41,3,5,4,56,4,56,4,4,36,6,66,6,645,3,3,5,6,8]\n",
    "print(Remove(num2))"
   ]
  },
  {
   "cell_type": "code",
   "execution_count": 45,
   "id": "4bc9772c",
   "metadata": {},
   "outputs": [
    {
     "name": "stdout",
     "output_type": "stream",
     "text": [
      "Vowels: 51\n",
      "Consonant: 83\n",
      "Digit: 0\n",
      "Special Character: 32\n"
     ]
    }
   ],
   "source": [
    "\n",
    "def countCharacterType(str):\n",
    "\n",
    "\n",
    "\tvowels = 0\n",
    "\tconsonant = 0\n",
    "\tspecialChar = 0\n",
    "\tdigit = 0\n",
    "\tfor i in range(0, len(str)):\n",
    "\t\t\n",
    "\t\tch = str[i]\n",
    "\n",
    "\t\tif ( (ch >= 'a' and ch <= 'z') or\n",
    "\t\t\t(ch >= 'A' and ch <= 'Z') ):\n",
    "\n",
    "\t\t\tch = ch.lower()\n",
    "\n",
    "\t\t\tif (ch == 'a' or ch == 'e' or ch == 'i'\n",
    "\t\t\t\t\t\tor ch == 'o' or ch == 'u'):\n",
    "\t\t\t\tvowels += 1\n",
    "\t\t\telse:\n",
    "\t\t\t\tconsonant += 1\n",
    "\t\t\n",
    "\t\telif (ch >= '0' and ch <= '9'):\n",
    "\t\t\tdigit += 1\n",
    "\t\telse:\n",
    "\t\t\tspecialChar += 1\n",
    "\t\n",
    "\tprint(\"Vowels:\", vowels)\n",
    "\tprint(\"Consonant:\", consonant)\n",
    "\tprint(\"Digit:\", digit)\n",
    "\tprint(\"Special Character:\", specialChar)\n",
    "str = \"But soft what light through yonder window breaks It is the east and Juliet is the sun Arise fair sun and kill the envious moon Who is already sick and pale with grief\"\n",
    "countCharacterType(str)\n"
   ]
  },
  {
   "cell_type": "code",
   "execution_count": 56,
   "id": "226b5e4a",
   "metadata": {},
   "outputs": [
    {
     "ename": "SyntaxError",
     "evalue": "invalid non-printable character U+00A0 (534638212.py, line 2)",
     "output_type": "error",
     "traceback": [
      "\u001b[1;36m  File \u001b[1;32m\"C:\\Users\\alias\\AppData\\Local\\Temp\\ipykernel_8504\\534638212.py\"\u001b[1;36m, line \u001b[1;32m2\u001b[0m\n\u001b[1;33m    \u001b[0m\n\u001b[1;37m    ^\u001b[0m\n\u001b[1;31mSyntaxError\u001b[0m\u001b[1;31m:\u001b[0m invalid non-printable character U+00A0\n"
     ]
    }
   ],
   "source": [
    "string = \"asdfHRbySFss\"\n",
    " \n",
    "uppers = [l for l in string if l.isupper()]\n",
    "print (''.join(uppers))\n",
    " \n",
    "lowers = [l for l in string if l.islower()]\n",
    "print (''.join(lowers))"
   ]
  },
  {
   "cell_type": "code",
   "execution_count": null,
   "id": "cc7241a6",
   "metadata": {},
   "outputs": [],
   "source": []
  }
 ],
 "metadata": {
  "kernelspec": {
   "display_name": "Python 3 (ipykernel)",
   "language": "python",
   "name": "python3"
  },
  "language_info": {
   "codemirror_mode": {
    "name": "ipython",
    "version": 3
   },
   "file_extension": ".py",
   "mimetype": "text/x-python",
   "name": "python",
   "nbconvert_exporter": "python",
   "pygments_lexer": "ipython3",
   "version": "3.9.13"
  }
 },
 "nbformat": 4,
 "nbformat_minor": 5
}
