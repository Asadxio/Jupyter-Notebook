{
 "cells": [
  {
   "cell_type": "code",
   "execution_count": 1,
   "id": "8bd8ed3d",
   "metadata": {},
   "outputs": [
    {
     "name": "stdout",
     "output_type": "stream",
     "text": [
      "{'e': 3, 'k': 1, 'd': 1, 'a': 1}\n"
     ]
    }
   ],
   "source": [
    "def string_to_dict(string):\n",
    "    char_counts = {}\n",
    "    for char in string:\n",
    "        if char in char_counts:\n",
    "            char_counts[char] += 1\n",
    "        else:\n",
    "            char_counts[char] = 1\n",
    "    return char_counts\n",
    "\n",
    "string = 'ekeeda'\n",
    "print(string_to_dict(string))\n"
   ]
  },
  {
   "cell_type": "code",
   "execution_count": 2,
   "id": "8ea13e48",
   "metadata": {},
   "outputs": [
    {
     "name": "stdout",
     "output_type": "stream",
     "text": [
      "{'person': {'Name': 'Simulen', 'City': 'CA', 'Country': 'USA', 'Age': 25, 'Occupation': 'Software Engineer'}}\n"
     ]
    }
   ],
   "source": [
    "dictt = {'person': { \"Name\" : \"Simulen\", \n",
    "                     \"City\" : \"CA\", \n",
    "                     \"Country\" : \"USA\"}}\n",
    "dictt['person']['Age'] = 25\n",
    "dictt['person']['Occupation'] = 'Software Engineer'\n",
    "print(dictt)\n"
   ]
  },
  {
   "cell_type": "code",
   "execution_count": 4,
   "id": "72e7651f",
   "metadata": {},
   "outputs": [
    {
     "name": "stdout",
     "output_type": "stream",
     "text": [
      "65\n"
     ]
    }
   ],
   "source": [
    "dictt = {\n",
    "  'Physics': 82,\n",
    "  'Math': 65,\n",
    "  'history': 75\n",
    "}\n",
    "\n",
    "\n",
    "min_value = min(dictt.values())\n",
    "print(min_value)"
   ]
  },
  {
   "cell_type": "code",
   "execution_count": 5,
   "id": "fcc28a97",
   "metadata": {},
   "outputs": [
    {
     "name": "stdout",
     "output_type": "stream",
     "text": [
      "The value is in the dictionary\n"
     ]
    }
   ],
   "source": [
    "dicttt = {'a': 100, 'b': 200, 'c': 300}\n",
    "if 200 in dicttt.values():\n",
    "    print(\"The value is in the dictionary\")\n",
    "else:\n",
    "    print(\"The value is not in the dictionary\")\n"
   ]
  },
  {
   "cell_type": "code",
   "execution_count": 6,
   "id": "b39ec35d",
   "metadata": {},
   "outputs": [
    {
     "name": "stdout",
     "output_type": "stream",
     "text": [
      "Present\n"
     ]
    }
   ],
   "source": [
    "dicttt = {'a': 100, 'b': 200, 'c': 300}\n",
    "if dicttt.get('a') == None:\n",
    "    print(\"Not Present\")\n",
    "else:\n",
    "    print(\"Present\")"
   ]
  },
  {
   "cell_type": "code",
   "execution_count": 7,
   "id": "883a3914",
   "metadata": {},
   "outputs": [
    {
     "name": "stdout",
     "output_type": "stream",
     "text": [
      "{1: 'a', 2: 'b', 3: 'c', 4: 'd', 5: 'e'}\n"
     ]
    }
   ],
   "source": [
    "dict_num={1: 'a', 2: 'b', 3: 'c', 4: 'd', 5: 'e', 6: None}\n",
    "dict_num ={key:value for (key, value) in dict_num.items() if value is not None}\n",
    "print(dict_num)\n"
   ]
  },
  {
   "cell_type": "code",
   "execution_count": 8,
   "id": "fdd69106",
   "metadata": {},
   "outputs": [
    {
     "name": "stdout",
     "output_type": "stream",
     "text": [
      "{1: 'a', 2: 'b', 3: 'c', 4: 'd', 5: 'e'}\n"
     ]
    }
   ],
   "source": [
    "dict_num = {1: 'a', 2: 'b', 3: 'c', 4: 'd', 5: 'e', 6: None}\n",
    "filtered_dict = {k: v for k, v in dict_num.items() if v is not None}\n",
    "print(filtered_dict)\n"
   ]
  },
  {
   "cell_type": "code",
   "execution_count": 9,
   "id": "707f4ed2",
   "metadata": {},
   "outputs": [
    {
     "name": "stdout",
     "output_type": "stream",
     "text": [
      "Key       Value\n",
      "1         a\n",
      "2         b\n",
      "3         c\n",
      "4         d\n",
      "5         e\n",
      "6         f\n"
     ]
    }
   ],
   "source": [
    "dict_num = {1: 'a', 2: 'b', 3: 'c', 4: 'd', 5: 'e', 6: 'f'}\n",
    "\n",
    "# Print the table header\n",
    "print(\"Key\".ljust(10) + \"Value\")\n",
    "\n",
    "# Print the key-value pairs\n",
    "for k, v in dict_num.items():\n",
    "    print(str(k).ljust(10) + str(v))\n"
   ]
  },
  {
   "cell_type": "code",
   "execution_count": 10,
   "id": "6707ffc1",
   "metadata": {},
   "outputs": [
    {
     "name": "stdout",
     "output_type": "stream",
     "text": [
      "Student ID: student1\n",
      "Name: John Smith\n",
      "Age: 23\n",
      "Courses: Physics, Chemistry, Biology\n",
      "\n",
      "Student ID: student2\n",
      "Name: Jane Doe\n",
      "Age: 25\n",
      "Courses: Math, Computer Science\n",
      "\n"
     ]
    }
   ],
   "source": [
    "students = {\n",
    "    \"student1\": {\n",
    "        \"name\": \"John Smith\",\n",
    "        \"age\": 23,\n",
    "        \"courses\": [\"Physics\", \"Chemistry\", \"Biology\"]\n",
    "    },\n",
    "    \"student2\": {\n",
    "        \"name\": \"Jane Doe\",\n",
    "        \"age\": 25,\n",
    "        \"courses\": [\"Math\", \"Computer Science\"]\n",
    "    }\n",
    "}\n",
    "\n",
    "for student_id, student_data in students.items():\n",
    "    print(f\"Student ID: {student_id}\")\n",
    "    print(f\"Name: {student_data['name']}\")\n",
    "    print(f\"Age: {student_data['age']}\")\n",
    "    print(f\"Courses: {', '.join(student_data['courses'])}\")\n",
    "    print()  # Add a blank line between students\n",
    "\n"
   ]
  },
  {
   "cell_type": "code",
   "execution_count": 13,
   "id": "24961b3a",
   "metadata": {},
   "outputs": [
    {
     "name": "stdout",
     "output_type": "stream",
     "text": [
      "60\n"
     ]
    }
   ],
   "source": [
    "d = {'a': 10, 'b': 20, 'c': 30}\n",
    "\n",
    "total = 0\n",
    "\n",
    "for value in d.values():\n",
    "    total += value\n",
    "\n",
    "print(total)"
   ]
  },
  {
   "cell_type": "code",
   "execution_count": 15,
   "id": "d05b6ca9",
   "metadata": {},
   "outputs": [
    {
     "name": "stdout",
     "output_type": "stream",
     "text": [
      "{7: 49, 8: 64, 9: 81, 10: 100, 11: 121, 12: 144, 13: 169}\n"
     ]
    }
   ],
   "source": [
    "d = {k: k**2 for k in range(7, 14)}\n",
    "\n",
    "print(d) "
   ]
  },
  {
   "cell_type": "code",
   "execution_count": 16,
   "id": "2dc6e1b8",
   "metadata": {},
   "outputs": [
    {
     "name": "stdout",
     "output_type": "stream",
     "text": [
      "[('a', 10), ('b', 20), ('c', 30)]\n"
     ]
    }
   ],
   "source": [
    "d = {'a': 10, 'b': 20, 'c': 30}\n",
    "\n",
    "lst = [(k, v) for k, v in d.items()]\n",
    "\n",
    "print(lst) "
   ]
  },
  {
   "cell_type": "code",
   "execution_count": 18,
   "id": "adea5bb4",
   "metadata": {},
   "outputs": [
    {
     "name": "stdout",
     "output_type": "stream",
     "text": [
      "{1: 1, 2: 4, 3: 9, 4: 16, 5: 25}\n"
     ]
    }
   ],
   "source": [
    "n = 5\n",
    "\n",
    "d = {k: k**2 for k in range(1, n+1)}\n",
    "\n",
    "print(d)\n"
   ]
  },
  {
   "cell_type": "code",
   "execution_count": 19,
   "id": "93c0980e",
   "metadata": {},
   "outputs": [
    {
     "name": "stdout",
     "output_type": "stream",
     "text": [
      "{1: 10, 2: 20, 3: 30, 4: 40, 5: 50, 6: 60}\n"
     ]
    }
   ],
   "source": [
    "dictt1 = {1: 10, 2: 20}\n",
    "dictt2 = {3: 30, 4: 40}\n",
    "dictt3 = {5: 50, 6: 60}\n",
    "\n",
    "dictt1.update(dictt2)\n",
    "dictt1.update(dictt3)\n",
    "\n",
    "print(dictt1)  "
   ]
  },
  {
   "cell_type": "code",
   "execution_count": 20,
   "id": "f9b87063",
   "metadata": {},
   "outputs": [
    {
     "name": "stdout",
     "output_type": "stream",
     "text": [
      "{0: 'a', 1: 'a', 2: 'b'}\n"
     ]
    }
   ],
   "source": [
    "Dicti = {0: 'a', 1: 'a'}\n",
    "\n",
    "Dicti[2] = 'b'\n",
    "\n",
    "print(Dicti) "
   ]
  },
  {
   "cell_type": "code",
   "execution_count": 21,
   "id": "9bd4915b",
   "metadata": {},
   "outputs": [
    {
     "name": "stdout",
     "output_type": "stream",
     "text": [
      "{'E': 4, 'K': 2, 'D': 5, 'A': 6}\n"
     ]
    }
   ],
   "source": [
    "keys = ['E','K','E','E','D','A']\n",
    "values = [1,2,3,4,5,6]\n",
    "\n",
    "d = {k: v for k, v in zip(keys, values)}\n",
    "\n",
    "print(d) "
   ]
  },
  {
   "cell_type": "code",
   "execution_count": 22,
   "id": "d32a65d1",
   "metadata": {},
   "outputs": [
    {
     "name": "stdout",
     "output_type": "stream",
     "text": [
      "(11, -1)\n"
     ]
    }
   ],
   "source": [
    "def calculation(a, b):\n",
    "  addition = a + b\n",
    "  subtraction = a - b\n",
    "  return addition, subtraction\n",
    "\n",
    "result = calculation(5, 6)\n",
    "print(result)\n"
   ]
  },
  {
   "cell_type": "code",
   "execution_count": 23,
   "id": "b892ed16",
   "metadata": {},
   "outputs": [
    {
     "name": "stdout",
     "output_type": "stream",
     "text": [
      "11\n",
      "-1\n"
     ]
    }
   ],
   "source": [
    "def calculation(x, y):\n",
    "    addition = x + y\n",
    "    subtraction = x - y\n",
    "    \n",
    "    return addition, subtraction\n",
    "\n",
    "Addition, subtraction = calculation(5, 6)\n",
    "print(Addition)  # Output: 11\n",
    "print(subtraction)  # Output: -1\n"
   ]
  },
  {
   "cell_type": "code",
   "execution_count": 24,
   "id": "bb2979a0",
   "metadata": {},
   "outputs": [
    {
     "name": "stdout",
     "output_type": "stream",
     "text": [
      "{'Asad': 'DAV', 'Shaikh': 'DAV', 'XYZ': 'DAV'}\n",
      "Result after Default value\n",
      "{'Asad': 'Ekeeda', 'Shaikh': 'Ekeeda', 'XYZ': 'Ekeeda'}\n"
     ]
    }
   ],
   "source": [
    "def friends(names, school='DAV'):\n",
    "  friends_dict = {}\n",
    "  for name in names:\n",
    "    friends_dict[name] = school\n",
    "  return friends_dict\n",
    "\n",
    "names = ['Asad', 'Shaikh', 'XYZ']\n",
    "result = friends(names)\n",
    "print(result)\n",
    "print(\"Result after Default value\")\n",
    "result = friends(names, school='Ekeeda')\n",
    "print(result)\n"
   ]
  },
  {
   "cell_type": "code",
   "execution_count": 26,
   "id": "543f6091",
   "metadata": {},
   "outputs": [
    {
     "name": "stdout",
     "output_type": "stream",
     "text": [
      "3.0\n"
     ]
    }
   ],
   "source": [
    "import math\n",
    "import time\n",
    "\n",
    "def square_root(x):\n",
    "    # Calculate the square root of x\n",
    "    result = math.sqrt(x)\n",
    "    \n",
    "    # Print the result\n",
    "    print(result)\n",
    "\n",
    "# Run the function after a delay of 3 seconds\n",
    "time.sleep(3)\n",
    "square_root(9)  # Output: 3.0\n"
   ]
  },
  {
   "cell_type": "code",
   "execution_count": 28,
   "id": "6e19a325",
   "metadata": {},
   "outputs": [
    {
     "name": "stdout",
     "output_type": "stream",
     "text": [
      "[2, 4, 6, 8, 10, 12]\n"
     ]
    }
   ],
   "source": [
    "def is_even_num(l):\n",
    "    enum = []\n",
    "    for n in l:\n",
    "        if n % 2 == 0:\n",
    "            enum.append(n)\n",
    "    return enum\n",
    "print(is_even_num([1, 2, 3, 4, 5, 6, 7, 8, 9,10,11,12]))"
   ]
  },
  {
   "cell_type": "code",
   "execution_count": 29,
   "id": "5a3e7285",
   "metadata": {},
   "outputs": [
    {
     "name": "stdout",
     "output_type": "stream",
     "text": [
      "9\n"
     ]
    }
   ],
   "source": [
    "nums = [4, 2, 9]\n",
    "\n",
    "maximum = max(nums)\n",
    "\n",
    "print(maximum)  # Output: 9\n"
   ]
  },
  {
   "cell_type": "code",
   "execution_count": null,
   "id": "c96331cb",
   "metadata": {},
   "outputs": [],
   "source": []
  }
 ],
 "metadata": {
  "kernelspec": {
   "display_name": "Python 3 (ipykernel)",
   "language": "python",
   "name": "python3"
  },
  "language_info": {
   "codemirror_mode": {
    "name": "ipython",
    "version": 3
   },
   "file_extension": ".py",
   "mimetype": "text/x-python",
   "name": "python",
   "nbconvert_exporter": "python",
   "pygments_lexer": "ipython3",
   "version": "3.9.13"
  }
 },
 "nbformat": 4,
 "nbformat_minor": 5
}
