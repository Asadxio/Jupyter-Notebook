{
 "cells": [
  {
   "cell_type": "code",
   "execution_count": 13,
   "id": "3de737e7",
   "metadata": {},
   "outputs": [
    {
     "name": "stdout",
     "output_type": "stream",
     "text": [
      "Enter anything234234\n",
      "This is not correct\n"
     ]
    }
   ],
   "source": [
    "z=str(input('Enter anything'))\n",
    "if z == ('asad'):\n",
    "    print('This is correct')\n",
    "else:\n",
    "    print(\"This is not correct\")"
   ]
  },
  {
   "cell_type": "code",
   "execution_count": 16,
   "id": "48c621d1",
   "metadata": {},
   "outputs": [
    {
     "name": "stdout",
     "output_type": "stream",
     "text": [
      "Equilateral Traingle12\n",
      "isosceles Traingle12\n",
      "scelene Traingle111\n"
     ]
    }
   ],
   "source": [
    "x=int(input(\"Equilateral Traingle\"))\n",
    "y=int(input(\"isosceles Traingle\"))\n",
    "z=int(input(\"scelene Traingle\"))\n",
    "if x==y==z:\n",
    "    print(\"Equi ISco\")"
   ]
  },
  {
   "cell_type": "code",
   "execution_count": null,
   "id": "239f0cdb",
   "metadata": {},
   "outputs": [],
   "source": []
  }
 ],
 "metadata": {
  "kernelspec": {
   "display_name": "Python 3 (ipykernel)",
   "language": "python",
   "name": "python3"
  },
  "language_info": {
   "codemirror_mode": {
    "name": "ipython",
    "version": 3
   },
   "file_extension": ".py",
   "mimetype": "text/x-python",
   "name": "python",
   "nbconvert_exporter": "python",
   "pygments_lexer": "ipython3",
   "version": "3.9.13"
  }
 },
 "nbformat": 4,
 "nbformat_minor": 5
}
