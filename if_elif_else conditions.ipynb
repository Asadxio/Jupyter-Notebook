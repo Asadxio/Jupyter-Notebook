{
 "cells": [
  {
   "cell_type": "code",
   "execution_count": 27,
   "id": "562369e1",
   "metadata": {},
   "outputs": [],
   "source": [
    "a=30"
   ]
  },
  {
   "cell_type": "code",
   "execution_count": 28,
   "id": "7b934d95",
   "metadata": {},
   "outputs": [],
   "source": [
    "b=20"
   ]
  },
  {
   "cell_type": "code",
   "execution_count": 29,
   "id": "fb4f29f1",
   "metadata": {},
   "outputs": [
    {
     "name": "stdout",
     "output_type": "stream",
     "text": [
      "a is greater then b\n"
     ]
    }
   ],
   "source": [
    "if a>b:\n",
    "    print(\"a is greater then b\")\n",
    "else:\n",
    "    print(\"b is greater then a\")"
   ]
  },
  {
   "cell_type": "code",
   "execution_count": 30,
   "id": "04240dbb",
   "metadata": {},
   "outputs": [],
   "source": [
    "a=10\n",
    "b=20\n",
    "c=30"
   ]
  },
  {
   "cell_type": "code",
   "execution_count": 31,
   "id": "81e57127",
   "metadata": {},
   "outputs": [
    {
     "name": "stdout",
     "output_type": "stream",
     "text": [
      "C is the greatest\n"
     ]
    }
   ],
   "source": [
    "if (a>b) & (a>c):\n",
    "    print(\"A is the greatest\")\n",
    "elif (b>a) & (b>c):\n",
    "    print(\"B is the greatest\")\n",
    "else:\n",
    "    print(\"C is the greatest\")"
   ]
  },
  {
   "cell_type": "code",
   "execution_count": 32,
   "id": "1a8c9a98",
   "metadata": {},
   "outputs": [],
   "source": [
    "# if with tuple"
   ]
  },
  {
   "cell_type": "code",
   "execution_count": 33,
   "id": "d6741dba",
   "metadata": {},
   "outputs": [],
   "source": [
    "tup1 =('a','b','c')"
   ]
  },
  {
   "cell_type": "code",
   "execution_count": 35,
   "id": "acfdae93",
   "metadata": {},
   "outputs": [
    {
     "name": "stdout",
     "output_type": "stream",
     "text": [
      "value a is present in tup1\n"
     ]
    }
   ],
   "source": [
    "if 'a' in tup1:\n",
    "    print(\"value a is present in tup1\")\n",
    "else:\n",
    "    print(\"value a is not present in tup1\")"
   ]
  },
  {
   "cell_type": "code",
   "execution_count": 36,
   "id": "a9cc90b2",
   "metadata": {},
   "outputs": [],
   "source": [
    "# if with list"
   ]
  },
  {
   "cell_type": "code",
   "execution_count": 37,
   "id": "4b071b92",
   "metadata": {},
   "outputs": [],
   "source": [
    "l1=['a','b','c']"
   ]
  },
  {
   "cell_type": "code",
   "execution_count": 38,
   "id": "c91aed0d",
   "metadata": {},
   "outputs": [],
   "source": [
    "if l1[1]=='b':\n",
    "    l1[1]='z'"
   ]
  },
  {
   "cell_type": "code",
   "execution_count": 39,
   "id": "93684292",
   "metadata": {},
   "outputs": [
    {
     "data": {
      "text/plain": [
       "['a', 'z', 'c']"
      ]
     },
     "execution_count": 39,
     "metadata": {},
     "output_type": "execute_result"
    }
   ],
   "source": [
    "l1"
   ]
  },
  {
   "cell_type": "code",
   "execution_count": 40,
   "id": "59fe90d0",
   "metadata": {},
   "outputs": [],
   "source": [
    "#if with dictionary"
   ]
  },
  {
   "cell_type": "code",
   "execution_count": 42,
   "id": "f217ee79",
   "metadata": {},
   "outputs": [],
   "source": [
    "d1 = {'k1':10,'k2':20,'k3':30}"
   ]
  },
  {
   "cell_type": "code",
   "execution_count": 43,
   "id": "ac470d69",
   "metadata": {},
   "outputs": [
    {
     "data": {
      "text/plain": [
       "{'k1': 10, 'k2': 20, 'k3': 30}"
      ]
     },
     "execution_count": 43,
     "metadata": {},
     "output_type": "execute_result"
    }
   ],
   "source": [
    "d1"
   ]
  },
  {
   "cell_type": "code",
   "execution_count": 44,
   "id": "551e911f",
   "metadata": {},
   "outputs": [],
   "source": [
    "if d1['k3'] ==30:\n",
    "    d1['k3']=d1['k3']+100"
   ]
  },
  {
   "cell_type": "code",
   "execution_count": 45,
   "id": "09b5d29b",
   "metadata": {},
   "outputs": [
    {
     "data": {
      "text/plain": [
       "{'k1': 10, 'k2': 20, 'k3': 130}"
      ]
     },
     "execution_count": 45,
     "metadata": {},
     "output_type": "execute_result"
    }
   ],
   "source": [
    "d1"
   ]
  },
  {
   "cell_type": "code",
   "execution_count": 1,
   "id": "9a6fb638",
   "metadata": {},
   "outputs": [
    {
     "name": "stdout",
     "output_type": "stream",
     "text": [
      "35  is divisible by 7 and 5.\n"
     ]
    }
   ],
   "source": [
    "# enter the starting range number\n",
    "start_num = int(29)\n",
    "\n",
    "# enter the ending range number\n",
    "end_num = int(36)\n",
    "\n",
    "# initialise counter with starting number\n",
    "cnt = start_num\n",
    "\n",
    "# check until end of the range is achieved\n",
    "while cnt <= end_num:\n",
    "\t\n",
    "\t# if number divisible by 7 and 5\n",
    "\tif cnt % 7 == 0 and cnt % 5 == 0:\n",
    "\t\tprint(cnt, \" is divisible by 7 and 5.\")\n",
    "\t\t\n",
    "\t# increment counter\n",
    "\tcnt += 1\n"
   ]
  },
  {
   "cell_type": "code",
   "execution_count": 4,
   "id": "d2770324",
   "metadata": {},
   "outputs": [
    {
     "name": "stdout",
     "output_type": "stream",
     "text": [
      "number is multiple of 10\n",
      "number is not multiple of 10\n"
     ]
    }
   ],
   "source": [
    "if 100 % 10 == 0:\n",
    "    print('number is multiple of 10')\n",
    "else:\n",
    "    print('number is NOT multiple of 10')\n",
    "\n",
    "if 123 % 10 != 0:\n",
    "    print('number is not multiple of 10')\n"
   ]
  },
  {
   "cell_type": "code",
   "execution_count": null,
   "id": "c99d68c5",
   "metadata": {},
   "outputs": [],
   "source": [
    "num = int(input('Enter a number: '))\n",
    "print(num)  # 👉️ 10\n",
    "\n",
    "if num % 10 == 0:\n",
    "    print('number is multiple of 10')\n"
   ]
  },
  {
   "cell_type": "code",
   "execution_count": null,
   "id": "115c2902",
   "metadata": {},
   "outputs": [],
   "source": []
  }
 ],
 "metadata": {
  "kernelspec": {
   "display_name": "Python 3 (ipykernel)",
   "language": "python",
   "name": "python3"
  },
  "language_info": {
   "codemirror_mode": {
    "name": "ipython",
    "version": 3
   },
   "file_extension": ".py",
   "mimetype": "text/x-python",
   "name": "python",
   "nbconvert_exporter": "python",
   "pygments_lexer": "ipython3",
   "version": "3.9.13"
  }
 },
 "nbformat": 4,
 "nbformat_minor": 5
}
