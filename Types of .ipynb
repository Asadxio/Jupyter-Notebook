{
 "cells": [
  {
   "cell_type": "code",
   "execution_count": 1,
   "id": "1649c945",
   "metadata": {},
   "outputs": [
    {
     "name": "stdout",
     "output_type": "stream",
     "text": [
      "[1, 3, 5, 7, 2, 4, 6, 8, 10]\n",
      "[10, 8, 6, 4, 2, 7, 5, 3, 1]\n"
     ]
    }
   ],
   "source": [
    "a=[1,3,5,7]\n",
    "b=[2,4,6,8,10]\n",
    "ab=(a+b)\n",
    "print(ab)\n",
    "ab=ab[::-1]\n",
    "print(ab)"
   ]
  },
  {
   "cell_type": "code",
   "execution_count": 4,
   "id": "5190d400",
   "metadata": {},
   "outputs": [
    {
     "name": "stdout",
     "output_type": "stream",
     "text": [
      "<class 'list'>\n",
      "<class 'set'>\n"
     ]
    }
   ],
   "source": [
    "list1=[1,2,3,4,5]\n",
    "print(type(list1))\n",
    "list2=(set(list1))\n",
    "print(type(list2))"
   ]
  },
  {
   "cell_type": "code",
   "execution_count": 29,
   "id": "a8544f3d",
   "metadata": {},
   "outputs": [],
   "source": [
    "Y=[1,3,4,6,7,9,10, 4+7j, \"Hello world\", [2000,3000,1000]]"
   ]
  },
  {
   "cell_type": "code",
   "execution_count": 35,
   "id": "2fda019b",
   "metadata": {},
   "outputs": [
    {
     "data": {
      "text/plain": [
       "3000"
      ]
     },
     "execution_count": 35,
     "metadata": {},
     "output_type": "execute_result"
    }
   ],
   "source": [
    "Y[-1][1]"
   ]
  },
  {
   "cell_type": "code",
   "execution_count": 64,
   "id": "24a8450f",
   "metadata": {},
   "outputs": [
    {
     "data": {
      "text/plain": [
       "'09'"
      ]
     },
     "execution_count": 64,
     "metadata": {},
     "output_type": "execute_result"
    }
   ],
   "source": [
    "G=[\"2022-09-03\"]\n",
    "G[0][5:7]"
   ]
  },
  {
   "cell_type": "code",
   "execution_count": 62,
   "id": "bdae0d58",
   "metadata": {},
   "outputs": [
    {
     "data": {
      "text/plain": [
       "'09'"
      ]
     },
     "execution_count": 62,
     "metadata": {},
     "output_type": "execute_result"
    }
   ],
   "source": [
    "G[0][5:7]"
   ]
  },
  {
   "cell_type": "code",
   "execution_count": 71,
   "id": "0a60a941",
   "metadata": {},
   "outputs": [
    {
     "data": {
      "text/plain": [
       "{1: 1, 2: 4, 3: 9, 4: 16}"
      ]
     },
     "execution_count": 71,
     "metadata": {},
     "output_type": "execute_result"
    }
   ],
   "source": [
    "square_dictionary = {1:1, 2:4, 3:9}\n",
    "square_dictionary.update({4:16})\n",
    "square_dictionary"
   ]
  },
  {
   "cell_type": "code",
   "execution_count": 75,
   "id": "7420de66",
   "metadata": {},
   "outputs": [
    {
     "name": "stdout",
     "output_type": "stream",
     "text": [
      "3\n",
      " python@gmail\n"
     ]
    }
   ],
   "source": [
    "str=\"Hello,please meet me at 4pm @coffeehouseccd or email me python@gmail.com\"\n",
    "print(str.count(\"me\"))\n",
    "print(str[-17:-4])"
   ]
  },
  {
   "cell_type": "code",
   "execution_count": null,
   "id": "043f7e4e",
   "metadata": {},
   "outputs": [],
   "source": [
    "a. Add '7' to the given set\n",
    "b. Remove '3' from a given set\n",
    "c. Clear the set"
   ]
  },
  {
   "cell_type": "code",
   "execution_count": 87,
   "id": "55a44cff",
   "metadata": {},
   "outputs": [
    {
     "name": "stdout",
     "output_type": "stream",
     "text": [
      "{1, 2, 3, 4, 5, 6, 7, 40, 71, 8, 42, 51, 54, 87}\n",
      "{3, 5, 6, 7}\n",
      "{1, 2, 4, 71, 40, 87}\n",
      "{8, 42, 51, 54}\n",
      "{1, 2, 4, 8, 40, 42, 71, 51, 54, 87}\n"
     ]
    }
   ],
   "source": [
    "A = {1, 4, 5, 2, 6, 3, 40, 7, 87, 4, 71}\n",
    "B = {3, 42, 51, 6, 7, 8, 54, 5}\n",
    "print(A.union(B))\n",
    "print(A.intersection(B))\n",
    "print (A.difference(B))\n",
    "print (B.difference(A))\n",
    "C=(A.symmetric_difference(B))\n",
    "print(C)\n"
   ]
  },
  {
   "cell_type": "code",
   "execution_count": 119,
   "id": "20930931",
   "metadata": {},
   "outputs": [
    {
     "name": "stdout",
     "output_type": "stream",
     "text": [
      "{1, 2, 3, 4, 5, 6, 7}\n",
      "{1, 2, 4, 5, 6, 7}\n",
      "set()\n"
     ]
    }
   ],
   "source": [
    "num_set = {1, 2, 3, 4, 5, 6}\n",
    "num_set.add(7)\n",
    "print(num_set)\n",
    "num_set.remove(3)\n",
    "print(num_set)\n",
    "num_set.clear()\n",
    "print(num_set)"
   ]
  },
  {
   "cell_type": "code",
   "execution_count": 117,
   "id": "e5f729f1",
   "metadata": {},
   "outputs": [],
   "source": [
    "Replace the elements in the given tuple:\n",
    "\n",
    "a. Replace '2' with '3'\n",
    "b. Replace 'True' in first element with 'False'\n",
    "Use the tuple below:\n"
   ]
  },
  {
   "cell_type": "code",
   "execution_count": 133,
   "id": "ae92ab2d",
   "metadata": {},
   "outputs": [
    {
     "name": "stdout",
     "output_type": "stream",
     "text": [
      "(['a', 1, True], 3, 'Science', -5)\n",
      "(['a', 1, False], 2, 'Science', -5)\n"
     ]
    }
   ],
   "source": [
    "mix_tuple = (['a', 1, True], 2, 'Science', -5)\n",
    "mix_tuple = (['a', 1, True], 2, 'Science', -5)\n",
    "a= list(mix_tuple)\n",
    "a[1]=3\n",
    "mix_tuple =tuple(a)\n",
    "print(mix_tuple)\n",
    "\n",
    "mix_tuple = (['a', 1, True], 2, 'Science', -5)\n",
    "a= list(mix_tuple)\n",
    "a[0][2]=False\n",
    "mix_tuple =tuple(a)\n",
    "print(mix_tuple)"
   ]
  },
  {
   "cell_type": "code",
   "execution_count": 142,
   "id": "326faa05",
   "metadata": {},
   "outputs": [
    {
     "name": "stdout",
     "output_type": "stream",
     "text": [
      "3\n",
      "(4, 4, 8, 'John', 5, -2)\n",
      "('John', 5, -2, 'John', 5, -2)\n"
     ]
    }
   ],
   "source": [
    "num_tuple = (4, 4, 8)\n",
    "mix_tuple = 'John', 5, -2\n",
    "print(len(num_tuple))\n",
    "print(num_tuple+mix_tuple)\n",
    "print(mix_tuple*2)"
   ]
  },
  {
   "cell_type": "code",
   "execution_count": 156,
   "id": "c665cd72",
   "metadata": {},
   "outputs": [
    {
     "name": "stdout",
     "output_type": "stream",
     "text": [
      "-2\n",
      "7\n",
      "[-2, 0, 1, 4, 5, 7]\n",
      "[4, 5, 7, -2, 0, 1]\n",
      "None\n",
      "[4, 7, -2, 0, 1]\n"
     ]
    }
   ],
   "source": [
    "\n",
    "num_list = [4, 5, 7, -2, 0, 1]\n",
    "print(min(num_list))\n",
    "print(max(num_list))\n",
    "print(sorted(num_list))\n",
    "print(num_list.copy())\n",
    "print(num_list.remove(5))\n",
    "print(num_list)"
   ]
  },
  {
   "cell_type": "markdown",
   "id": "ae42f616",
   "metadata": {},
   "source": [
    "min(num_list)"
   ]
  },
  {
   "cell_type": "code",
   "execution_count": 151,
   "id": "df412924",
   "metadata": {},
   "outputs": [],
   "source": []
  },
  {
   "cell_type": "code",
   "execution_count": 152,
   "id": "249aa901",
   "metadata": {},
   "outputs": [
    {
     "data": {
      "text/plain": [
       "[4, 7, -2, 0, 1]"
      ]
     },
     "execution_count": 152,
     "metadata": {},
     "output_type": "execute_result"
    }
   ],
   "source": [
    "num_list"
   ]
  },
  {
   "cell_type": "code",
   "execution_count": null,
   "id": "62c1dce9",
   "metadata": {},
   "outputs": [],
   "source": []
  }
 ],
 "metadata": {
  "kernelspec": {
   "display_name": "Python 3 (ipykernel)",
   "language": "python",
   "name": "python3"
  },
  "language_info": {
   "codemirror_mode": {
    "name": "ipython",
    "version": 3
   },
   "file_extension": ".py",
   "mimetype": "text/x-python",
   "name": "python",
   "nbconvert_exporter": "python",
   "pygments_lexer": "ipython3",
   "version": "3.9.13"
  }
 },
 "nbformat": 4,
 "nbformat_minor": 5
}
