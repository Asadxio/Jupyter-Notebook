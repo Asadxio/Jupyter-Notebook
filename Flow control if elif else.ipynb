{
 "cells": [
  {
   "cell_type": "code",
   "execution_count": 1,
   "id": "18de562c",
   "metadata": {},
   "outputs": [
    {
     "name": "stdout",
     "output_type": "stream",
     "text": [
      "Input lengths of the triangle sides: \n",
      "x: 234\n",
      "y: 324\n",
      "z: 324\n",
      "isosceles triangle\n"
     ]
    }
   ],
   "source": [
    "print(\"Input lengths of the triangle sides: \")\n",
    "x = int(input(\"x: \"))\n",
    "y = int(input(\"y: \"))\n",
    "z = int(input(\"z: \"))\n",
    "\n",
    "if x == y == z:\n",
    "    print(\"Equilateral triangle\")\n",
    "elif x==y or y==z or z==x:\n",
    "    print(\"isosceles triangle\")\n",
    "else:\n",
    "    print(\"Scalene triangle\")\n",
    "\n"
   ]
  },
  {
   "cell_type": "code",
   "execution_count": 2,
   "id": "10a9e1fa",
   "metadata": {},
   "outputs": [
    {
     "name": "stdout",
     "output_type": "stream",
     "text": [
      "Please Enter any Number: 324\n",
      "The Last Digit in a Given Number 324 = 4\n"
     ]
    }
   ],
   "source": [
    "def lastDigit(num):\n",
    "    return num % 10\n",
    "\n",
    "number = int(input(\"Please Enter any Number: \"))\n",
    "\n",
    "last_digit = lastDigit(number)\n",
    "\n",
    "print(\"The Last Digit in a Given Number %d = %d\" %(number, last_digit))"
   ]
  },
  {
   "cell_type": "code",
   "execution_count": 3,
   "id": "fdd53dbc",
   "metadata": {},
   "outputs": [
    {
     "name": "stdout",
     "output_type": "stream",
     "text": [
      "Enter a number:234\n",
      "4 is not divisible by 3\n"
     ]
    }
   ],
   "source": [
    "num=int(input(\"Enter a number:\"))\n",
    "last_digit=num%10\n",
    "if(last_digit%3==0):\n",
    "    print(\"{} is divisible by 3 \".format(last_digit))\n",
    "else:\n",
    "    print(\"{} is not divisible by 3\".format(last_digit))"
   ]
  },
  {
   "cell_type": "code",
   "execution_count": 4,
   "id": "d31c35dd",
   "metadata": {},
   "outputs": [],
   "source": [
    "n = 13\n",
    "\n",
    "# Check if the number is greater than 1\n",
    "\n",
    "if n > 1:\n",
    "\tfor i in range(2, int(n/2)+1):\n",
    "\t\tif (n % i) == 0:\n",
    "\t\t\tprint(num, \"is not a prime number\")\n",
    "\t\tbreak\n",
    "\telse:\n",
    "\t\tprint(n, \"is a prime number\")\n",
    "# If the number is less than 1, its also not a prime number.\n",
    "else:\n",
    "\tprint(n, \"is not a prime number\")"
   ]
  },
  {
   "cell_type": "code",
   "execution_count": 5,
   "id": "d6d9b293",
   "metadata": {},
   "outputs": [
    {
     "name": "stdout",
     "output_type": "stream",
     "text": [
      "number is NOT multiple of 10\n",
      "number is not multiple of 10\n"
     ]
    }
   ],
   "source": [
    "if 100 % 10 == 7:\n",
    "    print('number is multiple of 10')\n",
    "else:\n",
    "    print('number is NOT multiple of 10')\n",
    "\n",
    "if 123 % 10 != 0:\n",
    "    print('number is not multiple of 10')\n"
   ]
  },
  {
   "cell_type": "code",
   "execution_count": 6,
   "id": "603548b8",
   "metadata": {},
   "outputs": [
    {
     "name": "stdout",
     "output_type": "stream",
     "text": [
      "Enter a string here234\n",
      "The original string is : 234\n",
      "The reversed string(using extended slice syntax) is : 432\n"
     ]
    }
   ],
   "source": [
    "\n",
    "def reverse(string):\n",
    "    string = string[::-1]\n",
    "    return string\n",
    "s=str(input(\"Enter a string here\"))\n",
    "print(\"The original string is : \", end=\"\")\n",
    "print(s)\n",
    "print(\"The reversed string(using extended slice syntax) is : \", end=\"\")\n",
    "print(reverse(s))"
   ]
  },
  {
   "cell_type": "code",
   "execution_count": 7,
   "id": "ad1e2020",
   "metadata": {},
   "outputs": [
    {
     "name": "stdout",
     "output_type": "stream",
     "text": [
      "0 1 1 2 3 5 8 13 21 34 55 89 144 "
     ]
    }
   ],
   "source": [
    "\n",
    "def fibonacci_numbers(num):\n",
    "    if num == 0:\n",
    "        return 0\n",
    "    elif num == 1:\n",
    "        return 1\n",
    "    else:\n",
    "        return fibonacci_numbers(num-2)+fibonacci_numbers(num-1)\n",
    "    n = 7\n",
    "for i in range(0, n):\n",
    "    print(fibonacci_numbers(i), end=\" \")"
   ]
  },
  {
   "cell_type": "code",
   "execution_count": 8,
   "id": "dd778cb8",
   "metadata": {},
   "outputs": [
    {
     "name": "stdout",
     "output_type": "stream",
     "text": [
      "Enter the number of which the user wants to print the multiplication table: 234\n",
      "The Multiplication Table of:  234\n",
      "234 x 12 = 234\n",
      "234 x 12 = 468\n",
      "234 x 12 = 702\n",
      "234 x 12 = 936\n",
      "234 x 12 = 1170\n",
      "234 x 12 = 1404\n",
      "234 x 12 = 1638\n",
      "234 x 12 = 1872\n",
      "234 x 12 = 2106\n",
      "234 x 12 = 2340\n"
     ]
    }
   ],
   "source": [
    "number = int(input (\"Enter the number of which the user wants to print the multiplication table: \"))      \n",
    "count = 1    \n",
    "# we are using while loop for iterating the multiplication 10 times      \n",
    "print (\"The Multiplication Table of: \", number)    \n",
    "while count <= 10:    \n",
    "    number = number * 1    \n",
    "    print (number, 'x', i, '=', number * count)    \n",
    "    count += 1    "
   ]
  },
  {
   "cell_type": "code",
   "execution_count": 9,
   "id": "767828e5",
   "metadata": {},
   "outputs": [
    {
     "name": "stdout",
     "output_type": "stream",
     "text": [
      "({'wednesday', 'saturday', 'monday', 'thursday', 'sunday', 'friday', 'tuesday'}, {1, 2, 3, 4, 5, 6, 7})\n"
     ]
    }
   ],
   "source": [
    "s1={'monday','tuesday','wednesday','thursday'}\n",
    "s2={'friday','saturday','sunday'}\n",
    "s3={1,2,3,4,5,6,7}\n",
    "s=s1.union(s2),(s3)\n",
    "print(s)"
   ]
  },
  {
   "cell_type": "code",
   "execution_count": 10,
   "id": "bb881426",
   "metadata": {},
   "outputs": [
    {
     "name": "stdout",
     "output_type": "stream",
     "text": [
      "{'October', 'January', 'April', 'September', 'June', 'July', 'March', 'August', 'November', 'February', 'December', 'May'}\n"
     ]
    }
   ],
   "source": [
    "TheSet = {'January','February','March'}\n",
    "addset = {'April','May','June','July','August','September','October','November','December'}\n",
    "s=TheSet.union(addset)\n",
    "print(s)"
   ]
  },
  {
   "cell_type": "code",
   "execution_count": 11,
   "id": "600206fd",
   "metadata": {},
   "outputs": [
    {
     "ename": "SyntaxError",
     "evalue": "invalid syntax (2349797791.py, line 1)",
     "output_type": "error",
     "traceback": [
      "\u001b[1;36m  File \u001b[1;32m\"C:\\Users\\alias\\AppData\\Local\\Temp\\ipykernel_3608\\2349797791.py\"\u001b[1;36m, line \u001b[1;32m1\u001b[0m\n\u001b[1;33m    Week_days = {\"Monday\": 1, \"Tuesday\": 2, \"Wednesday\": 3, \"Thrusday\" : 4, \"Friday\" : 5 \"Saturday\" : 6, \"Sunday\" : 7}\u001b[0m\n\u001b[1;37m                                                                                         ^\u001b[0m\n\u001b[1;31mSyntaxError\u001b[0m\u001b[1;31m:\u001b[0m invalid syntax\n"
     ]
    }
   ],
   "source": [
    "Week_days = {\"Monday\": 1, \"Tuesday\": 2, \"Wednesday\": 3, \"Thrusday\" : 4, \"Friday\" : 5 \"Saturday\" : 6, \"Sunday\" : 7}\n",
    "fSet = frozenset(Week_days)\n",
    "print('The frozen set is:', fSet)"
   ]
  },
  {
   "cell_type": "code",
   "execution_count": 13,
   "id": "3d834a5a",
   "metadata": {},
   "outputs": [],
   "source": [
    "Valuee = {}'EkeedaIsTheBest')"
   ]
  },
  {
   "cell_type": "code",
   "execution_count": 15,
   "id": "46bbc428",
   "metadata": {},
   "outputs": [
    {
     "ename": "NameError",
     "evalue": "name 'valuee' is not defined",
     "output_type": "error",
     "traceback": [
      "\u001b[1;31m---------------------------------------------------------------------------\u001b[0m",
      "\u001b[1;31mNameError\u001b[0m                                 Traceback (most recent call last)",
      "\u001b[1;32m~\\AppData\\Local\\Temp\\ipykernel_3608\\3565481185.py\u001b[0m in \u001b[0;36m<module>\u001b[1;34m\u001b[0m\n\u001b[1;32m----> 1\u001b[1;33m \u001b[0mvaluee\u001b[0m\u001b[1;33m\u001b[0m\u001b[1;33m\u001b[0m\u001b[0m\n\u001b[0m",
      "\u001b[1;31mNameError\u001b[0m: name 'valuee' is not defined"
     ]
    }
   ],
   "source": [
    "valuee"
   ]
  },
  {
   "cell_type": "markdown",
   "id": "1b5e9b03",
   "metadata": {},
   "source": []
  }
 ],
 "metadata": {
  "kernelspec": {
   "display_name": "Python 3 (ipykernel)",
   "language": "python",
   "name": "python3"
  },
  "language_info": {
   "codemirror_mode": {
    "name": "ipython",
    "version": 3
   },
   "file_extension": ".py",
   "mimetype": "text/x-python",
   "name": "python",
   "nbconvert_exporter": "python",
   "pygments_lexer": "ipython3",
   "version": "3.9.13"
  }
 },
 "nbformat": 4,
 "nbformat_minor": 5
}
