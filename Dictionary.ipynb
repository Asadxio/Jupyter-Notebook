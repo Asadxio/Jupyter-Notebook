{
 "cells": [
  {
   "cell_type": "code",
   "execution_count": 1,
   "id": "45f1a4c1",
   "metadata": {},
   "outputs": [
    {
     "ename": "SyntaxError",
     "evalue": "invalid syntax (3648131174.py, line 1)",
     "output_type": "error",
     "traceback": [
      "\u001b[1;36m  File \u001b[1;32m\"C:\\Users\\alias\\AppData\\Local\\Temp\\ipykernel_12176\\3648131174.py\"\u001b[1;36m, line \u001b[1;32m1\u001b[0m\n\u001b[1;33m    \"\"\"\"\"\"Convert string to dictionary ;\u001b[0m\n\u001b[1;37m          ^\u001b[0m\n\u001b[1;31mSyntaxError\u001b[0m\u001b[1;31m:\u001b[0m invalid syntax\n"
     ]
    }
   ],
   "source": [
    "\"\"\"\"\"\"Convert string to dictionary ;\n",
    "stringg= ‘ekeeda’\n",
    "\n",
    "\n",
    "Write a program to add multiple keys into dictionary;\n",
    "\n",
    "dictt= {'person':{ \"Name\" : \"Simulen\", \n",
    "          \"City\" : \"CA\", \n",
    "          \"Country\" : \"USA\"}}\n",
    "\n",
    "\n",
    "Check the key for the minimum value in a dictionary;\n",
    "    \n",
    "dictt = {\n",
    "  'Physics': 82,\n",
    "  'Math': 65,\n",
    "  'history': 75\n",
    "}\n",
    "\n",
    "\n",
    "Check if there’s a particular value in a dict;\n",
    "dicttt = {'a': 100, 'b': 200, 'c': 300}\n",
    "\n",
    "\n",
    "Print the dictionary where we drop the empty value from the dictionary;\n",
    "    dict_num = {1: ‘a’, 2: ‘b’, 3: ‘c’, 4: ‘d’, 5: ‘e’, 6: None}\n",
    "\n",
    "\n",
    "Print a dictionary with key values in a table manner;\n",
    "\n",
    "dict_num = {1: ‘a’, 2: ‘b’, 3: ‘c’, 4: ‘d’, 5: ‘e’, 6: ‘f’}\n",
    "\n",
    "Create a data for 2 students using dictionary and print it line by line.\n",
    "\n",
    "From the dictionary given below, sort the elements based on the keys;\n",
    "    dictt = {‘dh’:5, ‘ani’:6,’zimb’: 8}\n",
    "\n",
    "Write a program to create a dictionary containing some values and add all the value from that dictionary.\n",
    "\n",
    "Write a program to make dictionary ranging between keys 7-14(both excluded) and the values are square of the keys\n",
    "\n",
    "\n",
    "Write a Python program to convert given a dictionary to a list of tuples\n",
    "\n",
    "\n",
    "Create a dictionary having Values=key*key and keys ranging from 1 to n\n",
    "\n",
    "\n",
    "Write a program to concatenate the given dictionaries;\n",
    "dictt1={1:10, 2:20}\n",
    "dictt2={3:30, 4:40}\n",
    "dictt3={5:50,6:60}\n",
    "\n",
    "\n",
    "Write a Python program to add a key to a dictionary.\n",
    "Dicti = {0:’a’, 1:’a’}\n",
    "\n",
    "Use dictionary comprehension to make dictionary from following keys and values given;\n",
    "\n",
    "keys = ['E','K','E','E','D','A']\n",
    "values = [1,2,3,4,5,6]\"\"\"\"\"\""
   ]
  },
  {
   "cell_type": "code",
   "execution_count": 3,
   "id": "4582be94",
   "metadata": {},
   "outputs": [],
   "source": [
    "l1={\"stringg\":\"ekeeda\"}"
   ]
  },
  {
   "cell_type": "code",
   "execution_count": 4,
   "id": "956f251b",
   "metadata": {},
   "outputs": [
    {
     "data": {
      "text/plain": [
       "dict"
      ]
     },
     "execution_count": 4,
     "metadata": {},
     "output_type": "execute_result"
    }
   ],
   "source": [
    "type(l1)"
   ]
  },
  {
   "cell_type": "code",
   "execution_count": 5,
   "id": "b18c59a8",
   "metadata": {},
   "outputs": [
    {
     "data": {
      "text/plain": [
       "{'stringg': 'ekeeda'}"
      ]
     },
     "execution_count": 5,
     "metadata": {},
     "output_type": "execute_result"
    }
   ],
   "source": [
    "l1"
   ]
  },
  {
   "cell_type": "code",
   "execution_count": 6,
   "id": "f49385c0",
   "metadata": {},
   "outputs": [],
   "source": [
    "#Write a program to add multiple keys into dictionary;\n",
    "\n",
    "dictt= {'person':{ \"Name\" : \"Simulen\", \n",
    "          \"City\" : \"CA\", \n",
    "          \"Country\" : \"USA\"}}"
   ]
  },
  {
   "cell_type": "code",
   "execution_count": 12,
   "id": "272c637b",
   "metadata": {},
   "outputs": [
    {
     "ename": "SyntaxError",
     "evalue": "invalid syntax (3291962124.py, line 1)",
     "output_type": "error",
     "traceback": [
      "\u001b[1;36m  File \u001b[1;32m\"C:\\Users\\alias\\AppData\\Local\\Temp\\ipykernel_12176\\3291962124.py\"\u001b[1;36m, line \u001b[1;32m1\u001b[0m\n\u001b[1;33m    dictt{'banana''mango''strawberry'}\u001b[0m\n\u001b[1;37m         ^\u001b[0m\n\u001b[1;31mSyntaxError\u001b[0m\u001b[1;31m:\u001b[0m invalid syntax\n"
     ]
    }
   ],
   "source": [
    "dictt{'banana''mango''strawberry'}"
   ]
  },
  {
   "cell_type": "code",
   "execution_count": 13,
   "id": "2ecfb992",
   "metadata": {},
   "outputs": [],
   "source": [
    "dictt = {\n",
    "  'Physics': 82,\n",
    "  'Math': 65,\n",
    "  'history': 75\n",
    "}"
   ]
  },
  {
   "cell_type": "code",
   "execution_count": 17,
   "id": "fc1d328c",
   "metadata": {},
   "outputs": [
    {
     "data": {
      "text/plain": [
       "'Math'"
      ]
     },
     "execution_count": 17,
     "metadata": {},
     "output_type": "execute_result"
    }
   ],
   "source": [
    "dict_1 = {'John': 15, 'Rick': 10, 'Misa' : 12 }\n",
    "dict_2 = {'Bonnie': 18,'Rick': 20,'Matt' : 16 }\n",
    "dict_1.update(dict_2)\n",
    "print('Updated dictionary:')\n",
    "print(dict_1)"
   ]
  },
  {
   "cell_type": "code",
   "execution_count": 18,
   "id": "6a3f32c2",
   "metadata": {},
   "outputs": [],
   "source": [
    "dicttt = {'a': 100, 'b': 200, 'c': 300}"
   ]
  },
  {
   "cell_type": "code",
   "execution_count": 56,
   "id": "8f4d8c87",
   "metadata": {},
   "outputs": [
    {
     "name": "stdout",
     "output_type": "stream",
     "text": [
      "{1: 10, 2: 20, 3: 30, 4: 40, 5: 50, 6: 60}\n"
     ]
    }
   ],
   "source": [
    "dictt1={1:10, 2:20}\n",
    "dictt2={3:30, 4:40}\n",
    "dictt3={5:50, 6:60}\n",
    "dict_4 = {**dictt1,**dictt2, **dictt3}\n",
    "print (dict_4)"
   ]
  },
  {
   "cell_type": "code",
   "execution_count": 58,
   "id": "97c6b91a",
   "metadata": {},
   "outputs": [],
   "source": [
    "Dicti = {0:'a', 1:'a'}"
   ]
  },
  {
   "cell_type": "code",
   "execution_count": 60,
   "id": "69483624",
   "metadata": {},
   "outputs": [
    {
     "ename": "NameError",
     "evalue": "name 'update' is not defined",
     "output_type": "error",
     "traceback": [
      "\u001b[1;31m---------------------------------------------------------------------------\u001b[0m",
      "\u001b[1;31mNameError\u001b[0m                                 Traceback (most recent call last)",
      "\u001b[1;32m~\\AppData\\Local\\Temp\\ipykernel_12176\\1944746761.py\u001b[0m in \u001b[0;36m<module>\u001b[1;34m\u001b[0m\n\u001b[1;32m----> 1\u001b[1;33m \u001b[0mupdate\u001b[0m\u001b[1;33m.\u001b[0m\u001b[0mDicti\u001b[0m\u001b[1;33m(\u001b[0m\u001b[1;33m)\u001b[0m\u001b[1;33m\u001b[0m\u001b[1;33m\u001b[0m\u001b[0m\n\u001b[0m",
      "\u001b[1;31mNameError\u001b[0m: name 'update' is not defined"
     ]
    }
   ],
   "source": [
    "update.Dicti()"
   ]
  },
  {
   "cell_type": "code",
   "execution_count": 63,
   "id": "4cce3589",
   "metadata": {},
   "outputs": [],
   "source": [
    "keys = ['E','K','E','E','D','A']\n",
    "values = [1,2,3,4,5,6]"
   ]
  },
  {
   "cell_type": "code",
   "execution_count": 68,
   "id": "28dd445f",
   "metadata": {},
   "outputs": [
    {
     "name": "stdout",
     "output_type": "stream",
     "text": [
      "{'E': 4, 'K': 2, 'D': 5, 'A': 6}\n"
     ]
    }
   ],
   "source": [
    "x = {key:value for (key,value) in zip(keys,values)}\n",
    "print(x)"
   ]
  },
  {
   "cell_type": "code",
   "execution_count": 4,
   "id": "2eaa81b4",
   "metadata": {},
   "outputs": [
    {
     "name": "stdout",
     "output_type": "stream",
     "text": [
      "Input a number 76\n",
      "{1: 1, 2: 4, 3: 9, 4: 16, 5: 25, 6: 36, 7: 49, 8: 64, 9: 81, 10: 100, 11: 121, 12: 144, 13: 169, 14: 196, 15: 225, 16: 256, 17: 289, 18: 324, 19: 361, 20: 400, 21: 441, 22: 484, 23: 529, 24: 576, 25: 625, 26: 676, 27: 729, 28: 784, 29: 841, 30: 900, 31: 961, 32: 1024, 33: 1089, 34: 1156, 35: 1225, 36: 1296, 37: 1369, 38: 1444, 39: 1521, 40: 1600, 41: 1681, 42: 1764, 43: 1849, 44: 1936, 45: 2025, 46: 2116, 47: 2209, 48: 2304, 49: 2401, 50: 2500, 51: 2601, 52: 2704, 53: 2809, 54: 2916, 55: 3025, 56: 3136, 57: 3249, 58: 3364, 59: 3481, 60: 3600, 61: 3721, 62: 3844, 63: 3969, 64: 4096, 65: 4225, 66: 4356, 67: 4489, 68: 4624, 69: 4761, 70: 4900, 71: 5041, 72: 5184, 73: 5329, 74: 5476, 75: 5625, 76: 5776}\n"
     ]
    }
   ],
   "source": [
    "n=int(input(\"Input a number \"))\n",
    "d = dict()\n",
    "\n",
    "for x in range(1,n+1):\n",
    "    d[x]=x*x\n",
    "\n",
    "print(d)"
   ]
  },
  {
   "cell_type": "code",
   "execution_count": 5,
   "id": "83ce3603",
   "metadata": {},
   "outputs": [
    {
     "name": "stdout",
     "output_type": "stream",
     "text": [
      "Original Dictionary:\n",
      "{'Red': 1, 'Green': 3, 'White': 5, 'Black': 2, 'Pink': 4}\n",
      "\n",
      "Convert the said dictionary to a list of tuples:\n",
      "[('Red', 1), ('Green', 3), ('White', 5), ('Black', 2), ('Pink', 4)]\n"
     ]
    }
   ],
   "source": [
    "def test(d):\n",
    "  return list(d.items())\n",
    " \n",
    "d = {'Red': 1, 'Green': 3, 'White': 5, 'Black': 2, 'Pink': 4}\n",
    "print(\"Original Dictionary:\")\n",
    "print(d)\n",
    "print(\"\\nConvert the said dictionary to a list of tuples:\")\n",
    "print(test(d))\n"
   ]
  },
  {
   "cell_type": "code",
   "execution_count": 7,
   "id": "f8b2e470",
   "metadata": {},
   "outputs": [
    {
     "name": "stdout",
     "output_type": "stream",
     "text": [
      "{7: 49, 8: 64, 9: 81, 10: 100, 11: 121, 12: 144, 13: 169}\n"
     ]
    }
   ],
   "source": [
    "d=dict()\n",
    "for x in range(7,14):\n",
    "    d[x]=x**2\n",
    "print(d)  "
   ]
  },
  {
   "cell_type": "code",
   "execution_count": 8,
   "id": "b227f45c",
   "metadata": {},
   "outputs": [
    {
     "name": "stdout",
     "output_type": "stream",
     "text": [
      "293\n"
     ]
    }
   ],
   "source": [
    "my_dict = {'data1':100,'data2':-54,'data3':247}\n",
    "print(sum(my_dict.values()))\n"
   ]
  },
  {
   "cell_type": "code",
   "execution_count": 10,
   "id": "c88e567d",
   "metadata": {},
   "outputs": [
    {
     "name": "stdout",
     "output_type": "stream",
     "text": [
      "{'E': 4, 'K': 2, 'D': 5, 'A': 6}\n"
     ]
    }
   ],
   "source": [
    "keys = ['E','K','E','E','D','A']\n",
    "values = [1,2,3,4,5,6] \n",
    "EKEEDA = { k:v for (k,v) in zip(keys, values)}  \n",
    "print (EKEEDA)"
   ]
  },
  {
   "cell_type": "code",
   "execution_count": 13,
   "id": "e3927029",
   "metadata": {},
   "outputs": [
    {
     "ename": "SyntaxError",
     "evalue": "invalid character '‘' (U+2018) (1329966455.py, line 1)",
     "output_type": "error",
     "traceback": [
      "\u001b[1;36m  File \u001b[1;32m\"C:\\Users\\alias\\AppData\\Local\\Temp\\ipykernel_2648\\1329966455.py\"\u001b[1;36m, line \u001b[1;32m1\u001b[0m\n\u001b[1;33m    dictt = {‘dh’:5, ‘ani’:6,’zimb’: 8}\u001b[0m\n\u001b[1;37m             ^\u001b[0m\n\u001b[1;31mSyntaxError\u001b[0m\u001b[1;31m:\u001b[0m invalid character '‘' (U+2018)\n"
     ]
    }
   ],
   "source": [
    "\n",
    "sort(dictt)"
   ]
  },
  {
   "cell_type": "code",
   "execution_count": 16,
   "id": "95b06537",
   "metadata": {},
   "outputs": [
    {
     "ename": "SyntaxError",
     "evalue": "invalid character '‘' (U+2018) (4041081053.py, line 2)",
     "output_type": "error",
     "traceback": [
      "\u001b[1;36m  File \u001b[1;32m\"C:\\Users\\alias\\AppData\\Local\\Temp\\ipykernel_2648\\4041081053.py\"\u001b[1;36m, line \u001b[1;32m2\u001b[0m\n\u001b[1;33m    dictt = {‘dh’:5, ‘ani’:6,’zimb’: 8}\u001b[0m\n\u001b[1;37m             ^\u001b[0m\n\u001b[1;31mSyntaxError\u001b[0m\u001b[1;31m:\u001b[0m invalid character '‘' (U+2018)\n"
     ]
    }
   ],
   "source": [
    "from collections import OrderedDict\n",
    "dictt = {‘dh’:5, ‘ani’:6,’zimb’: 8}\n",
    "dict1 = OrderedDict(sorted(dict.items()))\n",
    "print(dict1)"
   ]
  },
  {
   "cell_type": "code",
   "execution_count": 22,
   "id": "131a2bf7",
   "metadata": {},
   "outputs": [
    {
     "name": "stdout",
     "output_type": "stream",
     "text": [
      "OrderedDict([('rajnish', '9'), ('ravi', '10'), ('sanjeev', '15'), ('suraj', '32'), ('yash', '2')])\n"
     ]
    }
   ],
   "source": [
    "# Creates a sorted dictionary (sorted by key)\n",
    "from collections import OrderedDict\n",
    "\n",
    "dict = {'dh': '5', 'rajnish': '9',\n",
    "\t\t'sanjeev': '15', 'yash': '2', 'suraj': '32'}\n",
    "dict1 = OrderedDict(sorted(dict.items()))\n",
    "print(dict1)\n"
   ]
  },
  {
   "cell_type": "code",
   "execution_count": 25,
   "id": "934d464d",
   "metadata": {},
   "outputs": [
    {
     "name": "stdout",
     "output_type": "stream",
     "text": [
      "OrderedDict([('ani', '6'), ('dh', '5'), ('zimb', '8')])\n"
     ]
    }
   ],
   "source": [
    "dictt = {'dh':'5', 'ani':'6','zimb': '8'}\n",
    "dict1 = OrderedDict(sorted(dictt.items()))\n",
    "print(dict1)"
   ]
  },
  {
   "cell_type": "code",
   "execution_count": 28,
   "id": "3a683b22",
   "metadata": {},
   "outputs": [],
   "source": [
    "import json\n"
   ]
  },
  {
   "cell_type": "code",
   "execution_count": 29,
   "id": "f498e6a7",
   "metadata": {},
   "outputs": [
    {
     "name": "stdout",
     "output_type": "stream",
     "text": [
      "The original string is : {\"John\" : 01, \"Rick\" : 02, \"Sam\" : 03}\n"
     ]
    },
    {
     "ename": "JSONDecodeError",
     "evalue": "Expecting ',' delimiter: line 1 column 12 (char 11)",
     "output_type": "error",
     "traceback": [
      "\u001b[1;31m---------------------------------------------------------------------------\u001b[0m",
      "\u001b[1;31mJSONDecodeError\u001b[0m                           Traceback (most recent call last)",
      "\u001b[1;32m~\\AppData\\Local\\Temp\\ipykernel_2648\\2489561479.py\u001b[0m in \u001b[0;36m<module>\u001b[1;34m\u001b[0m\n\u001b[0;32m      5\u001b[0m \u001b[1;33m\u001b[0m\u001b[0m\n\u001b[0;32m      6\u001b[0m \u001b[1;31m# using json.loads() method\u001b[0m\u001b[1;33m\u001b[0m\u001b[1;33m\u001b[0m\u001b[0m\n\u001b[1;32m----> 7\u001b[1;33m \u001b[0mresult\u001b[0m \u001b[1;33m=\u001b[0m \u001b[0mjson\u001b[0m\u001b[1;33m.\u001b[0m\u001b[0mloads\u001b[0m\u001b[1;33m(\u001b[0m\u001b[0moriginal_string\u001b[0m\u001b[1;33m)\u001b[0m\u001b[1;33m\u001b[0m\u001b[1;33m\u001b[0m\u001b[0m\n\u001b[0m\u001b[0;32m      8\u001b[0m \u001b[1;33m\u001b[0m\u001b[0m\n\u001b[0;32m      9\u001b[0m \u001b[1;31m# print result\u001b[0m\u001b[1;33m\u001b[0m\u001b[1;33m\u001b[0m\u001b[0m\n",
      "\u001b[1;32m~\\anaconda3\\lib\\json\\__init__.py\u001b[0m in \u001b[0;36mloads\u001b[1;34m(s, cls, object_hook, parse_float, parse_int, parse_constant, object_pairs_hook, **kw)\u001b[0m\n\u001b[0;32m    344\u001b[0m             \u001b[0mparse_int\u001b[0m \u001b[1;32mis\u001b[0m \u001b[1;32mNone\u001b[0m \u001b[1;32mand\u001b[0m \u001b[0mparse_float\u001b[0m \u001b[1;32mis\u001b[0m \u001b[1;32mNone\u001b[0m \u001b[1;32mand\u001b[0m\u001b[1;33m\u001b[0m\u001b[1;33m\u001b[0m\u001b[0m\n\u001b[0;32m    345\u001b[0m             parse_constant is None and object_pairs_hook is None and not kw):\n\u001b[1;32m--> 346\u001b[1;33m         \u001b[1;32mreturn\u001b[0m \u001b[0m_default_decoder\u001b[0m\u001b[1;33m.\u001b[0m\u001b[0mdecode\u001b[0m\u001b[1;33m(\u001b[0m\u001b[0ms\u001b[0m\u001b[1;33m)\u001b[0m\u001b[1;33m\u001b[0m\u001b[1;33m\u001b[0m\u001b[0m\n\u001b[0m\u001b[0;32m    347\u001b[0m     \u001b[1;32mif\u001b[0m \u001b[0mcls\u001b[0m \u001b[1;32mis\u001b[0m \u001b[1;32mNone\u001b[0m\u001b[1;33m:\u001b[0m\u001b[1;33m\u001b[0m\u001b[1;33m\u001b[0m\u001b[0m\n\u001b[0;32m    348\u001b[0m         \u001b[0mcls\u001b[0m \u001b[1;33m=\u001b[0m \u001b[0mJSONDecoder\u001b[0m\u001b[1;33m\u001b[0m\u001b[1;33m\u001b[0m\u001b[0m\n",
      "\u001b[1;32m~\\anaconda3\\lib\\json\\decoder.py\u001b[0m in \u001b[0;36mdecode\u001b[1;34m(self, s, _w)\u001b[0m\n\u001b[0;32m    335\u001b[0m \u001b[1;33m\u001b[0m\u001b[0m\n\u001b[0;32m    336\u001b[0m         \"\"\"\n\u001b[1;32m--> 337\u001b[1;33m         \u001b[0mobj\u001b[0m\u001b[1;33m,\u001b[0m \u001b[0mend\u001b[0m \u001b[1;33m=\u001b[0m \u001b[0mself\u001b[0m\u001b[1;33m.\u001b[0m\u001b[0mraw_decode\u001b[0m\u001b[1;33m(\u001b[0m\u001b[0ms\u001b[0m\u001b[1;33m,\u001b[0m \u001b[0midx\u001b[0m\u001b[1;33m=\u001b[0m\u001b[0m_w\u001b[0m\u001b[1;33m(\u001b[0m\u001b[0ms\u001b[0m\u001b[1;33m,\u001b[0m \u001b[1;36m0\u001b[0m\u001b[1;33m)\u001b[0m\u001b[1;33m.\u001b[0m\u001b[0mend\u001b[0m\u001b[1;33m(\u001b[0m\u001b[1;33m)\u001b[0m\u001b[1;33m)\u001b[0m\u001b[1;33m\u001b[0m\u001b[1;33m\u001b[0m\u001b[0m\n\u001b[0m\u001b[0;32m    338\u001b[0m         \u001b[0mend\u001b[0m \u001b[1;33m=\u001b[0m \u001b[0m_w\u001b[0m\u001b[1;33m(\u001b[0m\u001b[0ms\u001b[0m\u001b[1;33m,\u001b[0m \u001b[0mend\u001b[0m\u001b[1;33m)\u001b[0m\u001b[1;33m.\u001b[0m\u001b[0mend\u001b[0m\u001b[1;33m(\u001b[0m\u001b[1;33m)\u001b[0m\u001b[1;33m\u001b[0m\u001b[1;33m\u001b[0m\u001b[0m\n\u001b[0;32m    339\u001b[0m         \u001b[1;32mif\u001b[0m \u001b[0mend\u001b[0m \u001b[1;33m!=\u001b[0m \u001b[0mlen\u001b[0m\u001b[1;33m(\u001b[0m\u001b[0ms\u001b[0m\u001b[1;33m)\u001b[0m\u001b[1;33m:\u001b[0m\u001b[1;33m\u001b[0m\u001b[1;33m\u001b[0m\u001b[0m\n",
      "\u001b[1;32m~\\anaconda3\\lib\\json\\decoder.py\u001b[0m in \u001b[0;36mraw_decode\u001b[1;34m(self, s, idx)\u001b[0m\n\u001b[0;32m    351\u001b[0m         \"\"\"\n\u001b[0;32m    352\u001b[0m         \u001b[1;32mtry\u001b[0m\u001b[1;33m:\u001b[0m\u001b[1;33m\u001b[0m\u001b[1;33m\u001b[0m\u001b[0m\n\u001b[1;32m--> 353\u001b[1;33m             \u001b[0mobj\u001b[0m\u001b[1;33m,\u001b[0m \u001b[0mend\u001b[0m \u001b[1;33m=\u001b[0m \u001b[0mself\u001b[0m\u001b[1;33m.\u001b[0m\u001b[0mscan_once\u001b[0m\u001b[1;33m(\u001b[0m\u001b[0ms\u001b[0m\u001b[1;33m,\u001b[0m \u001b[0midx\u001b[0m\u001b[1;33m)\u001b[0m\u001b[1;33m\u001b[0m\u001b[1;33m\u001b[0m\u001b[0m\n\u001b[0m\u001b[0;32m    354\u001b[0m         \u001b[1;32mexcept\u001b[0m \u001b[0mStopIteration\u001b[0m \u001b[1;32mas\u001b[0m \u001b[0merr\u001b[0m\u001b[1;33m:\u001b[0m\u001b[1;33m\u001b[0m\u001b[1;33m\u001b[0m\u001b[0m\n\u001b[0;32m    355\u001b[0m             \u001b[1;32mraise\u001b[0m \u001b[0mJSONDecodeError\u001b[0m\u001b[1;33m(\u001b[0m\u001b[1;34m\"Expecting value\"\u001b[0m\u001b[1;33m,\u001b[0m \u001b[0ms\u001b[0m\u001b[1;33m,\u001b[0m \u001b[0merr\u001b[0m\u001b[1;33m.\u001b[0m\u001b[0mvalue\u001b[0m\u001b[1;33m)\u001b[0m \u001b[1;32mfrom\u001b[0m \u001b[1;32mNone\u001b[0m\u001b[1;33m\u001b[0m\u001b[1;33m\u001b[0m\u001b[0m\n",
      "\u001b[1;31mJSONDecodeError\u001b[0m: Expecting ',' delimiter: line 1 column 12 (char 11)"
     ]
    }
   ],
   "source": [
    "original_string = '{\"John\" : 01, \"Rick\" : 02, \"Sam\" : 03}' \n",
    "  \n",
    "# printing original string \n",
    "print(\"The original string is : \" + str(original_string))\n",
    "  \n",
    "# using json.loads() method\n",
    "result = json.loads(original_string)\n",
    "  \n",
    "# print result\n",
    "print(\"The converted dictionary is  : \" + str(result))"
   ]
  },
  {
   "cell_type": "code",
   "execution_count": 35,
   "id": "3c222c1b",
   "metadata": {},
   "outputs": [
    {
     "name": "stdout",
     "output_type": "stream",
     "text": [
      "Present\n"
     ]
    }
   ],
   "source": [
    "dicttt = {'a': 100, 'b': 200, 'c': 300}\n",
    "if dicttt.get('a') == None:\n",
    "    print(\"Not Present\")\n",
    "else:\n",
    "    print(\"Present\")"
   ]
  },
  {
   "cell_type": "code",
   "execution_count": 39,
   "id": "39091a11",
   "metadata": {},
   "outputs": [
    {
     "ename": "SyntaxError",
     "evalue": "invalid character '‘' (U+2018) (2876275672.py, line 1)",
     "output_type": "error",
     "traceback": [
      "\u001b[1;36m  File \u001b[1;32m\"C:\\Users\\alias\\AppData\\Local\\Temp\\ipykernel_2648\\2876275672.py\"\u001b[1;36m, line \u001b[1;32m1\u001b[0m\n\u001b[1;33m    dict_num={1: ‘a’, 2: ‘b’, 3: ‘c’, 4: ‘d’, 5: ‘e’, 6: None}\u001b[0m\n\u001b[1;37m                 ^\u001b[0m\n\u001b[1;31mSyntaxError\u001b[0m\u001b[1;31m:\u001b[0m invalid character '‘' (U+2018)\n"
     ]
    }
   ],
   "source": [
    "dict_num={1: ‘a’, 2: ‘b’, 3: ‘c’, 4: ‘d’, 5: ‘e’, 6: None}"
   ]
  },
  {
   "cell_type": "code",
   "execution_count": 50,
   "id": "caad7f60",
   "metadata": {},
   "outputs": [
    {
     "name": "stdout",
     "output_type": "stream",
     "text": [
      "{1: 'a', 2: 'b', 3: 'c', 4: 'd', 5: 'e'}\n"
     ]
    }
   ],
   "source": [
    "dict_num={1: 'a', 2: 'b', 3: 'c', 4: 'd', 5: 'e', 6: None}\n",
    "dict_num ={key:value for (key, value) in dict_num.items() if value is not None}\n",
    "print(dict_num)"
   ]
  },
  {
   "cell_type": "code",
   "execution_count": 51,
   "id": "7c1d51c5",
   "metadata": {},
   "outputs": [],
   "source": [
    "dict_num={1: 'a', 2: 'b', 3: 'c', 4: 'd', 5: 'e', 6: 'f'}"
   ]
  },
  {
   "cell_type": "code",
   "execution_count": 52,
   "id": "2d66049c",
   "metadata": {},
   "outputs": [
    {
     "name": "stdout",
     "output_type": "stream",
     "text": [
      "C1 C2 C3\n",
      "1 5 9\n",
      "2 6 10\n",
      "3 7 11\n"
     ]
    }
   ],
   "source": [
    "my_dict = {'C1':[1,2,3],'C2':[5,6,7],'C3':[9,10,11]}\n",
    "for row in zip(*([key] + (value) for key, value in sorted(my_dict.items()))):\n",
    "    print(*row)"
   ]
  },
  {
   "cell_type": "code",
   "execution_count": 54,
   "id": "c2d7a10a",
   "metadata": {},
   "outputs": [
    {
     "name": "stdout",
     "output_type": "stream",
     "text": [
      "One line Code Key value:  Java\n"
     ]
    }
   ],
   "source": [
    "# creating a new dictionary\n",
    "my_dict ={\"Java\":100, \"Python\":112, \"C\":11}\n",
    "\n",
    "# one-liner\n",
    "print(\"One line Code Key value: \", list(my_dict.keys())\n",
    "\t[list(my_dict.values()).index(100)])"
   ]
  },
  {
   "cell_type": "code",
   "execution_count": null,
   "id": "c58773aa",
   "metadata": {},
   "outputs": [],
   "source": []
  }
 ],
 "metadata": {
  "kernelspec": {
   "display_name": "Python 3 (ipykernel)",
   "language": "python",
   "name": "python3"
  },
  "language_info": {
   "codemirror_mode": {
    "name": "ipython",
    "version": 3
   },
   "file_extension": ".py",
   "mimetype": "text/x-python",
   "name": "python",
   "nbconvert_exporter": "python",
   "pygments_lexer": "ipython3",
   "version": "3.9.13"
  }
 },
 "nbformat": 4,
 "nbformat_minor": 5
}
