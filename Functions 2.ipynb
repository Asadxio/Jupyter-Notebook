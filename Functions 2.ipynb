{
 "cells": [
  {
   "cell_type": "code",
   "execution_count": 1,
   "id": "3a9494ac",
   "metadata": {},
   "outputs": [
    {
     "name": "stdout",
     "output_type": "stream",
     "text": [
      "(11, -1)\n"
     ]
    }
   ],
   "source": [
    "def calculation(a, b):\n",
    "  addition = a + b\n",
    "  subtraction = a - b\n",
    "  return addition, subtraction\n",
    "\n",
    "result = calculation(5, 6)\n",
    "print(result)"
   ]
  },
  {
   "cell_type": "code",
   "execution_count": 5,
   "id": "90f85bec",
   "metadata": {},
   "outputs": [
    {
     "name": "stdout",
     "output_type": "stream",
     "text": [
      "{'Asad': 'DAV', 'Shaikh': 'DAV', 'XYZ': 'DAV'}\n",
      "Result after Default value\n",
      "{'Asad': 'Ekeeda', 'Shaikh': 'Ekeeda', 'XYZ': 'Ekeeda'}\n"
     ]
    }
   ],
   "source": [
    "def friends(names, school='DAV'):\n",
    "  friends_dict = {}\n",
    "  for name in names:\n",
    "    friends_dict[name] = school\n",
    "  return friends_dict\n",
    "\n",
    "names = ['Asad', 'Shaikh', 'XYZ']\n",
    "result = friends(names)\n",
    "print(result)\n",
    "print(\"Result after Default value\")\n",
    "result = friends(names, school='Ekeeda')\n",
    "print(result)"
   ]
  },
  {
   "cell_type": "code",
   "execution_count": 3,
   "id": "0975ab4f",
   "metadata": {},
   "outputs": [
    {
     "name": "stdout",
     "output_type": "stream",
     "text": [
      "{'Alice': 'XYZ School', 'Bob': 'XYZ School', 'Charlie': 'XYZ School'}\n"
     ]
    }
   ],
   "source": [
    "result = friends(names, school='XYZ School')\n",
    "print(result)"
   ]
  },
  {
   "cell_type": "code",
   "execution_count": 6,
   "id": "50967859",
   "metadata": {},
   "outputs": [
    {
     "name": "stdout",
     "output_type": "stream",
     "text": [
      "Name: x\n"
     ]
    }
   ],
   "source": [
    "def friends(name):\n",
    "  print(\"Name:\", name)\n",
    "\n",
    "amigo = friends\n",
    "amigo(\"x\")"
   ]
  },
  {
   "cell_type": "code",
   "execution_count": 7,
   "id": "dd6b1062",
   "metadata": {},
   "outputs": [
    {
     "name": "stdout",
     "output_type": "stream",
     "text": [
      "2\n",
      "4\n",
      "6\n",
      "8\n",
      "10\n",
      "12\n",
      "14\n",
      "16\n",
      "18\n",
      "20\n",
      "22\n",
      "24\n",
      "26\n",
      "28\n",
      "30\n",
      "32\n",
      "34\n",
      "36\n",
      "38\n",
      "40\n",
      "42\n",
      "44\n",
      "46\n",
      "48\n",
      "50\n"
     ]
    }
   ],
   "source": [
    "def print_even_numbers():\n",
    "  for i in range(1, 51):\n",
    "    if i % 2 == 0:\n",
    "      print(i)\n",
    "\n",
    "print_even_numbers()"
   ]
  },
  {
   "cell_type": "code",
   "execution_count": 10,
   "id": "24698960",
   "metadata": {},
   "outputs": [
    {
     "name": "stdout",
     "output_type": "stream",
     "text": [
      "62\n"
     ]
    }
   ],
   "source": [
    "def sum_numbers(nums):\n",
    "  total = 0\n",
    "  for num in nums:\n",
    "    total += num\n",
    "  return total\n",
    "\n",
    "nums = [1, 2, 3, 4, 5, 6, 7, 7, 8, 9, 10]\n",
    "result = sum_numbers(nums)\n",
    "print(result)"
   ]
  },
  {
   "cell_type": "code",
   "execution_count": 11,
   "id": "59b24f8f",
   "metadata": {},
   "outputs": [
    {
     "name": "stdout",
     "output_type": "stream",
     "text": [
      "dcba4321\n"
     ]
    }
   ],
   "source": [
    "def print_reverse(string):\n",
    "  reverse_string = \"\"\n",
    "  for i in range(len(string)-1, -1, -1):\n",
    "    reverse_string += string[i]\n",
    "  print(reverse_string)\n",
    "\n",
    "print_reverse(\"1234abcd\")"
   ]
  },
  {
   "cell_type": "code",
   "execution_count": 12,
   "id": "95aa7737",
   "metadata": {},
   "outputs": [
    {
     "name": "stdout",
     "output_type": "stream",
     "text": [
      "True\n",
      "False\n",
      "False\n",
      "False\n"
     ]
    }
   ],
   "source": [
    "def is_palindrome(string):\n",
    "  for i in range(len(string)//2):\n",
    "    if string[i] != string[-(i+1)]:\n",
    "      return False\n",
    "  return True\n",
    "\n",
    "print(is_palindrome(\"MOM\"))\n",
    "print(is_palindrome(\"Mam\"))\n",
    "print(is_palindrome(\"MAdam\"))\n",
    "print(is_palindrome(\"hello\"))\n"
   ]
  },
  {
   "cell_type": "code",
   "execution_count": 16,
   "id": "62686685",
   "metadata": {},
   "outputs": [
    {
     "name": "stdout",
     "output_type": "stream",
     "text": [
      "Input lengths of the triangle sides: \n",
      "x: 23\n",
      "y: 43\n",
      "z: 45\n",
      "Scalene triangle\n"
     ]
    }
   ],
   "source": [
    "print(\"Input lengths of the triangle sides: \")\n",
    "x = int(input(\"x: \"))\n",
    "y = int(input(\"y: \"))\n",
    "z = int(input(\"z: \"))\n",
    "\n",
    "if x == y == z:\n",
    "    print(\"Equilateral triangle\")\n",
    "elif x==y or y==z or z==x:\n",
    "    print(\"isosceles triangle\")\n",
    "else:\n",
    "    print(\"Scalene triangle\")"
   ]
  },
  {
   "cell_type": "code",
   "execution_count": 17,
   "id": "331a2a4b",
   "metadata": {},
   "outputs": [
    {
     "name": "stdout",
     "output_type": "stream",
     "text": [
      "Enter a number: 345\n",
      "The last digit of 345 is 5.\n"
     ]
    }
   ],
   "source": [
    "number = int(input(\"Enter a number: \"))\n",
    "last_digit = number % 10\n",
    "print(f\"The last digit of {number} is {last_digit}.\")"
   ]
  },
  {
   "cell_type": "code",
   "execution_count": 18,
   "id": "96437f8f",
   "metadata": {},
   "outputs": [
    {
     "name": "stdout",
     "output_type": "stream",
     "text": [
      "Please Enter any Number: 345\n",
      "The Last Digit in a Given Number 345 = 5\n"
     ]
    }
   ],
   "source": [
    "def lastDigit(num):\n",
    "    return num % 10\n",
    "\n",
    "number = int(input(\"Please Enter any Number: \"))\n",
    "\n",
    "last_digit = lastDigit(number)\n",
    "\n",
    "print(\"The Last Digit in a Given Number %d = %d\" %(number, last_digit))"
   ]
  },
  {
   "cell_type": "code",
   "execution_count": 20,
   "id": "3db6978f",
   "metadata": {},
   "outputs": [
    {
     "name": "stdout",
     "output_type": "stream",
     "text": [
      "Enter a number: 9\n",
      "The last digit of 9 is divisible by 3.\n"
     ]
    }
   ],
   "source": [
    "number = int(input(\"Enter a number: \"))\n",
    "last_digit = number % 10\n",
    "if last_digit % 3 == 0:\n",
    "  print(f\"The last digit of {number} is divisible by 3.\")\n",
    "else:\n",
    "  print(f\"The last digit of {number} is not divisible by 3.\")\n"
   ]
  },
  {
   "cell_type": "code",
   "execution_count": 21,
   "id": "0171efd5",
   "metadata": {},
   "outputs": [
    {
     "name": "stdout",
     "output_type": "stream",
     "text": [
      "Enter a positive even number: 22\n",
      "Result: 4.69041575982343\n"
     ]
    }
   ],
   "source": [
    "import math\n",
    "\n",
    "def square_root(x):\n",
    "  if x > 0 and x % 2 == 0:\n",
    "    return math.sqrt(x)\n",
    "  else:\n",
    "    return \"Invalid input\"\n",
    "\n",
    "x = int(input(\"Enter a positive even number: \"))\n",
    "result = square_root(x)\n",
    "print(f\"Result: {result}\")\n"
   ]
  },
  {
   "cell_type": "code",
   "execution_count": null,
   "id": "90e78602",
   "metadata": {},
   "outputs": [
    {
     "name": "stdout",
     "output_type": "stream",
     "text": [
      "Input lengths of the triangle sides: \n"
     ]
    }
   ],
   "source": [
    "print(\"Input lengths of the triangle sides: \")\n",
    "x = int(input(\"x: \"))\n",
    "y = int(input(\"y: \"))\n",
    "z = int(input(\"z: \"))\n",
    "\n",
    "if x == y == z:\n",
    "    print(\"Equilateral triangle\")\n",
    "elif x==y or y==z or z==x:\n",
    "    print(\"isosceles triangle\")\n",
    "else:\n",
    "    print(\"Scalene triangle\")"
   ]
  },
  {
   "cell_type": "code",
   "execution_count": null,
   "id": "de1d5bbf",
   "metadata": {},
   "outputs": [],
   "source": [
    "def lastDigit(num):\n",
    "    return num % 10\n",
    "\n",
    "number = int(input(\"Please Enter any Number: \"))\n",
    "\n",
    "last_digit = lastDigit(number)\n",
    "\n",
    "print(\"The Last Digit in a Given Number %d = %d\" %(number, last_digit))"
   ]
  }
 ],
 "metadata": {
  "kernelspec": {
   "display_name": "Python 3 (ipykernel)",
   "language": "python",
   "name": "python3"
  },
  "language_info": {
   "codemirror_mode": {
    "name": "ipython",
    "version": 3
   },
   "file_extension": ".py",
   "mimetype": "text/x-python",
   "name": "python",
   "nbconvert_exporter": "python",
   "pygments_lexer": "ipython3",
   "version": "3.9.13"
  }
 },
 "nbformat": 4,
 "nbformat_minor": 5
}
