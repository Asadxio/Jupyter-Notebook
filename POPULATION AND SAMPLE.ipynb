{
 "cells": [
  {
   "cell_type": "code",
   "execution_count": 5,
   "id": "6742ecbe",
   "metadata": {},
   "outputs": [],
   "source": [
    "import pandas as pd\n",
    "df=pd.read_csv(\"C:/Users/alias/Downloads/Compressed/archive_6/dc-wikia-data.csv\")"
   ]
  },
  {
   "cell_type": "code",
   "execution_count": 10,
   "id": "9d91120c",
   "metadata": {},
   "outputs": [
    {
     "name": "stdout",
     "output_type": "stream",
     "text": [
      "      page_id                         name  \\\n",
      "5504   127406          Gustave (New Earth)   \n",
      "2895   144499            Greet (New Earth)   \n",
      "5460   154305            Billy (New Earth)   \n",
      "6867    10025           Brains (New Earth)   \n",
      "3951    12014         Molecule (New Earth)   \n",
      "...       ...                          ...   \n",
      "4357   270549        Hunter II (New Earth)   \n",
      "6682   185843         Ephemera (New Earth)   \n",
      "3264   359279  Cleveden Forbes (New Earth)   \n",
      "5937   287180            Girth (New Earth)   \n",
      "1858    49590    Yang Kei-Ying (New Earth)   \n",
      "\n",
      "                                  urlslug               ID            ALIGN  \\\n",
      "5504          \\/wiki\\/Gustave_(New_Earth)              NaN   Bad Characters   \n",
      "2895            \\/wiki\\/Greet_(New_Earth)              NaN  Good Characters   \n",
      "5460            \\/wiki\\/Billy_(New_Earth)  Secret Identity  Good Characters   \n",
      "6867           \\/wiki\\/Brains_(New_Earth)              NaN  Good Characters   \n",
      "3951         \\/wiki\\/Molecule_(New_Earth)  Secret Identity  Good Characters   \n",
      "...                                   ...              ...              ...   \n",
      "4357        \\/wiki\\/Hunter_II_(New_Earth)              NaN   Bad Characters   \n",
      "6682         \\/wiki\\/Ephemera_(New_Earth)  Secret Identity   Bad Characters   \n",
      "3264  \\/wiki\\/Cleveden_Forbes_(New_Earth)  Public Identity  Good Characters   \n",
      "5937            \\/wiki\\/Girth_(New_Earth)  Secret Identity   Bad Characters   \n",
      "1858    \\/wiki\\/Yang_Kei-Ying_(New_Earth)  Public Identity              NaN   \n",
      "\n",
      "             EYE        HAIR                SEX  GSM                ALIVE  \\\n",
      "5504         NaN  Black Hair    Male Characters  NaN    Living Characters   \n",
      "2895         NaN         NaN    Male Characters  NaN    Living Characters   \n",
      "5460   Blue Eyes         NaN    Male Characters  NaN    Living Characters   \n",
      "6867         NaN         NaN    Male Characters  NaN    Living Characters   \n",
      "3951         NaN  Blond Hair    Male Characters  NaN  Deceased Characters   \n",
      "...          ...         ...                ...  ...                  ...   \n",
      "4357         NaN    Red Hair    Male Characters  NaN    Living Characters   \n",
      "6682  Brown Eyes  Black Hair  Female Characters  NaN    Living Characters   \n",
      "3264  Brown Eyes  Black Hair    Male Characters  NaN    Living Characters   \n",
      "5937         NaN         NaN    Male Characters  NaN    Living Characters   \n",
      "1858  Brown Eyes  Black Hair    Male Characters  NaN    Living Characters   \n",
      "\n",
      "      APPEARANCES FIRST APPEARANCE    YEAR  \n",
      "5504          2.0       1959, June  1959.0  \n",
      "2895          7.0       2006, June  2006.0  \n",
      "5460          2.0    1976, January  1976.0  \n",
      "6867          NaN      1967, April  1967.0  \n",
      "3951          4.0   2006, December  2006.0  \n",
      "...           ...              ...     ...  \n",
      "4357          3.0      2010, April  2010.0  \n",
      "6682          NaN             1996  1996.0  \n",
      "3264          6.0    1996, October  1996.0  \n",
      "5937          1.0      2000, March  2000.0  \n",
      "1858         13.0       2006, June  2006.0  \n",
      "\n",
      "[690 rows x 13 columns]\n"
     ]
    }
   ],
   "source": [
    "import pandas as pd\n",
    "\n",
    "data = pd.read_csv(\"C:/Users/alias/Downloads/Compressed/archive_6/dc-wikia-data.csv\")\n",
    "\n",
    "sample_size = 0.1 # 10% of the population\n",
    "\n",
    "sample = data.sample(frac=sample_size)\n",
    "\n",
    "print(sample)\n"
   ]
  },
  {
   "cell_type": "code",
   "execution_count": 12,
   "id": "cb181465",
   "metadata": {},
   "outputs": [
    {
     "name": "stdout",
     "output_type": "stream",
     "text": [
      "    Age  Call Duration\n",
      "10   70             10\n",
      "6    52             15\n",
      "15   96             12\n",
      "11   77             15\n",
      "9    68             35\n"
     ]
    }
   ],
   "source": [
    "import pandas as pds\n",
    "callTimes = {\"Age\": [20,25,31,37,43,44,52,58,64,68,70,77,82,86,91,96],\n",
    "             \"Call Duration\":[17,25,10,15,5,7,15,25,30,35,10,15,12,14,20,12]};\n",
    "dataFrame = pds.DataFrame(data=callTimes);\n",
    "\n",
    "sample = dataFrame.sample(n=5)\n",
    "\n",
    "print(sample)\n"
   ]
  },
  {
   "cell_type": "code",
   "execution_count": 19,
   "id": "3d902727",
   "metadata": {},
   "outputs": [
    {
     "name": "stdout",
     "output_type": "stream",
     "text": [
      "[19]\n"
     ]
    }
   ],
   "source": [
    "import random\n",
    "\n",
    "# target population\n",
    "population = [1, 2, 3, 4, 5, 6, 7, 8, 9, 10, 11, 12, 13, 14, 15, 16, 17, 18, 19, 20]\n",
    "\n",
    "# choose a random starting point\n",
    "start = random.randint(0, len(population) - 1)\n",
    "\n",
    "# choose every 10th element\n",
    "sampling_interval = 10\n",
    "sample = population[start::sampling_interval]\n",
    "\n",
    "print(sample)\n"
   ]
  },
  {
   "cell_type": "code",
   "execution_count": 21,
   "id": "6ecaddfa",
   "metadata": {},
   "outputs": [],
   "source": [
    "import pandas as pd\n",
    "df=pd.read_csv(\"C:/Users/alias/Downloads/Compressed/archive_7/Employee_monthly_salary.csv\")"
   ]
  },
  {
   "cell_type": "code",
   "execution_count": 22,
   "id": "913fc7b0",
   "metadata": {},
   "outputs": [
    {
     "name": "stdout",
     "output_type": "stream",
     "text": [
      "      EmpID                    Name Gender Date_of_Birth  Age   Join_Date  \\\n",
      "30    22788           Herman Hester      M        9/9/82   37     4/11/19   \n",
      "82    23026        Dominique Lozano      F    28/05/1991   29      6/1/20   \n",
      "555   17732          Rhett Marshall      M    14/04/1981   39      3/4/17   \n",
      "1165  14584          Roderick Arias      M       12/8/93   26      2/7/15   \n",
      "1133  19470             Benito Owen      M    27/01/1989   31     6/11/17   \n",
      "...     ...                     ...    ...           ...  ...         ...   \n",
      "1622  22549          Marion Oconnor      F    22/08/1993   26  16/09/2019   \n",
      "1453  16094           Benjamin Hess      M      10/11/89   30  27/09/2018   \n",
      "45    22842             Chang Small      M        5/2/94   26  18/11/2019   \n",
      "1728  20956        Madeline Navarro      F    18/10/1996   23      8/8/19   \n",
      "517    3357  Christopher Mccullough      M    24/06/1982   38  16/10/2006   \n",
      "\n",
      "      Tenure_in_org_in_months   GROSS  Net_Pay  Deduction  \\\n",
      "30                          8  175533   140203      35330   \n",
      "82                          6  161500   153110       8390   \n",
      "555                        39  486983   269308     217675   \n",
      "1165                       60  145228   116311      28917   \n",
      "1133                       32  114628    78878      35750   \n",
      "...                       ...     ...      ...        ...   \n",
      "1622                        9  107952    94393      13559   \n",
      "1453                       21  215725   136705      79020   \n",
      "45                          7  123000   116727       6273   \n",
      "1728                       11   46150    41442       4708   \n",
      "517                       164  280266    65184     215082   \n",
      "\n",
      "      Deduction_percentage                                       Designation  \\\n",
      "30                   20.13               Business Operations Analyst.Senior.   \n",
      "82                    5.20                         Software Engineer.Senior.   \n",
      "555                  44.70                       Director..Technical Support   \n",
      "1165                 19.91                         Software Engineer.Senior.   \n",
      "1133                 31.19                             Solutions Architect..   \n",
      "...                    ...                                               ...   \n",
      "1622                 12.56                    Technical Solutions Engineer..   \n",
      "1453                 36.63  Software Development Engineer in Test.Senior II.   \n",
      "45                    5.10                             Release Engineer II..   \n",
      "1728                 10.20                Account Service Manager.Associate.   \n",
      "517                  76.74                      Manager..Platform Operations   \n",
      "\n",
      "                      Department  \n",
      "30        Web Division Sales Ops  \n",
      "82                  Media Portal  \n",
      "555                AmaTec - Mgmt  \n",
      "1165     Enterprise Applications  \n",
      "1133        Service Delivery APJ  \n",
      "...                          ...  \n",
      "1622       AmaTec - Americas TSE  \n",
      "1453        Security Engineering  \n",
      "45    Media Services Engineering  \n",
      "1728                   APJ - AMG  \n",
      "517          Platform Operations  \n",
      "\n",
      "[200 rows x 13 columns]\n"
     ]
    }
   ],
   "source": [
    "import pandas as pd\n",
    "\n",
    "data = pd.read_csv(\"C:/Users/alias/Downloads/Compressed/archive_7/Employee_monthly_salary.csv\")\n",
    "\n",
    "sample = data.sample(n=200)\n",
    "\n",
    "print(sample)\n"
   ]
  },
  {
   "cell_type": "code",
   "execution_count": 24,
   "id": "b299bfb1",
   "metadata": {},
   "outputs": [
    {
     "name": "stdout",
     "output_type": "stream",
     "text": [
      "0.854544851976857\n"
     ]
    }
   ],
   "source": [
    "import math\n",
    "x_bar = 62.1\n",
    "\n",
    "s = 13.46\n",
    "\n",
    "mu_null = 60\n",
    "\n",
    "n = 30\n",
    "test_statistic = (x_bar - mu_null) / (s / math.sqrt(n))\n",
    "\n",
    "print(test_statistic)\n"
   ]
  },
  {
   "cell_type": "code",
   "execution_count": 26,
   "id": "4e62a428",
   "metadata": {},
   "outputs": [
    {
     "name": "stdout",
     "output_type": "stream",
     "text": [
      "-2.0452296421327034\n"
     ]
    }
   ],
   "source": [
    "from scipy.stats import t\n",
    "alpha = 0.025\n",
    "df = 29\n",
    "t_value = t.ppf(alpha, df)\n",
    "print(t_value)\n"
   ]
  },
  {
   "cell_type": "code",
   "execution_count": 27,
   "id": "5bf72498",
   "metadata": {},
   "outputs": [
    {
     "name": "stdout",
     "output_type": "stream",
     "text": [
      "0.3998077505479367\n"
     ]
    }
   ],
   "source": [
    "from scipy.stats import t\n",
    "\n",
    "n = 30\n",
    "\n",
    "x_bar = 62.1\n",
    "\n",
    "s = 13.46\n",
    "\n",
    "mu_null = 60\n",
    "\n",
    "df = n-1\n",
    "\n",
    "test_statistic = (x_bar - mu_null) / (s / (n ** 0.5))\n",
    "\n",
    "p_value = 2 * (1 - t.cdf(abs(test_statistic), df))\n",
    "\n",
    "print(p_value)\n"
   ]
  },
  {
   "cell_type": "code",
   "execution_count": null,
   "id": "305f36b4",
   "metadata": {},
   "outputs": [],
   "source": []
  }
 ],
 "metadata": {
  "kernelspec": {
   "display_name": "Python 3 (ipykernel)",
   "language": "python",
   "name": "python3"
  },
  "language_info": {
   "codemirror_mode": {
    "name": "ipython",
    "version": 3
   },
   "file_extension": ".py",
   "mimetype": "text/x-python",
   "name": "python",
   "nbconvert_exporter": "python",
   "pygments_lexer": "ipython3",
   "version": "3.9.13"
  }
 },
 "nbformat": 4,
 "nbformat_minor": 5
}
