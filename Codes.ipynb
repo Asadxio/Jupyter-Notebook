{
 "cells": [
  {
   "cell_type": "code",
   "execution_count": 5,
   "id": "a641dc82",
   "metadata": {},
   "outputs": [
    {
     "name": "stdout",
     "output_type": "stream",
     "text": [
      "Average of the list1 = 31.22\n"
     ]
    }
   ],
   "source": [
    "def Average(list1):\n",
    "    return sum(list1) / len(list1)\n",
    "\n",
    "list1=[34,6,43,2,32,44,55,33,32]\n",
    "average = Average(list1)\n",
    "print(\"Average of the list1 =\", round(average, 2))"
   ]
  },
  {
   "cell_type": "code",
   "execution_count": 14,
   "id": "0fa552ab",
   "metadata": {},
   "outputs": [
    {
     "name": "stdout",
     "output_type": "stream",
     "text": [
      "sum is:  281 Average is:  31.22222222222222\n"
     ]
    }
   ],
   "source": [
    "list1=[34,6,43,2,32,44,55,33,32]\n",
    "res1 = 0\n",
    "for num in list1:\n",
    "    res1 += num\n",
    "avg1 = res1 / len(list1)\n",
    "print(\"sum is: \", res1, \"Average is: \", avg1)"
   ]
  },
  {
   "cell_type": "code",
   "execution_count": 18,
   "id": "4c9f914e",
   "metadata": {},
   "outputs": [
    {
     "name": "stdout",
     "output_type": "stream",
     "text": [
      "Original list:\n",
      "['red', 'black', 'white', 'green', 'orange']\n",
      "List with alternate elements from the said list:\n",
      "['red', 'white', 'orange']\n",
      "\n",
      "Original list:\n",
      "[2, 0, 3, 4, 0, 2, 8, 3, 4, 2]\n",
      "List with alternate elements from the said list:\n",
      "[2, 3, 0, 8, 4]\n"
     ]
    }
   ],
   "source": [
    "def alternate_elements(list_data):\n",
    "    result=[]\n",
    "    for item in list_data[::2]:\n",
    "        result.append(item)\n",
    "    return result \n",
    "colors = [\"red\", \"black\", \"white\", \"green\", \"orange\"]\n",
    "print(\"Original list:\")\n",
    "print(colors)\n",
    "print(\"List with alternate elements from the said list:\")\n",
    "print(alternate_elements(colors))\n",
    "nums = [2,0,3,4,0,2,8,3,4,2]\n",
    "print(\"\\nOriginal list:\")\n",
    "print(nums)\n",
    "print(\"List with alternate elements from the said list:\")\n",
    "print(alternate_elements(nums))\n"
   ]
  },
  {
   "cell_type": "markdown",
   "id": "5510bb5b",
   "metadata": {},
   "source": [
    "#### mylist = []\n",
    "size = int(input('How many elements you want to enter? '))\n",
    "\n",
    "print('Enter',str(size),'elements')\n",
    "\n",
    "for i in range(size):\n",
    "    data = int(input())\n",
    "    mylist.append(data)\n",
    "\n",
    "print('Alternate elements are:')\n",
    "\n",
    "for i in range(0,size,2):\n",
    "    print(mylist[i])\n"
   ]
  },
  {
   "cell_type": "code",
   "execution_count": 22,
   "id": "60987627",
   "metadata": {},
   "outputs": [
    {
     "name": "stdout",
     "output_type": "stream",
     "text": [
      "How many elements you want to enter? 2\n",
      "Enter 2 elements\n",
      "23\n",
      "43\n",
      "Alternate elements are:\n",
      "23\n"
     ]
    }
   ],
   "source": [
    "mylist = []\n",
    "size = int(input('How many elements you want to enter? '))\n",
    "\n",
    "print('Enter',str(size),'elements')\n",
    "\n",
    "for i in range(size):\n",
    "    data = int(input())\n",
    "    mylist.append(data)\n",
    "\n",
    "print('Alternate elements are:')\n",
    "\n",
    "for i in range(0,size,2):\n",
    "    print(mylist[i])"
   ]
  },
  {
   "cell_type": "markdown",
   "id": "59c7c382",
   "metadata": {},
   "source": [
    "endLoop=False\n",
    "    for n1 in range(0,len(numbers)):\n",
    "        for n2 in range(1,len(numbers)):\n",
    "            if numbers[n1]==numbers[n2]:\n",
    "                print numbers\n",
    "                print numbers[n1]\n",
    "                endLoop=True\n",
    "        if endLoop:\n",
    "            break"
   ]
  },
  {
   "cell_type": "code",
   "execution_count": 23,
   "id": "a11260fb",
   "metadata": {},
   "outputs": [
    {
     "ename": "IndentationError",
     "evalue": "unexpected indent (1076443090.py, line 2)",
     "output_type": "error",
     "traceback": [
      "\u001b[1;36m  File \u001b[1;32m\"C:\\Users\\alias\\AppData\\Local\\Temp\\ipykernel_1548\\1076443090.py\"\u001b[1;36m, line \u001b[1;32m2\u001b[0m\n\u001b[1;33m    for n1 in range(0,len(numbers)):\u001b[0m\n\u001b[1;37m    ^\u001b[0m\n\u001b[1;31mIndentationError\u001b[0m\u001b[1;31m:\u001b[0m unexpected indent\n"
     ]
    }
   ],
   "source": [
    "endLoop=False\n",
    "    for n1 in range(0,len(numbers)):\n",
    "        for n2 in range(1,len(numbers)):\n",
    "            if numbers[n1]==numbers[n2]:\n",
    "                print numbers\n",
    "                print numbers[n1]\n",
    "                endLoop=True\n",
    "        if endLoop:\n",
    "            break"
   ]
  },
  {
   "cell_type": "code",
   "execution_count": 27,
   "id": "7e4c5233",
   "metadata": {},
   "outputs": [
    {
     "name": "stdout",
     "output_type": "stream",
     "text": [
      "The first repeating element is 4\n"
     ]
    }
   ],
   "source": [
    "list1 = [1, 6, 4, 5, 5, 3, 4, 6,7,8,9,1,2,3,4,5,6,7,8,9]\n",
    "\n",
    "repeat_ele = -1\n",
    "\n",
    "for element in list1:\n",
    "    c = arr.count(element)\n",
    "    if c > 1:\n",
    "        repeat_ele = element\n",
    "        break;\n",
    "        \n",
    "if repeat_ele == -1:\n",
    "    print(\"There are no repeating elements in array\")\n",
    "else:\n",
    "    print(\"The first repeating element is\",repeat_ele)"
   ]
  },
  {
   "cell_type": "code",
   "execution_count": 30,
   "id": "412bc7d3",
   "metadata": {},
   "outputs": [
    {
     "name": "stdout",
     "output_type": "stream",
     "text": [
      "[1, 3, 4, 5, 6, 9, 10, 11, 12, 13, 14]\n"
     ]
    }
   ],
   "source": [
    "list1 = [1, 2, 3, 4,5,6,7,8,9,10,11,22,33,44,55]\n",
    "list2 = [1, 5, 3, 6,7,8,9,8,9,12,13,14,22,11,33]\n",
    "\n",
    "y = 0\n",
    "\n",
    "Output = []\n",
    "\n",
    "for x in list1:\n",
    "\tif x != list2[y]:\n",
    "\t\tOutput.append(y)\n",
    "\ty = y + 1\n",
    "print(Output)"
   ]
  },
  {
   "cell_type": "code",
   "execution_count": 31,
   "id": "b7c258a5",
   "metadata": {},
   "outputs": [
    {
     "name": "stdout",
     "output_type": "stream",
     "text": [
      "Using reverse()  [15, 14, 13, 12, 11, 10]\n",
      "Using reversed()  [10, 11, 12, 13, 14, 15]\n"
     ]
    }
   ],
   "source": [
    "lst = [10, 11, 12, 13, 14, 15]\n",
    "lst.reverse()\n",
    "print(\"Using reverse() \", lst)\n",
    "\n",
    "print(\"Using reversed() \", list(reversed(lst)))\n"
   ]
  },
  {
   "cell_type": "code",
   "execution_count": 32,
   "id": "da158e02",
   "metadata": {},
   "outputs": [
    {
     "name": "stdout",
     "output_type": "stream",
     "text": [
      "[5]\n"
     ]
    }
   ],
   "source": [
    "my_numbers = [1,2,3,4,5,]\n",
    "\n",
    "slicing_my_numbers = my_numbers[-1:]\n",
    "\n",
    "print(slicing_my_numbers)\n",
    "\n",
    "# output\n",
    "# [5]"
   ]
  },
  {
   "cell_type": "code",
   "execution_count": 45,
   "id": "aa2eb871",
   "metadata": {},
   "outputs": [
    {
     "name": "stdout",
     "output_type": "stream",
     "text": [
      "[1, 2, 3, 4, 5]\n",
      "[5, 4, 3, 2, 1]\n"
     ]
    }
   ],
   "source": [
    "my_numbers = [1,2,3,4,5]\n",
    "my_numbers_reversed = my_numbers[::-1]\n",
    "print(my_numbers)\n",
    "print(my_numbers_reversed)"
   ]
  },
  {
   "cell_type": "code",
   "execution_count": 54,
   "id": "5f17d425",
   "metadata": {},
   "outputs": [
    {
     "name": "stdout",
     "output_type": "stream",
     "text": [
      "8 has occurred 6 times\n"
     ]
    }
   ],
   "source": [
    "def countX(lst, x):\n",
    "\tcount = 0\n",
    "\tfor ele in lst:\n",
    "\t\tif (ele == x):\n",
    "\t\t\tcount = count + 1\n",
    "\treturn count\n",
    "lst = [8, 6, 8, 10, 8, 20, 10, 8, 8,8,10,12,23,45,56,678,23,23,23,35]\n",
    "x = 8\n",
    "print('{} has occurred {} times'.format(x,\n",
    "                                        countX(lst, x)))"
   ]
  },
  {
   "cell_type": "code",
   "execution_count": 57,
   "id": "e11ec133",
   "metadata": {},
   "outputs": [
    {
     "name": "stdout",
     "output_type": "stream",
     "text": [
      "The original list 1 is : ['Ekeeda', 'is', 'best']\n",
      "The original list 2 is : ['Classes', 'are', 'Good']\n",
      "The paired combinations : ['Ekeeda Classes', 'Ekeeda are', 'Ekeeda Good', 'is Classes', 'is are', 'is Good', 'best Classes', 'best are', 'best Good']\n"
     ]
    }
   ],
   "source": [
    "test_list1 = [\"Ekeeda\", \"is\", \"best\"]\n",
    "test_list2 = [\"Classes\", \"are\", \"Good\"]\n",
    "\n",
    "print(\"The original list 1 is : \" + str(test_list1))\n",
    "print(\"The original list 2 is : \" + str(test_list2))\n",
    "\n",
    "temp = [(a, b) for a in test_list1 for b in test_list2]\n",
    "\n",
    "res = [x + ' ' + y for (x, y) in temp]\n",
    "\n",
    "print(\"The paired combinations : \" + str(res))"
   ]
  },
  {
   "cell_type": "code",
   "execution_count": 62,
   "id": "5b8d85c6",
   "metadata": {},
   "outputs": [
    {
     "name": "stdout",
     "output_type": "stream",
     "text": [
      "Length of the Longest contiguous subsequence is 10\n"
     ]
    }
   ],
   "source": [
    "def findLongestConseqSubseq(arr, n):\n",
    "\n",
    "\tans = 0\n",
    "\tcount = 0\n",
    "\n",
    "\tarr.sort()\n",
    "\n",
    "\tv = []\n",
    "\n",
    "\tv.append(arr[0])\n",
    "\n",
    "\n",
    "\tfor i in range(1, n):\n",
    "\t\tif (arr[i] != arr[i - 1]):\n",
    "\t\t\tv.append(arr[i])\n",
    "\n",
    "\n",
    "\tfor i in range(len(v)):\n",
    "\n",
    "\n",
    "\t\tif (i > 0 and v[i] == v[i - 1] + 1):\n",
    "\t\t\tcount += 1\n",
    "\n",
    "\n",
    "\t\telse:\n",
    "\t\t\tcount = 1\n",
    "\n",
    "\n",
    "\t\tans = max(ans, count)\n",
    "\n",
    "\treturn ans\n",
    "\n",
    "\n",
    "arr = [1, 2, 2, 3,4,5,6,7,8,1,2,3,4,5,6,7,8,9,0,11,2,2,3,3,55,45,576,6,787,9890,9,0,4352,42,3]\n",
    "n = len(arr)\n",
    "\n",
    "print(\"Length of the Longest contiguous subsequence is\",\n",
    "\tfindLongestConseqSubseq(arr, n))"
   ]
  },
  {
   "cell_type": "code",
   "execution_count": 64,
   "id": "bd109cb0",
   "metadata": {},
   "outputs": [
    {
     "name": "stdout",
     "output_type": "stream",
     "text": [
      "Length of nums = 23232242\n",
      "nums = 2424\n",
      "Length of longest consecutive subsequence in nums = 1\n"
     ]
    }
   ],
   "source": [
    "def longestConsecutive(nums):\n",
    "    longest = 0\n",
    "\n",
    "    for x in nums:\n",
    "        currNum = x\n",
    "        currStreak = 1\n",
    "\n",
    "        while (currNum+1) in nums:\n",
    "            currNum += 1\n",
    "            currStreak += 1\n",
    "\n",
    "        longest = max(currStreak, longest)\n",
    "\n",
    "    return longest\n",
    "\n",
    "\n",
    "n = input(\"Length of nums = \")\n",
    "\n",
    "nums = list(map(int, input(\"nums = \").split()))\n",
    "\n",
    "ans = longestConsecutive(nums)\n",
    "print(\"Length of longest consecutive subsequence in nums =\", ans)"
   ]
  },
  {
   "cell_type": "markdown",
   "id": "5f84f90e",
   "metadata": {},
   "source": [
    "# Python3 program for addition\n",
    "# of two matrices\n",
    "\n",
    "N = 4\n",
    "\n",
    "# This function adds A[][]\n",
    "# and B[][], and stores\n",
    "# the result in C[][]\n",
    "\n",
    "\n",
    "def add(A, B, C):\n",
    "\n",
    "\tfor i in range(N):\n",
    "\t\tfor j in range(N):\n",
    "\t\t\tC[i][j] = A[i][j] + B[i][j]\n",
    "\n",
    "\n",
    "# driver code\n",
    "A = [[1, 1, 1, 1],\n",
    "\t[2, 2, 2, 2],\n",
    "\t[3, 3, 3, 3],\n",
    "\t[4, 4, 4, 4]]\n",
    "\n",
    "B = [[1, 1, 1, 1],\n",
    "\t[2, 2, 2, 2],\n",
    "\t[3, 3, 3, 3],\n",
    "\t[4, 4, 4, 4]]\n",
    "\n",
    "C = A[:][:] # To store result\n",
    "\n",
    "add(A, B, C)\n",
    "\n",
    "print(\"Result matrix is\")\n",
    "for i in range(N):\n",
    "\tfor j in range(N):\n",
    "\t\tprint(C[i][j], \" \", end='')\n",
    "\tprint()\n",
    "\n",
    "# This code is contributed\n",
    "# by Anant Agarwal.\n"
   ]
  },
  {
   "cell_type": "code",
   "execution_count": 66,
   "id": "2fd4b74c",
   "metadata": {},
   "outputs": [
    {
     "name": "stdout",
     "output_type": "stream",
     "text": [
      "Result matrix is\n",
      "2  2  2  2  \n",
      "4  4  4  4  \n",
      "6  6  6  6  \n",
      "8  8  8  8  \n"
     ]
    }
   ],
   "source": [
    "N = 4\n",
    "def add(A, B, C):\n",
    "\n",
    "\tfor i in range(N):\n",
    "\t\tfor j in range(N):\n",
    "\t\t\tC[i][j] = A[i][j] + B[i][j]\n",
    "\n",
    "\n",
    "A = [[1, 1, 1, 1],\n",
    "\t[2, 2, 2, 2],\n",
    "\t[3, 3, 3, 3],\n",
    "\t[4, 4, 4, 4]]\n",
    "\n",
    "B = [[1, 1, 1, 1],\n",
    "\t[2, 2, 2, 2],\n",
    "\t[3, 3, 3, 3],\n",
    "\t[4, 4, 4, 4]]\n",
    "\n",
    "C = A[:][:]\n",
    "add(A, B, C)\n",
    "\n",
    "print(\"Result matrix is\")\n",
    "for i in range(N):\n",
    "\tfor j in range(N):\n",
    "\t\tprint(C[i][j], \" \", end='')\n",
    "\tprint()"
   ]
  },
  {
   "cell_type": "code",
   "execution_count": null,
   "id": "07e474c5",
   "metadata": {},
   "outputs": [],
   "source": [
    "X =int(input(\"Enter the number in matrix form\"))\n",
    "\n",
    "Y =int(input(\"Enter the number in matrix form\"))\n",
    "\n",
    "result = [[X[i][j] + Y[i][j]  for j in range(len(X[0]))] for i in range(len(X))]\n",
    "\n",
    "for r in result:\n",
    "   print(r)"
   ]
  },
  {
   "cell_type": "markdown",
   "id": "e824d5e8",
   "metadata": {},
   "source": [
    "##### X = [[12,7,3],\n",
    "    [4 ,5,6],\n",
    "    [7 ,8,9]]\n",
    "\n",
    "Y = [[5,8,1,2],\n",
    "    [6,7,3,0],\n",
    "    [4,5,9,1]]\n",
    "\n",
    "result = [[sum(a*b for a,b in zip(X_row,Y_col)) for Y_col in zip(*Y)] for X_row in X]\n",
    "\n",
    "for r in result:\n",
    "   print(r)"
   ]
  },
  {
   "cell_type": "code",
   "execution_count": null,
   "id": "34e990cf",
   "metadata": {},
   "outputs": [],
   "source": [
    "list1=int(input(\"Enter the number\"))\n",
    "print(\"The original list : \" + str(test_list))\n",
    "res = [test_list[i] for i in range(len(test_list)) if i % 2 != 0]\n",
    "print(\"The alternate element list is : \" + str(res))"
   ]
  },
  {
   "cell_type": "code",
   "execution_count": null,
   "id": "c5716c78",
   "metadata": {},
   "outputs": [],
   "source": [
    "test_list = [1, 4, 6, 7, 9, 3, 5]\n",
    "\n",
    "print(\"The original list : \" + str(test_list))\n",
    "res = []\n",
    "for i in range(1, len(test_list), 2):\n",
    "\tres.append(test_list[i])\n",
    "print(\"The alternate element list is : \" + str(res))\n"
   ]
  },
  {
   "cell_type": "code",
   "execution_count": null,
   "id": "ec52a242",
   "metadata": {},
   "outputs": [],
   "source": [
    "n = int(input(\"Enter the number of rows:\")) \n",
    "m = int(input(\"Enter the number of columns:\")) \n",
    "  \n",
    "matrix = [] \n",
    "\n",
    "print(\"Enter values in matrix :\") \n",
    "\n",
    "# For user input \n",
    "for i in range(n):\n",
    "    data =[] \n",
    "    for j in range(m):\n",
    "         data.append(int(input())) \n",
    "    matrix.append(data)"
   ]
  },
  {
   "cell_type": "code",
   "execution_count": null,
   "id": "8ef891cb",
   "metadata": {},
   "outputs": [],
   "source": []
  }
 ],
 "metadata": {
  "kernelspec": {
   "display_name": "Python 3 (ipykernel)",
   "language": "python",
   "name": "python3"
  },
  "language_info": {
   "codemirror_mode": {
    "name": "ipython",
    "version": 3
   },
   "file_extension": ".py",
   "mimetype": "text/x-python",
   "name": "python",
   "nbconvert_exporter": "python",
   "pygments_lexer": "ipython3",
   "version": "3.9.13"
  }
 },
 "nbformat": 4,
 "nbformat_minor": 5
}
