{
 "cells": [
  {
   "cell_type": "code",
   "execution_count": 5,
   "id": "05758006",
   "metadata": {},
   "outputs": [
    {
     "name": "stdout",
     "output_type": "stream",
     "text": [
      "The original list : [1, 4, 6, 7, 9, 3, 5]\n",
      "The alternate element list is : [4, 7, 3]\n"
     ]
    }
   ],
   "source": [
    "test_list = [1, 4, 6, 7, 9, 3, 5]\n",
    "E\n",
    "print(\"The original list : \" + str(test_list))\n",
    "res = []\n",
    "for i in range(1, len(test_list), 2):\n",
    "    res.append(test_list[i])\n",
    "print(\"The alternate element list is : \" + str(res))"
   ]
  },
  {
   "cell_type": "code",
   "execution_count": 10,
   "id": "2dad4cd9",
   "metadata": {},
   "outputs": [
    {
     "name": "stdout",
     "output_type": "stream",
     "text": [
      "Enter lists of Stringsxcvxcvxcvxcvxcbvxcbdfbsgsg\n",
      "The original list : xcvxcvxcvxcvxcbvxcbdfbsgsg\n",
      "Maximum length string is : x\n"
     ]
    }
   ],
   "source": [
    "test_list =str(input(\"Enter lists of Strings\"))\n",
    "print(\"The original list : \" + str(test_list))\n",
    "res = max(test_list, key = len)\n",
    "print(\"Maximum length string is : \" + res)"
   ]
  },
  {
   "cell_type": "code",
   "execution_count": null,
   "id": "1bf0e6f2",
   "metadata": {},
   "outputs": [],
   "source": [
    "n = int(input(\"Enter the number of rows:\")) \n",
    "m = int(input(\"Enter the number of columns:\")) \n",
    "  \n",
    "matrix = [] \n",
    "\n",
    "print(\"Enter values in matrix :\") \n",
    "\n",
    "# For user input \n",
    "for i in range(n):\n",
    "    data =[] \n",
    "    for j in range(m):\n",
    "         data.append(int(input())) \n",
    "    matrix.append(data)"
   ]
  },
  {
   "cell_type": "code",
   "execution_count": 1,
   "id": "5fca42f1",
   "metadata": {},
   "outputs": [
    {
     "name": "stdout",
     "output_type": "stream",
     "text": [
      "Frozen set is: frozenset({'sex', 'age', 'name'})\n"
     ]
    }
   ],
   "source": [
    "person = {\"name\": \"Phill\", \"age\": 22, \"sex\": \"male\"}  \n",
    "  \n",
    "fSet = frozenset(person)  \n",
    "print('Frozen set is:', fSet)  "
   ]
  },
  {
   "cell_type": "code",
   "execution_count": 5,
   "id": "872eb8be",
   "metadata": {},
   "outputs": [
    {
     "name": "stdout",
     "output_type": "stream",
     "text": [
      "The original tuple : Ekeeda\n",
      "The duplicated tuple elements are : ('Ekeeda', 'Ekeeda', 'Ekeeda', 'Ekeeda', 'Ekeeda')\n"
     ]
    }
   ],
   "source": [
    "valuee = (\"Ekeeda\")\n",
    "print(\"The original tuple : \" + str(valuee))\n",
    "N = 5\n",
    "res = ((valuee, ) * N)\n",
    "print(\"The duplicated tuple elements are : \" + str(res))"
   ]
  },
  {
   "cell_type": "code",
   "execution_count": 6,
   "id": "c8dc960d",
   "metadata": {},
   "outputs": [
    {
     "ename": "SyntaxError",
     "evalue": "Missing parentheses in call to 'print'. Did you mean print(\"tup1[0]: \", tup1[0])? (3679214182.py, line 3)",
     "output_type": "error",
     "traceback": [
      "\u001b[1;36m  File \u001b[1;32m\"C:\\Users\\alias\\AppData\\Local\\Temp\\ipykernel_10908\\3679214182.py\"\u001b[1;36m, line \u001b[1;32m3\u001b[0m\n\u001b[1;33m    print \"tup1[0]: \", tup1[0];\u001b[0m\n\u001b[1;37m          ^\u001b[0m\n\u001b[1;31mSyntaxError\u001b[0m\u001b[1;31m:\u001b[0m Missing parentheses in call to 'print'. Did you mean print(\"tup1[0]: \", tup1[0])?\n"
     ]
    }
   ],
   "source": [
    "tup1 = ('physics', 'chemistry', 1997, 2000);\n",
    "tup2 = (1, 2, 3, 4, 5, 6, 7 );\n",
    "print \"tup1[0]: \", tup1[0];\n",
    "print \"tup2[1:5]: \", tup2[1:5];"
   ]
  },
  {
   "cell_type": "code",
   "execution_count": 71,
   "id": "4e7f9ddd",
   "metadata": {},
   "outputs": [
    {
     "name": "stdout",
     "output_type": "stream",
     "text": [
      "Ekeed\n"
     ]
    }
   ],
   "source": [
    "Valuee=('EkeedaIsTheBest')\n",
    "print(valuee[:-:])"
   ]
  },
  {
   "cell_type": "code",
   "execution_count": 13,
   "id": "30b08897",
   "metadata": {},
   "outputs": [
    {
     "ename": "SyntaxError",
     "evalue": "Missing parentheses in call to 'print'. Did you mean print(\"valuee[9]: \", valuee[0])? (498197217.py, line 1)",
     "output_type": "error",
     "traceback": [
      "\u001b[1;36m  File \u001b[1;32m\"C:\\Users\\alias\\AppData\\Local\\Temp\\ipykernel_10908\\498197217.py\"\u001b[1;36m, line \u001b[1;32m1\u001b[0m\n\u001b[1;33m    print \"valuee[9]: \", valuee[0];\u001b[0m\n\u001b[1;37m          ^\u001b[0m\n\u001b[1;31mSyntaxError\u001b[0m\u001b[1;31m:\u001b[0m Missing parentheses in call to 'print'. Did you mean print(\"valuee[9]: \", valuee[0])?\n"
     ]
    }
   ],
   "source": [
    "print \"valuee[9]: \", valuee[0];"
   ]
  },
  {
   "cell_type": "code",
   "execution_count": 73,
   "id": "3e3a411a",
   "metadata": {},
   "outputs": [
    {
     "name": "stdout",
     "output_type": "stream",
     "text": [
      "3\n"
     ]
    }
   ],
   "source": [
    "Item= 2, 4, 5, 6, 2, 3, 4, 4, 7 \n",
    "x = Item.count(4)\n",
    "print(x)"
   ]
  },
  {
   "cell_type": "code",
   "execution_count": 79,
   "id": "cc94ac33",
   "metadata": {},
   "outputs": [
    {
     "name": "stdout",
     "output_type": "stream",
     "text": [
      "Modified Set: \n",
      "{'b', 'z', 'a', 'c', 'x', 'y'}\n"
     ]
    }
   ],
   "source": [
    "sett= {\"a\", \"b\", \"c\"}\n",
    "li = [\"x\", \"y\", \"z\"]\n",
    "sett.update(li)\n",
    "print('Modified Set: ')\n",
    "print(sett)"
   ]
  },
  {
   "cell_type": "code",
   "execution_count": null,
   "id": "74615c88",
   "metadata": {},
   "outputs": [],
   "source": [
    "sett= {\"a\", \"b\", \"c\"}\n",
    "li = [\"x\", \"y\", \"z\"]"
   ]
  },
  {
   "cell_type": "code",
   "execution_count": 81,
   "id": "1429e949",
   "metadata": {},
   "outputs": [
    {
     "name": "stdout",
     "output_type": "stream",
     "text": [
      "{60, 70}\n",
      "{10, 20}\n"
     ]
    }
   ],
   "source": [
    "A = {30, 40, 50, 60, 70}\n",
    "B = {10, 20, 30, 40, 50}\n",
    "print (A.difference(B))\n",
    "print (B.difference(A))"
   ]
  },
  {
   "cell_type": "code",
   "execution_count": 82,
   "id": "c5817cec",
   "metadata": {},
   "outputs": [],
   "source": [
    "nums = [(1,2,22), (2,44,-44), (2,4), (2,2,2,2.2)]"
   ]
  },
  {
   "cell_type": "code",
   "execution_count": 95,
   "id": "448130a5",
   "metadata": {},
   "outputs": [
    {
     "name": "stdout",
     "output_type": "stream",
     "text": [
      "Original set elements:\n",
      "{1, 2, 3, 4}\n",
      "{4, 5, 6, 7}\n",
      "{8, 9, 10}\n",
      "\n",
      "Confirm two given sets have no element(s) in common:\n",
      "\n",
      "Compare x and y:\n",
      "False\n",
      "\n",
      "Compare x and z:\n",
      "True\n",
      "\n",
      "Compare y and z:\n",
      "True\n"
     ]
    }
   ],
   "source": [
    "x = {1,2,3,4}\n",
    "y = {4,5,6,7}\n",
    "z = {8,9,10}\n",
    "print(\"Original set elements:\")\n",
    "print(x)\n",
    "print(y)\n",
    "print(z)\n",
    "print(\"\\nConfirm two given sets have no element(s) in common:\")\n",
    "print(\"\\nCompare x and y:\")\n",
    "print(x.isdisjoint(y))\n",
    "print(\"\\nCompare x and z:\")\n",
    "print(z.isdisjoint(x))\n",
    "print(\"\\nCompare y and z:\")\n",
    "print(y.isdisjoint(z))"
   ]
  },
  {
   "cell_type": "code",
   "execution_count": 99,
   "id": "25a68f29",
   "metadata": {},
   "outputs": [
    {
     "name": "stdout",
     "output_type": "stream",
     "text": [
      "[('y', 10), ('x', 20), ('z', 33), ('y', 45)]\n"
     ]
    }
   ],
   "source": [
    "def Sort_Tuple(tup):\n",
    "\t\n",
    "\tlst = len(tup)\n",
    "\tfor i in range(0, lst):\n",
    "\t\t\n",
    "\t\tfor j in range(0, lst-i-1):\n",
    "\t\t\tif (tup[j][1] > tup[j + 1][1]):\n",
    "\t\t\t\ttemp = tup[j]\n",
    "\t\t\t\ttup[j]= tup[j + 1]\n",
    "\t\t\t\ttup[j + 1]= temp\n",
    "\treturn tup\n",
    "\n",
    "tup =[('x', 20), ('y', 10), ('y', 45),\n",
    "\t('z', 33)]\n",
    "\t\n",
    "print(Sort_Tuple(tup))"
   ]
  },
  {
   "cell_type": "code",
   "execution_count": 103,
   "id": "8a4d1d2c",
   "metadata": {},
   "outputs": [
    {
     "name": "stdout",
     "output_type": "stream",
     "text": [
      "The original tuple : (11, 11, 11, 11, 11)\n",
      "Do all elements have same type ? : True\n"
     ]
    }
   ],
   "source": [
    "Tup = (11,11,11,11,11)\n",
    "print(\"The original tuple : \" + str(Tup))\n",
    "res = True\n",
    "for ele in Tup:\n",
    "\tif not isinstance(ele, type(Tup[0])):\n",
    "\t\tres = False\n",
    "\t\tbreak\n",
    "print(\"Do all elements have same type ? : \" + str(res))"
   ]
  },
  {
   "cell_type": "code",
   "execution_count": 112,
   "id": "ce8b025a",
   "metadata": {},
   "outputs": [
    {
     "name": "stdout",
     "output_type": "stream",
     "text": [
      "set()\n"
     ]
    }
   ],
   "source": [
    "set1 = {10,20,30,40,50}\n",
    "set1.clear()\n",
    "print(set1)"
   ]
  },
  {
   "cell_type": "code",
   "execution_count": 113,
   "id": "1d592b52",
   "metadata": {},
   "outputs": [
    {
     "ename": "SyntaxError",
     "evalue": "invalid character '’' (U+2019) (2168261239.py, line 5)",
     "output_type": "error",
     "traceback": [
      "\u001b[1;36m  File \u001b[1;32m\"C:\\Users\\alias\\AppData\\Local\\Temp\\ipykernel_10908\\2168261239.py\"\u001b[1;36m, line \u001b[1;32m5\u001b[0m\n\u001b[1;33m    Dicti = {0:’a’, 1:’a’}\u001b[0m\n\u001b[1;37m               ^\u001b[0m\n\u001b[1;31mSyntaxError\u001b[0m\u001b[1;31m:\u001b[0m invalid character '’' (U+2019)\n"
     ]
    }
   ],
   "source": [
    "d = {0:10, 1:20}\n",
    "print(d)\n",
    "d.update({2:30})\n",
    "print(d)\n"
   ]
  },
  {
   "cell_type": "code",
   "execution_count": 117,
   "id": "c2fd8110",
   "metadata": {},
   "outputs": [
    {
     "name": "stdout",
     "output_type": "stream",
     "text": [
      "{0: 'a', 1: 'a'}\n",
      "{0: 'a', 1: 'a', 2: 0}\n"
     ]
    }
   ],
   "source": [
    "Dicti = {0:'a', 1:'a'}\n",
    "print(Dicti)\n",
    "Dicti.update({2:0})\n",
    "print(Dicti)"
   ]
  },
  {
   "cell_type": "code",
   "execution_count": 121,
   "id": "82dbeed7",
   "metadata": {},
   "outputs": [
    {
     "name": "stdout",
     "output_type": "stream",
     "text": [
      "Asad\n",
      "class : 1st\n",
      "rolld_id : 1\n",
      "Tawakkal\n",
      "class : Vth\n",
      "roll_id : 3\n"
     ]
    }
   ],
   "source": [
    "students = {'Asad':{'class':'1st',\n",
    "        'rolld_id':1},\n",
    "        'Tawakkal':{'class':'Vth',\n",
    "        'roll_id':3}}\n",
    "for a in students:\n",
    "    print(a)\n",
    "    for b in students[a]:\n",
    "        print (b,':',students[a][b])"
   ]
  },
  {
   "cell_type": "code",
   "execution_count": 122,
   "id": "9959ca9a",
   "metadata": {},
   "outputs": [
    {
     "name": "stdout",
     "output_type": "stream",
     "text": [
      "Enter First Number: 23\n",
      "Enter Second Number: 23\n",
      "Enter which operation would you like to perform?\n",
      "Enter any of these char for specific operation +,-,*,/: -\n",
      "23 - 23 : 0\n"
     ]
    }
   ],
   "source": [
    "num1 = int(input(\"Enter First Number: \"))\n",
    "num2 = int(input(\"Enter Second Number: \"))\n",
    "\n",
    "print(\"Enter which operation would you like to perform?\")\n",
    "ch = input(\"Enter any of these char for specific operation +,-,*,/: \")\n",
    "\n",
    "result = 0\n",
    "if ch == '+':\n",
    "    result = num1 + num2\n",
    "elif ch == '-':\n",
    "    result = num1 - num2\n",
    "elif ch == '*':\n",
    "    result = num1 * num2\n",
    "elif ch == '/':\n",
    "    result = num1 / num2\n",
    "else:\n",
    "    print(\"Input character is not recognized!\")\n",
    "\n",
    "print(num1, ch , num2, \":\", result)"
   ]
  },
  {
   "cell_type": "code",
   "execution_count": 123,
   "id": "bfb651ef",
   "metadata": {},
   "outputs": [
    {
     "name": "stdout",
     "output_type": "stream",
     "text": [
      "Type a number: 23\n",
      "Type another number: 123\n",
      "The sum is:  146\n"
     ]
    }
   ],
   "source": [
    "x = input(\"Type a number: \")\n",
    "y = input(\"Type another number: \")\n",
    "\n",
    "sum = int(x) + int(y)\n",
    "\n",
    "print(\"The sum is: \", sum)"
   ]
  },
  {
   "cell_type": "code",
   "execution_count": 124,
   "id": "3f5ca2e8",
   "metadata": {},
   "outputs": [
    {
     "name": "stdout",
     "output_type": "stream",
     "text": [
      "The addition of 5 and 15 results 20.\n"
     ]
    }
   ],
   "source": [
    "def add(num1: int, num2: int) -> int:\n",
    "\t\"\"\"Add two numbers\"\"\"\n",
    "\tnum3 = num1 + num2\n",
    "\n",
    "\treturn num3\n",
    "\n",
    "# Driver code\n",
    "num1, num2 = 5, 15\n",
    "ans = add(num1, num2)\n",
    "print(f\"The addition of {num1} and {num2} results {ans}.\")\n"
   ]
  },
  {
   "cell_type": "code",
   "execution_count": 125,
   "id": "d4ac295f",
   "metadata": {},
   "outputs": [
    {
     "name": "stdout",
     "output_type": "stream",
     "text": [
      "Original List:  [1, 2, 2, 2, 3, 4, 4, 5, 6, 7, 8, 8]\n",
      "List after removing duplicate elements:  [1, 2, 3, 4, 5, 6, 7, 8]\n"
     ]
    }
   ],
   "source": [
    "Lii = [1,2,2,2,3,4,4,5,6,7,8,8]\n",
    "print(\"Original List: \", Lii)\n",
    "res = [*set(Lii)]\n",
    "print(\"List after removing duplicate elements: \", res)"
   ]
  },
  {
   "cell_type": "code",
   "execution_count": 129,
   "id": "54efc04b",
   "metadata": {},
   "outputs": [
    {
     "data": {
      "text/plain": [
       "9"
      ]
     },
     "execution_count": 129,
     "metadata": {},
     "output_type": "execute_result"
    }
   ],
   "source": [
    "Nums = [4,2,9]\n",
    "max(Nums)"
   ]
  },
  {
   "cell_type": "code",
   "execution_count": 130,
   "id": "0bc2849e",
   "metadata": {},
   "outputs": [
    {
     "name": "stdout",
     "output_type": "stream",
     "text": [
      "[2, 4, 6, 8, 10, 12]\n"
     ]
    }
   ],
   "source": [
    "def is_even_num(l):\n",
    "    enum = []\n",
    "    for n in l:\n",
    "        if n % 2 == 0:\n",
    "            enum.append(n)\n",
    "    return enum\n",
    "print(is_even_num([1, 2, 3, 4, 5, 6, 7, 8, 9,10,11,12]))"
   ]
  },
  {
   "cell_type": "code",
   "execution_count": 12,
   "id": "11613506",
   "metadata": {},
   "outputs": [
    {
     "name": "stdout",
     "output_type": "stream",
     "text": [
      "\n",
      "Longest word:  Exercises\n",
      "Length of the longest word:  9\n"
     ]
    }
   ],
   "source": [
    "def find_longest_word(words_list):\n",
    "    word_len = []\n",
    "    for n in words_list:\n",
    "        word_len.append((len(n), n))\n",
    "    word_len.sort()\n",
    "    return word_len[-1][0], word_len[-1][1]\n",
    "result = find_longest_word([\"PHP\", \"Exercises\", \"Backend\"])\n",
    "print(\"\\nLongest word: \",result[1])\n",
    "print(\"Length of the longest word: \",result[0])"
   ]
  },
  {
   "cell_type": "code",
   "execution_count": 21,
   "id": "d00cce5c",
   "metadata": {},
   "outputs": [
    {
     "name": "stdout",
     "output_type": "stream",
     "text": [
      "Enter list of strings: \"gogreen\",\"edfwf\",\"sdfvs\"\n",
      "Longest String: gogreen\n"
     ]
    }
   ],
   "source": [
    "l = eval(input(\"Enter list of strings: \"))\n",
    "largeIdx = 0\n",
    "largeLen = 0\n",
    "\n",
    "for i in range(len(l)):\n",
    "    length = len(l[i])\n",
    "    if length > largeLen:\n",
    "        largeLen = length\n",
    "        largeIdx = i\n",
    "print(\"Longest String:\", l[largeIdx])"
   ]
  },
  {
   "cell_type": "code",
   "execution_count": 22,
   "id": "0d0c69c1",
   "metadata": {},
   "outputs": [
    {
     "name": "stdout",
     "output_type": "stream",
     "text": [
      "sdjfh sdjhf sjkdnhg\n",
      "['sjkdnhg', 'sdjfh', 'sdjhf']\n"
     ]
    }
   ],
   "source": [
    "N=[5,6,7,8,9]"
   ]
  },
  {
   "cell_type": "code",
   "execution_count": 30,
   "id": "b904851f",
   "metadata": {},
   "outputs": [
    {
     "name": "stdout",
     "output_type": "stream",
     "text": [
      "Enter a list:5,6,78,9\n"
     ]
    },
    {
     "ename": "TypeError",
     "evalue": "'tuple' object does not support item assignment",
     "output_type": "error",
     "traceback": [
      "\u001b[1;31m---------------------------------------------------------------------------\u001b[0m",
      "\u001b[1;31mTypeError\u001b[0m                                 Traceback (most recent call last)",
      "\u001b[1;32m~\\AppData\\Local\\Temp\\ipykernel_9392\\1626302263.py\u001b[0m in \u001b[0;36m<module>\u001b[1;34m\u001b[0m\n\u001b[0;32m      5\u001b[0m \u001b[1;33m\u001b[0m\u001b[0m\n\u001b[0;32m      6\u001b[0m \u001b[1;32mfor\u001b[0m \u001b[0mi\u001b[0m \u001b[1;32min\u001b[0m \u001b[0mrange\u001b[0m\u001b[1;33m(\u001b[0m\u001b[1;33m-\u001b[0m\u001b[1;36m1\u001b[0m\u001b[1;33m,\u001b[0m\u001b[1;33m-\u001b[0m\u001b[0mlength\u001b[0m\u001b[1;33m,\u001b[0m\u001b[1;33m-\u001b[0m\u001b[1;36m1\u001b[0m\u001b[1;33m)\u001b[0m\u001b[1;33m:\u001b[0m\u001b[1;33m\u001b[0m\u001b[1;33m\u001b[0m\u001b[0m\n\u001b[1;32m----> 7\u001b[1;33m     \u001b[0mN\u001b[0m\u001b[1;33m[\u001b[0m\u001b[0mi\u001b[0m\u001b[1;33m]\u001b[0m \u001b[1;33m=\u001b[0m \u001b[0mN\u001b[0m\u001b[1;33m[\u001b[0m\u001b[0mi\u001b[0m\u001b[1;33m-\u001b[0m\u001b[1;36m1\u001b[0m\u001b[1;33m]\u001b[0m\u001b[1;33m\u001b[0m\u001b[1;33m\u001b[0m\u001b[0m\n\u001b[0m\u001b[0;32m      8\u001b[0m \u001b[0mN\u001b[0m\u001b[1;33m[\u001b[0m\u001b[1;36m0\u001b[0m\u001b[1;33m]\u001b[0m \u001b[1;33m=\u001b[0m \u001b[0mtemp\u001b[0m\u001b[1;33m\u001b[0m\u001b[1;33m\u001b[0m\u001b[0m\n\u001b[0;32m      9\u001b[0m \u001b[1;33m\u001b[0m\u001b[0m\n",
      "\u001b[1;31mTypeError\u001b[0m: 'tuple' object does not support item assignment"
     ]
    }
   ],
   "source": [
    "N = eval(input(\"Enter a list:\"))\n",
    "\n",
    "length = len(N)\n",
    "temp = N[-1]\n",
    "\n",
    "for i in range(-1,-length,-1):\n",
    "    N[i] = N[i-1]\n",
    "N[0] = temp\n",
    "\n",
    "print(\"Rotated list:\",N)"
   ]
  },
  {
   "cell_type": "code",
   "execution_count": 31,
   "id": "06aa43e7",
   "metadata": {},
   "outputs": [
    {
     "name": "stdout",
     "output_type": "stream",
     "text": [
      "Enter the list: 5,6,7,8,9\n",
      "Original List\n",
      "(5, 6, 7, 8, 9)\n",
      "Rotated List\n",
      "(9, 5, 6, 7, 8)\n"
     ]
    }
   ],
   "source": [
    "l = eval(input(\"Enter the list: \"))\n",
    "print(\"Original List\")\n",
    "print(l)\n",
    "\n",
    "l = l[-1:] + l[:-1]\n",
    "\n",
    "print(\"Rotated List\")\n",
    "print(l)"
   ]
  },
  {
   "cell_type": "code",
   "execution_count": 32,
   "id": "7e97c5dc",
   "metadata": {},
   "outputs": [
    {
     "name": "stdout",
     "output_type": "stream",
     "text": [
      "Sum of 1 row: 6\n",
      "Sum of 2 row: 15\n",
      "Sum of 3 row: 24\n",
      "Sum of 1 column: 12\n",
      "Sum of 2 column: 15\n",
      "Sum of 3 column: 18\n"
     ]
    }
   ],
   "source": [
    "a = [    \n",
    "        [1, 2, 3],  \n",
    "        [4, 5, 6],  \n",
    "        [7, 8, 9]  \n",
    "    ];  \n",
    "   \n",
    "rows = len(a);  \n",
    "cols = len(a[0]);  \n",
    "   \n",
    "for i in range(0, rows):  \n",
    "    sumRow = 0;  \n",
    "    for j in range(0, cols):  \n",
    "        sumRow = sumRow + a[i][j];  \n",
    "    print(\"Sum of \" + str(i+1) +\" row: \" + str(sumRow));  \n",
    "   \n",
    "for i in range(0, rows):  \n",
    "    sumCol = 0;  \n",
    "    for j in range(0, cols):  \n",
    "        sumCol = sumCol + a[j][i];  \n",
    "    print(\"Sum of \" + str(i+1) +\" column: \" + str(sumCol));"
   ]
  },
  {
   "cell_type": "code",
   "execution_count": 36,
   "id": "7be3d680",
   "metadata": {},
   "outputs": [
    {
     "name": "stdout",
     "output_type": "stream",
     "text": [
      "3 3 \n",
      "6 6 \n"
     ]
    }
   ],
   "source": [
    "def multiply(m1, m2, mat1, n1, n2, mat2):\n",
    "\tres = [[0 for x in range(n2)] for y in range(m1)]\n",
    "\tfor i in range(m1):\n",
    "\t\tfor j in range(n2):\n",
    "\t\t\tres[i][j] = 0\n",
    "\t\t\tfor x in range(m2):\n",
    "\t\t\t\tres[i][j] += mat1[i][x] * mat2[x][j]\n",
    "\tfor i in range(m1):\n",
    "\t\tfor j in range(n2):\n",
    "\t\t\tprint(res[i][j], end=\" \")\n",
    "\t\tprint()\n",
    "m1 = 2\n",
    "m2 = 2\n",
    "n1 = 2\n",
    "n2 = 2\n",
    "mat1 = [[1, 1], [2, 2]]\n",
    "mat2 = [[1, 1], [2, 2]]\n",
    "multiply(m1, m2, mat1, n1, n2, mat2)"
   ]
  },
  {
   "cell_type": "code",
   "execution_count": 38,
   "id": "87577e3a",
   "metadata": {},
   "outputs": [
    {
     "name": "stdout",
     "output_type": "stream",
     "text": [
      "[114, 160, 60, 27]\n",
      "[74, 97, 73, 14]\n",
      "[119, 157, 112, 23]\n"
     ]
    }
   ],
   "source": [
    "X = [[12,7,3],\n",
    "    [4 ,5,6],\n",
    "    [7 ,8,9]]\n",
    "Y = [[5,8,1,2],\n",
    "    [6,7,3,0],\n",
    "    [4,5,9,1]]\n",
    "result = [[sum(a*b for a,b in zip(X_row,Y_col)) for Y_col in zip(*Y)] for X_row in X]\n",
    "\n",
    "for r in result:\n",
    "   print(r)"
   ]
  },
  {
   "cell_type": "code",
   "execution_count": 40,
   "id": "0fbc5200",
   "metadata": {},
   "outputs": [
    {
     "name": "stdout",
     "output_type": "stream",
     "text": [
      "Sum found at indexes 7\n"
     ]
    }
   ],
   "source": [
    "def subArraySum(arr, n, sum):\n",
    "\n",
    "\tfor i in range(0,n):\n",
    "\t\tcurrentSum = arr[i]\n",
    "\t\tif(currentSum == sum):\n",
    "\t\t\tprint(\"Sum found at indexes\",i)\n",
    "\t\t\treturn\n",
    "\t\telse:\n",
    "\t\t\tfor j in range(i+1,n):\n",
    "\t\t\t\tcurrentSum += arr[i]\n",
    "\t\t\t\tif(currentSum == sum):\n",
    "\t\t\t\t\tprint(\"Sum found between indexes\",i,\"and\",j)\n",
    "\t\t\t\t\treturn\n",
    "\tprint(\"No Subarray Found\")\n",
    "\n",
    "if __name__ == \"__main__\":\n",
    "\tarr = [15,2,4,8,9,5,10,23]\n",
    "\tn = len(arr)\n",
    "\tsum = 23\n",
    "\tsubArraySum(arr, n, sum)\n"
   ]
  },
  {
   "cell_type": "code",
   "execution_count": 47,
   "id": "49633163",
   "metadata": {},
   "outputs": [
    {
     "ename": "IndentationError",
     "evalue": "expected an indented block (3485147520.py, line 7)",
     "output_type": "error",
     "traceback": [
      "\u001b[1;36m  File \u001b[1;32m\"C:\\Users\\alias\\AppData\\Local\\Temp\\ipykernel_9392\\3485147520.py\"\u001b[1;36m, line \u001b[1;32m7\u001b[0m\n\u001b[1;33m    if i > max :\u001b[0m\n\u001b[1;37m    ^\u001b[0m\n\u001b[1;31mIndentationError\u001b[0m\u001b[1;31m:\u001b[0m expected an indented block\n"
     ]
    }
   ],
   "source": [
    "# Python3 program to Find missing\n",
    "# integers in list\n",
    "\t\t\n",
    "def find_missing(lst):\n",
    "\tmax = lst[0]\n",
    "\tfor i in lst :\n",
    "\tif i > max :\n",
    "\t\tmax= i\n",
    "\t\t\n",
    "\tmin = lst [0]\n",
    "\tfor i in lst :\n",
    "\tif i < min:\n",
    "\t\tmin = i\n",
    "\tmissing = max+1\n",
    "\tlist1=[]\n",
    "\n",
    "\tfor _ in lst :\n",
    "\t\n",
    "\t\tmax = max -1\n",
    "\t\tif max not in lst :\n",
    "\t\tlist1.append(max)\n",
    "\t\t\n",
    "\t\t\n",
    "\n",
    "\t\t\n",
    "\t\t\n",
    "\t\n",
    "\treturn list1\n",
    "\n",
    "# Driver code\n",
    "lst = [1,5,4,6,8, 2,3, 7, 9, 10]\n",
    "print(find_missing(lst))\n"
   ]
  },
  {
   "cell_type": "code",
   "execution_count": 52,
   "id": "979fbfd2",
   "metadata": {},
   "outputs": [
    {
     "name": "stdout",
     "output_type": "stream",
     "text": [
      "[3, 5, 8]\n"
     ]
    }
   ],
   "source": [
    "def find_missing(lst):\n",
    "    return [i for x, y in zip(lst, lst[1:])\n",
    "        for i in range(x + 1, y) if y - x > 1]\n",
    "\n",
    "lst = [1, 2, 4, 6, 7, 9, 10]\n",
    "print(find_missing(lst))"
   ]
  },
  {
   "cell_type": "code",
   "execution_count": 60,
   "id": "2fd9ef45",
   "metadata": {},
   "outputs": [
    {
     "name": "stdout",
     "output_type": "stream",
     "text": [
      "frozenset({'Sunday', 'Monday', 'Friday', 'Tuesday', 'Saturday', 'Thursday', 'Wednesday'})\n"
     ]
    }
   ],
   "source": [
    "nameof_week={\"Sunday\",\"Monday\",\"Tuesday\",\"Wednesday\",\"Thursday\",\"Friday\",\"Saturday\"}\n",
    "fr=frozenset(nameof_week)\n",
    "print(fr)"
   ]
  },
  {
   "cell_type": "code",
   "execution_count": 69,
   "id": "d13cc9d4",
   "metadata": {},
   "outputs": [
    {
     "name": "stdout",
     "output_type": "stream",
     "text": [
      "3\n"
     ]
    }
   ],
   "source": [
    "Item= 2, 4, 5, 6, 2, 3, 4, 4, 7 \n",
    "\n",
    "Item= 2, 4, 5, 6, 2, 3, 4, 4, 7 \n",
    "x = Item.count(4)\n",
    "print(x)"
   ]
  },
  {
   "cell_type": "code",
   "execution_count": 72,
   "id": "e12a8c7e",
   "metadata": {},
   "outputs": [
    {
     "name": "stdout",
     "output_type": "stream",
     "text": [
      "frozenset({'Monday', 'Thursday', 'Sunday', 'Friday', 'Tuesday', 'Saturday', 'Wednesday'})\n"
     ]
    }
   ],
   "source": [
    "myString =\"Sunday\",\"Monday\",\"Tuesday\",\"Wednesday\",\"Thursday\",\"Friday\",\"Saturday\",\"Saturday\"\n",
    "frozenString = frozenset(myString)\n",
    "print(frozenString)"
   ]
  },
  {
   "cell_type": "code",
   "execution_count": 73,
   "id": "1beed865",
   "metadata": {},
   "outputs": [
    {
     "name": "stdout",
     "output_type": "stream",
     "text": [
      "{'February', 'October', 'December', 'July', 'April', 'September', 'January', 'May', 'June', 'November', 'March', 'August'}\n"
     ]
    }
   ],
   "source": [
    "InitilizeTheSet = {'January','February','March'}\n",
    "addset = {'April','May','June','July','August','September','October','November','December'}\n",
    "s=InitilizeTheSet.union(addset)\n",
    "print(s)"
   ]
  },
  {
   "cell_type": "code",
   "execution_count": 76,
   "id": "101abbc2",
   "metadata": {},
   "outputs": [
    {
     "ename": "FileNotFoundError",
     "evalue": "[Errno 2] No such file or directory: 'animals.txt'",
     "output_type": "error",
     "traceback": [
      "\u001b[1;31m---------------------------------------------------------------------------\u001b[0m",
      "\u001b[1;31mFileNotFoundError\u001b[0m                         Traceback (most recent call last)",
      "\u001b[1;32m~\\AppData\\Local\\Temp\\ipykernel_9392\\3628432084.py\u001b[0m in \u001b[0;36m<module>\u001b[1;34m\u001b[0m\n\u001b[0;32m      4\u001b[0m \u001b[0mtime\u001b[0m\u001b[1;33m.\u001b[0m\u001b[0msleep\u001b[0m\u001b[1;33m(\u001b[0m\u001b[1;36m10\u001b[0m\u001b[1;33m)\u001b[0m\u001b[1;33m\u001b[0m\u001b[1;33m\u001b[0m\u001b[0m\n\u001b[0;32m      5\u001b[0m \u001b[1;33m\u001b[0m\u001b[0m\n\u001b[1;32m----> 6\u001b[1;33m \u001b[0mtxt\u001b[0m \u001b[1;33m=\u001b[0m \u001b[0mopen\u001b[0m\u001b[1;33m(\u001b[0m\u001b[1;34m'animals.txt'\u001b[0m\u001b[1;33m,\u001b[0m\u001b[1;34m'r'\u001b[0m\u001b[1;33m)\u001b[0m\u001b[1;33m\u001b[0m\u001b[1;33m\u001b[0m\u001b[0m\n\u001b[0m\u001b[0;32m      7\u001b[0m \u001b[1;33m\u001b[0m\u001b[0m\n\u001b[0;32m      8\u001b[0m \u001b[0ma\u001b[0m   \u001b[1;33m=\u001b[0m \u001b[1;34m\"Moin is a\"\u001b[0m\u001b[1;33m\u001b[0m\u001b[1;33m\u001b[0m\u001b[0m\n",
      "\u001b[1;31mFileNotFoundError\u001b[0m: [Errno 2] No such file or directory: 'animals.txt'"
     ]
    }
   ],
   "source": [
    "import pyautogui as pg\n",
    "import time\n",
    "\n",
    "time.sleep(10)\n",
    "\n",
    "txt = open('animals.txt','r')\n",
    "\n",
    "a   = \"Moin is a\"\n",
    "\n",
    "for i in txt:\n",
    "           pg.write(a+' '+i)\n",
    "           pg.press('Enter')"
   ]
  },
  {
   "cell_type": "code",
   "execution_count": 79,
   "id": "50b7b400",
   "metadata": {},
   "outputs": [
    {
     "name": "stdout",
     "output_type": "stream",
     "text": [
      "{'e': 3, 'k': 1, 'd': 1, 'a': 1}\n"
     ]
    }
   ],
   "source": [
    "stringg={'e':3,'k':1,'d':1,'a':1}\n",
    "type(stringg)\n",
    "print(stringg)"
   ]
  },
  {
   "cell_type": "code",
   "execution_count": 83,
   "id": "af6b484d",
   "metadata": {},
   "outputs": [
    {
     "name": "stdout",
     "output_type": "stream",
     "text": [
      "[1, 4, 9, 16, 25, 36, 49, 64, 81]\n"
     ]
    }
   ],
   "source": [
    "def printValues():\n",
    "\tl = list()\n",
    "\tfor i in range(1,10):\n",
    "\t\tl.append(i**2)\n",
    "\tprint(l)\n",
    "\t\t\n",
    "printValues()"
   ]
  },
  {
   "cell_type": "code",
   "execution_count": 85,
   "id": "69e03cc0",
   "metadata": {},
   "outputs": [
    {
     "name": "stdout",
     "output_type": "stream",
     "text": [
      "Enter a Number to check its prime or Not11\n",
      "11 is a prime number\n"
     ]
    }
   ],
   "source": [
    "num =int(input(\"Enter a Number to check its prime or Not\"))\n",
    "if num > 1:\n",
    "\tfor i in range(2, int(num/2)+1):\n",
    "\t\tif (num % i) == 0:\n",
    "\t\t\tprint(num, \"is not a prime number\")\n",
    "\t\t\tbreak\n",
    "\telse:\n",
    "\t\tprint(num, \"is a prime number\")\n",
    "else:\n",
    "\tprint(num, \"is not a prime number\")"
   ]
  },
  {
   "cell_type": "code",
   "execution_count": null,
   "id": "1313d8af",
   "metadata": {},
   "outputs": [],
   "source": [
    "def string_test(s):\n",
    "    d={\"UPPER_CASE\":0, \"LOWER_CASE\":0}\n",
    "    for c in s:\n",
    "        if c.isupper():\n",
    "           d[\"UPPER_CASE\"]+=1\n",
    "        elif c.islower():\n",
    "           d[\"LOWER_CASE\"]+=1\n",
    "        else:\n",
    "           pass\n",
    "    print (\"Original String : \", s)\n",
    "    print (\"No. of Upper case characters : \", d[\"UPPER_CASE\"])\n",
    "    print (\"No. of Lower case Characters : \", d[\"LOWER_CASE\"])\n",
    "\n",
    "string_test('The quick Brown Fox')\n",
    "Strinng = “Ekeeda Is The Best Destination for DS”"
   ]
  }
 ],
 "metadata": {
  "kernelspec": {
   "display_name": "Python 3 (ipykernel)",
   "language": "python",
   "name": "python3"
  },
  "language_info": {
   "codemirror_mode": {
    "name": "ipython",
    "version": 3
   },
   "file_extension": ".py",
   "mimetype": "text/x-python",
   "name": "python",
   "nbconvert_exporter": "python",
   "pygments_lexer": "ipython3",
   "version": "3.9.13"
  }
 },
 "nbformat": 4,
 "nbformat_minor": 5
}
