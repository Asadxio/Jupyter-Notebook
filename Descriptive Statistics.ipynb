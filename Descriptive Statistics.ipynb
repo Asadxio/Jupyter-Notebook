{
 "cells": [
  {
   "cell_type": "code",
   "execution_count": 6,
   "id": "04594120",
   "metadata": {},
   "outputs": [],
   "source": [
    "d = {'Name':pd.Series(['Tom','James','Ricky','Vin','Steve','Smith','Jack',\n",
    "   'Lee','Chanchal','Gasper','Naviya','Andres']),\n",
    "   'Age':pd.Series([25,26,25,23,30,29,23,34,40,30,51,46]),\n",
    "   'Rating':pd.Series([4.23,3.24,3.98,2.56,3.20,4.6,3.8,3.78,2.98,4.80,4.10,3.65])}"
   ]
  },
  {
   "cell_type": "code",
   "execution_count": 8,
   "id": "08760f7f",
   "metadata": {},
   "outputs": [
    {
     "name": "stdout",
     "output_type": "stream",
     "text": [
      "Mean of Age column:  31.833333333333332\n",
      "Median of Age column:  29.5\n",
      "Mean of Rating column:  3.7433333333333336\n",
      "Median of Rating column:  3.79\n"
     ]
    }
   ],
   "source": [
    "import pandas as pd\n",
    "df = pd.DataFrame(d)\n",
    "mean_age = df['Age'].mean()\n",
    "median_age = df['Age'].median()\n",
    "mean_rating = df['Rating'].mean()\n",
    "median_rating = df['Rating'].median()\n",
    "print(\"Mean of Age column: \", mean_age)\n",
    "print(\"Median of Age column: \", median_age)\n",
    "print(\"Mean of Rating column: \", mean_rating)\n",
    "print(\"Median of Rating column: \", median_rating)"
   ]
  },
  {
   "cell_type": "code",
   "execution_count": 11,
   "id": "72703490",
   "metadata": {},
   "outputs": [
    {
     "name": "stdout",
     "output_type": "stream",
     "text": [
      "Mean of Dataframe:  Age       31.833333\n",
      "Rating     3.743333\n",
      "dtype: float64\n",
      "Median of Dataframe:  Age       29.50\n",
      "Rating     3.79\n",
      "dtype: float64\n"
     ]
    },
    {
     "name": "stderr",
     "output_type": "stream",
     "text": [
      "C:\\Users\\alias\\AppData\\Local\\Temp\\ipykernel_6324\\2249740443.py:1: FutureWarning: Dropping of nuisance columns in DataFrame reductions (with 'numeric_only=None') is deprecated; in a future version this will raise TypeError.  Select only valid columns before calling the reduction.\n",
      "  mean_df = df.mean()\n",
      "C:\\Users\\alias\\AppData\\Local\\Temp\\ipykernel_6324\\2249740443.py:2: FutureWarning: Dropping of nuisance columns in DataFrame reductions (with 'numeric_only=None') is deprecated; in a future version this will raise TypeError.  Select only valid columns before calling the reduction.\n",
      "  median_df = df.median()\n"
     ]
    }
   ],
   "source": [
    "mean_df = df.mean()\n",
    "median_df = df.median()\n",
    "print(\"Mean of Dataframe: \", mean_df)\n",
    "print(\"Median of Dataframe: \", median_df)"
   ]
  },
  {
   "cell_type": "code",
   "execution_count": null,
   "id": "fed54910",
   "metadata": {},
   "outputs": [],
   "source": []
  }
 ],
 "metadata": {
  "kernelspec": {
   "display_name": "Python 3 (ipykernel)",
   "language": "python",
   "name": "python3"
  },
  "language_info": {
   "codemirror_mode": {
    "name": "ipython",
    "version": 3
   },
   "file_extension": ".py",
   "mimetype": "text/x-python",
   "name": "python",
   "nbconvert_exporter": "python",
   "pygments_lexer": "ipython3",
   "version": "3.9.13"
  }
 },
 "nbformat": 4,
 "nbformat_minor": 5
}
