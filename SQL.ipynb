{
 "cells": [
  {
   "cell_type": "code",
   "execution_count": 2,
   "id": "564fa5b5",
   "metadata": {},
   "outputs": [],
   "source": [
    "import mysql.connector"
   ]
  },
  {
   "cell_type": "code",
   "execution_count": 12,
   "id": "0b13d47a",
   "metadata": {},
   "outputs": [
    {
     "ename": "SyntaxError",
     "evalue": "invalid syntax (2931028798.py, line 3)",
     "output_type": "error",
     "traceback": [
      "\u001b[1;36m  File \u001b[1;32m\"C:\\Users\\alias\\AppData\\Local\\Temp\\ipykernel_12016\\2931028798.py\"\u001b[1;36m, line \u001b[1;32m3\u001b[0m\n\u001b[1;33m    denominator = 0\u001b[0m\n\u001b[1;37m    ^\u001b[0m\n\u001b[1;31mSyntaxError\u001b[0m\u001b[1;31m:\u001b[0m invalid syntax\n"
     ]
    }
   ],
   "source": [
    "try:\n",
    "    numerator = 10\n",
    "denominator = 0\n",
    "\n",
    "result = numerator/denominator\n",
    "\n",
    "print(result)\n",
    "#except:\n",
    "    #print(\"Error: Denominator cannot be 0.\")\n",
    "\n",
    "# Output: Error: Denominator cannot be 0. "
   ]
  },
  {
   "cell_type": "code",
   "execution_count": 15,
   "id": "fcab767f",
   "metadata": {},
   "outputs": [],
   "source": [
    "try:\n",
    "\tf = open(\"C:/Users/alias/Desktop/pip commands.txt\")\n",
    "\n",
    "except OSError as e:\n",
    "\tif e.errno == errno.ENOENT:\n",
    "\t\tlogger.error('File not found')\n",
    "\telif e.errno == errno.EACCES:\n",
    "\t\tlogger.error('Permission denied')\n",
    "\telse:\n",
    "\t\tlogger.error('Unexpected error: % d', e.errno)"
   ]
  },
  {
   "cell_type": "code",
   "execution_count": 19,
   "id": "aabadf37",
   "metadata": {},
   "outputs": [
    {
     "ename": "IndentationError",
     "evalue": "unindent does not match any outer indentation level (<tokenize>, line 6)",
     "output_type": "error",
     "traceback": [
      "\u001b[1;36m  File \u001b[1;32m\"<tokenize>\"\u001b[1;36m, line \u001b[1;32m6\u001b[0m\n\u001b[1;33m    except ValueError:\u001b[0m\n\u001b[1;37m    ^\u001b[0m\n\u001b[1;31mIndentationError\u001b[0m\u001b[1;31m:\u001b[0m unindent does not match any outer indentation level\n"
     ]
    }
   ],
   "source": [
    "a = int(input(\"Enter first number: \"))\n",
    "                   b = int(input(\"Enter second number: \"))\n",
    "                   quotient=(a/b)\n",
    "                   if b == 0:\n",
    "                   raise ValueError(\"can't be zero\")\n",
    "               except ValueError:\n",
    "                    print(\"division by zero error\")\n",
    "               else:\n",
    "                   print (quotient)\n"
   ]
  },
  {
   "cell_type": "code",
   "execution_count": null,
   "id": "824eec3c",
   "metadata": {},
   "outputs": [],
   "source": []
  }
 ],
 "metadata": {
  "kernelspec": {
   "display_name": "Python 3 (ipykernel)",
   "language": "python",
   "name": "python3"
  },
  "language_info": {
   "codemirror_mode": {
    "name": "ipython",
    "version": 3
   },
   "file_extension": ".py",
   "mimetype": "text/x-python",
   "name": "python",
   "nbconvert_exporter": "python",
   "pygments_lexer": "ipython3",
   "version": "3.9.13"
  }
 },
 "nbformat": 4,
 "nbformat_minor": 5
}
